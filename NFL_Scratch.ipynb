{
 "cells": [
  {
   "cell_type": "code",
   "execution_count": 1,
   "metadata": {},
   "outputs": [],
   "source": [
    "import pandas as pd\n",
    "import numpy as np\n",
    "import math"
   ]
  },
  {
   "cell_type": "code",
   "execution_count": 2,
   "metadata": {
    "scrolled": true
   },
   "outputs": [],
   "source": [
    "nfl = pd.read_csv(\"data/NFL_Plays.csv\", low_memory=False)\n",
    "spread = pd.read_csv(\"data/spreadspoke_scores.csv\", low_memory=False)"
   ]
  },
  {
   "cell_type": "code",
   "execution_count": 3,
   "metadata": {},
   "outputs": [],
   "source": [
    "nfl_teams = nfl[[\"Date\", \"GameID\", \"HomeTeam\", \"AwayTeam\"]]"
   ]
  },
  {
   "cell_type": "code",
   "execution_count": 31,
   "metadata": {},
   "outputs": [],
   "source": [
    "teams = {\"ARI\":\"Arizona Cardinals\", \"ATL\":\"Atlanta Falcons\", \"BAL\":\"Baltimore Ravens\", \"BUF\":\"Buffalo Bills\", \n",
    "         \"CAR\":\"Carolina Panthers\", \"CHI\":\"Chicago Bears\", \"CIN\":\"Cincinnati Bengals\", \"CLE\":\"Cleveland Browns\", \n",
    "         \"DAL\":\"Dallas Cowboys\", \"DEN\":\"Denver Broncos\", \"DET\":\"Detroit Lions\", \"GB\":\"Green Bay Packers\", \n",
    "         \"HOU\":\"Houston Texans\", \"IND\":\"Indianapolis Colts\", \"JAX\":\"Jacksonville Jaguars\", \"JAC\":\"Jacksonville Jaguars\", \"KC\":\"Kansas City Cheifs\", \n",
    "         \"LA\":\"Los Angeles Rams\", \"LAC\":\"Los Angeles Chargers\", \"MIA\":\"Miami Dolphins\", \n",
    "         \"MIN\":\"Minnesota Vikings\", \"NE\":\"New England Patriots\", \"NO\":\"New Orleans Saints\", \"NYG\":\"New York Giants\", \n",
    "         \"NYJ\":\"New York Jets\", \"OAK\":\"Oakland Raiders\", \"PHI\":\"Philadelphia Eagles\", \"PIT\":\"Pittsburgh Steelers\", \n",
    "         \"SD\":\"San Diego Chargers\", \"SEA\":\"Seattle Seahawks\", \"SF\":\"San Francisco 49ers\", \"STL\":\"St. Louis Rams\", \n",
    "         \"TB\":\"Tampa Bay Buccaneers\", \"TEN\":\"Tennessee Titans\", \"WAS\":\"Washington Redskins\"}"
   ]
  },
  {
   "cell_type": "code",
   "execution_count": 5,
   "metadata": {},
   "outputs": [],
   "source": [
    "spread_games = list()\n",
    "for game in range(len(spread[\"spread_favorite\"])):\n",
    "    if not math.isnan(spread[\"spread_favorite\"][game]):\n",
    "        if int(spread[\"schedule_date\"][game][6:10]) >= 2009:\n",
    "            spread_games.append(spread.iloc[game])\n",
    "    else:\n",
    "        pass"
   ]
  },
  {
   "cell_type": "code",
   "execution_count": 6,
   "metadata": {},
   "outputs": [],
   "source": [
    "spread_games = pd.DataFrame(spread_games)"
   ]
  },
  {
   "cell_type": "code",
   "execution_count": 7,
   "metadata": {},
   "outputs": [],
   "source": [
    "spread_dates_list = list()\n",
    "for date in spread_games[\"schedule_date\"]:\n",
    "    spread_dates_list.append(date)\n",
    "for date in range(len(spread_dates_list)):\n",
    "    spread_dates_list[date] = spread_dates_list[date][6:10] + \"/\" + spread_dates_list[date][0:2] \\\n",
    "    + \"/\" + spread_dates_list[date][3:5]"
   ]
  },
  {
   "cell_type": "code",
   "execution_count": 8,
   "metadata": {},
   "outputs": [],
   "source": [
    "spread_games.drop(columns=[\"schedule_date\"])\n",
    "spread_games[\"schedule_date\"] = spread_dates_list"
   ]
  },
  {
   "cell_type": "code",
   "execution_count": 9,
   "metadata": {},
   "outputs": [],
   "source": [
    "nfl_dates_list = list()\n",
    "for date in nfl_teams[\"Date\"]:\n",
    "    nfl_dates_list.append(date.replace(\"-\", \"/\"))"
   ]
  },
  {
   "cell_type": "code",
   "execution_count": 10,
   "metadata": {},
   "outputs": [],
   "source": [
    "nfl_teams = nfl_teams.drop(columns=[\"Date\"])\n",
    "nfl_teams[\"Date\"] = nfl_dates_list\n",
    "cols = nfl_teams.columns.tolist()\n",
    "cols = cols[-1:] + cols[:-1]\n",
    "nfl_teams = nfl_teams[cols]"
   ]
  },
  {
   "cell_type": "code",
   "execution_count": 11,
   "metadata": {},
   "outputs": [],
   "source": [
    "nfl_dates_set = set()\n",
    "for date in nfl_dates_list:\n",
    "    nfl_dates_set.add(date)"
   ]
  },
  {
   "cell_type": "code",
   "execution_count": 12,
   "metadata": {},
   "outputs": [],
   "source": [
    "spread_dates = set(spread_dates_list)"
   ]
  },
  {
   "cell_type": "code",
   "execution_count": 13,
   "metadata": {},
   "outputs": [],
   "source": [
    "accounted_dates = nfl_dates_set.intersection(spread_dates)"
   ]
  },
  {
   "cell_type": "code",
   "execution_count": 14,
   "metadata": {},
   "outputs": [],
   "source": [
    "nfl_df = pd.DataFrame(list(accounted_dates), columns=[\"Date\"])"
   ]
  },
  {
   "cell_type": "code",
   "execution_count": 15,
   "metadata": {
    "scrolled": true
   },
   "outputs": [],
   "source": [
    "nfl_teams = np.array(nfl_teams)"
   ]
  },
  {
   "cell_type": "code",
   "execution_count": 16,
   "metadata": {},
   "outputs": [],
   "source": [
    "unique_games = set()\n",
    "for game in nfl_teams:\n",
    "    unique_games.add(tuple(game))"
   ]
  },
  {
   "cell_type": "code",
   "execution_count": 17,
   "metadata": {},
   "outputs": [],
   "source": [
    "matched_games = set()\n",
    "for game in unique_games:\n",
    "    if game[0] in accounted_dates:\n",
    "        matched_games.add(game)"
   ]
  },
  {
   "cell_type": "code",
   "execution_count": 18,
   "metadata": {},
   "outputs": [],
   "source": [
    "accounted_spread_games = spread_games[[\"schedule_date\", \"team_home\", \"team_away\", \\\n",
    "                                       \"score_home\", \"score_away\", \"team_favorite_id\", \\\n",
    "                                       \"spread_favorite\", \"over_under_line\"]]"
   ]
  },
  {
   "cell_type": "code",
   "execution_count": 19,
   "metadata": {},
   "outputs": [],
   "source": [
    "accounted_spread_array = np.array(accounted_spread_games)"
   ]
  },
  {
   "cell_type": "code",
   "execution_count": 20,
   "metadata": {},
   "outputs": [],
   "source": [
    "matched_scores = list()\n",
    "for game in accounted_spread_array:\n",
    "    for g in matched_games:\n",
    "        if game[0] == g[0] and game[1] == teams[g[2]] and game[2] == teams[g[3]]:\n",
    "            game = tuple(game) + (g[1],)\n",
    "            matched_scores.append(tuple(game))"
   ]
  },
  {
   "cell_type": "code",
   "execution_count": 21,
   "metadata": {},
   "outputs": [],
   "source": [
    "new_df = pd.DataFrame(matched_scores, columns=[\"Date\", \"Home Team\", \"Away Team\", \\\n",
    "                                               \"Home Score\", \"Away Score\", \"Favorite Team ID\",\\\n",
    "                                               \"Spread Favorite\", \"Over Under\", \"Game ID\"])"
   ]
  },
  {
   "cell_type": "code",
   "execution_count": 22,
   "metadata": {},
   "outputs": [],
   "source": [
    "new_cols = new_df.columns.tolist()\n",
    "new_cols = new_cols[-1:] + new_cols[:-1]\n",
    "new_df = new_df[new_cols]"
   ]
  },
  {
   "cell_type": "code",
   "execution_count": null,
   "metadata": {},
   "outputs": [],
   "source": []
  }
 ],
 "metadata": {
  "kernelspec": {
   "display_name": "Python 3",
   "language": "python",
   "name": "python3"
  },
  "language_info": {
   "codemirror_mode": {
    "name": "ipython",
    "version": 3
   },
   "file_extension": ".py",
   "mimetype": "text/x-python",
   "name": "python",
   "nbconvert_exporter": "python",
   "pygments_lexer": "ipython3",
   "version": "3.6.6"
  }
 },
 "nbformat": 4,
 "nbformat_minor": 2
}
