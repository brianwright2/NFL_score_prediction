{
 "cells": [
  {
   "cell_type": "code",
   "execution_count": 1,
   "metadata": {},
   "outputs": [],
   "source": [
    "import pandas as pd\n",
    "import numpy as np\n",
    "import math"
   ]
  },
  {
   "cell_type": "code",
   "execution_count": 2,
   "metadata": {
    "scrolled": true
   },
   "outputs": [],
   "source": [
    "nfl = pd.read_csv(\"data/NFL_Plays.csv\", low_memory=False)\n",
    "spread = pd.read_csv(\"data/spreadspoke_scores.csv\", low_memory=False)"
   ]
  },
  {
   "cell_type": "code",
   "execution_count": 3,
   "metadata": {},
   "outputs": [],
   "source": [
    "nfl_teams = nfl[[\"Date\", \"GameID\", \"HomeTeam\", \"AwayTeam\"]]"
   ]
  },
  {
   "cell_type": "code",
   "execution_count": 4,
   "metadata": {},
   "outputs": [],
   "source": [
    "teams = {\"ARI\":\"Arizona Cardinals\", \"ATL\":\"Atlanta Falcons\", \"BAL\":\"Baltimore Ravens\", \"BUF\":\"Buffalo Bills\", \n",
    "         \"CAR\":\"Carolina Panthers\", \"CHI\":\"Chicago Bears\", \"CIN\":\"Cincinnati Bengals\", \"CLE\":\"Cleveland Browns\", \n",
    "         \"DAL\":\"Dallas Cowboys\", \"DEN\":\"Denver Broncos\", \"DET\":\"Detroit Lions\", \"GB\":\"Green Bay Packers\", \n",
    "         \"HOU\":\"Houston Texans\", \"IND\":\"Indianapolis Colts\", \"JAX\":\"Jacksonville Jaguars\", \"JAC\":\"Jacksonville Jaguars\", \"KC\":\"Kansas City Cheifs\", \n",
    "         \"LA\":\"Los Angeles Rams\", \"LAC\":\"Los Angeles Chargers\", \"MIA\":\"Miami Dolphins\", \n",
    "         \"MIN\":\"Minnesota Vikings\", \"NE\":\"New England Patriots\", \"NO\":\"New Orleans Saints\", \"NYG\":\"New York Giants\", \n",
    "         \"NYJ\":\"New York Jets\", \"OAK\":\"Oakland Raiders\", \"PHI\":\"Philadelphia Eagles\", \"PIT\":\"Pittsburgh Steelers\", \n",
    "         \"SD\":\"San Diego Chargers\", \"SEA\":\"Seattle Seahawks\", \"SF\":\"San Francisco 49ers\", \"STL\":\"St. Louis Cardinals\", \n",
    "         \"TB\":\"Tampa Bay Buccaneers\", \"TEN\":\"Tennessee Titans\", \"WAS\":\"Washington Redskins\"}"
   ]
  },
  {
   "cell_type": "code",
   "execution_count": 5,
   "metadata": {},
   "outputs": [],
   "source": [
    "spread_games = list()\n",
    "for game in range(len(spread[\"spread_favorite\"])):\n",
    "    if not math.isnan(spread[\"spread_favorite\"][game]):\n",
    "        if int(spread[\"schedule_date\"][game][6:10]) > 2009:\n",
    "            spread_games.append(spread.iloc[game])\n",
    "    else:\n",
    "        pass"
   ]
  },
  {
   "cell_type": "code",
   "execution_count": 6,
   "metadata": {},
   "outputs": [],
   "source": [
    "spread_games = pd.DataFrame(spread_games)"
   ]
  },
  {
   "cell_type": "code",
   "execution_count": 7,
   "metadata": {},
   "outputs": [],
   "source": [
    "spread_dates_list = list()\n",
    "for date in spread_games[\"schedule_date\"]:\n",
    "    spread_dates_list.append(date)\n",
    "for date in range(len(spread_dates_list)):\n",
    "    spread_dates_list[date] = spread_dates_list[date][6:10] + \"/\" + spread_dates_list[date][0:2] \\\n",
    "    + \"/\" + spread_dates_list[date][3:5]"
   ]
  },
  {
   "cell_type": "code",
   "execution_count": 8,
   "metadata": {},
   "outputs": [],
   "source": [
    "spread_games.drop(columns=[\"schedule_date\"])\n",
    "spread_games[\"schedule_date\"] = spread_dates_list"
   ]
  },
  {
   "cell_type": "code",
   "execution_count": 9,
   "metadata": {},
   "outputs": [],
   "source": [
    "nfl_dates_list = list()\n",
    "for date in nfl_teams[\"Date\"]:\n",
    "    nfl_dates_list.append(date.replace(\"-\", \"/\"))"
   ]
  },
  {
   "cell_type": "code",
   "execution_count": 10,
   "metadata": {},
   "outputs": [],
   "source": [
    "nfl_teams = nfl_teams.drop(columns=[\"Date\"])\n",
    "nfl_teams[\"Date\"] = nfl_dates_list\n",
    "cols = nfl_teams.columns.tolist()\n",
    "cols = cols[-1:] + cols[:-1]\n",
    "nfl_teams = nfl_teams[cols]"
   ]
  },
  {
   "cell_type": "code",
   "execution_count": 11,
   "metadata": {},
   "outputs": [],
   "source": [
    "nfl_dates_set = set()\n",
    "for date in nfl_dates_list:\n",
    "    nfl_dates_set.add(date)"
   ]
  },
  {
   "cell_type": "code",
   "execution_count": 12,
   "metadata": {},
   "outputs": [],
   "source": [
    "spread_dates = set(spread_dates_list)"
   ]
  },
  {
   "cell_type": "code",
   "execution_count": 13,
   "metadata": {},
   "outputs": [],
   "source": [
    "accounted_dates = nfl_dates_set.intersection(spread_dates)"
   ]
  },
  {
   "cell_type": "code",
   "execution_count": 14,
   "metadata": {},
   "outputs": [],
   "source": [
    "nfl_df = pd.DataFrame(list(accounted_dates), columns=[\"Date\"])"
   ]
  },
  {
   "cell_type": "code",
   "execution_count": 15,
   "metadata": {
    "scrolled": true
   },
   "outputs": [],
   "source": [
    "nfl_teams = np.array(nfl_teams)"
   ]
  },
  {
   "cell_type": "code",
   "execution_count": 16,
   "metadata": {},
   "outputs": [],
   "source": [
    "unique_games = set()\n",
    "for game in nfl_teams:\n",
    "    unique_games.add(tuple(game))"
   ]
  },
  {
   "cell_type": "code",
   "execution_count": 17,
   "metadata": {},
   "outputs": [],
   "source": [
    "matched_games = set()\n",
    "for game in unique_games:\n",
    "    if game[0] in accounted_dates:\n",
    "        matched_games.add(game)"
   ]
  },
  {
   "cell_type": "code",
   "execution_count": 18,
   "metadata": {},
   "outputs": [],
   "source": [
    "accounted_spread_games = spread_games[[\"schedule_date\", \"team_home\", \"team_away\", \\\n",
    "                                       \"score_home\", \"score_away\", \"team_favorite_id\", \\\n",
    "                                       \"spread_favorite\", \"over_under_line\"]]"
   ]
  },
  {
   "cell_type": "code",
   "execution_count": 19,
   "metadata": {},
   "outputs": [],
   "source": [
    "accounted_spread_array = np.array(accounted_spread_games)"
   ]
  },
  {
   "cell_type": "code",
   "execution_count": 20,
   "metadata": {},
   "outputs": [],
   "source": [
    "matched_scores = list()\n",
    "for game in accounted_spread_array:\n",
    "    for g in matched_games:\n",
    "        if game[0] == g[0] and game[1] == teams[g[2]] and game[2] == teams[g[3]]:\n",
    "            game = tuple(game) + (g[1],)\n",
    "            matched_scores.append(tuple(game))"
   ]
  },
  {
   "cell_type": "code",
   "execution_count": 21,
   "metadata": {},
   "outputs": [],
   "source": [
    "new_df = pd.DataFrame(matched_scores, columns=[\"Date\", \"Home Team\", \"Away Team\", \\\n",
    "                                               \"Home Score\", \"Away Score\", \"Favorite Team ID\",\\\n",
    "                                               \"Spread Favorite\", \"Over Under\", \"Game ID\"])"
   ]
  },
  {
   "cell_type": "code",
   "execution_count": 22,
   "metadata": {},
   "outputs": [],
   "source": [
    "new_cols = new_df.columns.tolist()\n",
    "new_cols = new_cols[-1:] + new_cols[:-1]\n",
    "new_df = new_df[new_cols]"
   ]
  },
  {
   "cell_type": "code",
   "execution_count": 23,
   "metadata": {},
   "outputs": [
    {
     "data": {
      "text/html": [
       "<div>\n",
       "<style scoped>\n",
       "    .dataframe tbody tr th:only-of-type {\n",
       "        vertical-align: middle;\n",
       "    }\n",
       "\n",
       "    .dataframe tbody tr th {\n",
       "        vertical-align: top;\n",
       "    }\n",
       "\n",
       "    .dataframe thead th {\n",
       "        text-align: right;\n",
       "    }\n",
       "</style>\n",
       "<table border=\"1\" class=\"dataframe\">\n",
       "  <thead>\n",
       "    <tr style=\"text-align: right;\">\n",
       "      <th></th>\n",
       "      <th>Game ID</th>\n",
       "      <th>Date</th>\n",
       "      <th>Home Team</th>\n",
       "      <th>Away Team</th>\n",
       "      <th>Home Score</th>\n",
       "      <th>Away Score</th>\n",
       "      <th>Favorite Team ID</th>\n",
       "      <th>Spread Favorite</th>\n",
       "      <th>Over Under</th>\n",
       "    </tr>\n",
       "  </thead>\n",
       "  <tbody>\n",
       "    <tr>\n",
       "      <th>0</th>\n",
       "      <td>2010010311</td>\n",
       "      <td>2010/01/03</td>\n",
       "      <td>Arizona Cardinals</td>\n",
       "      <td>Green Bay Packers</td>\n",
       "      <td>7.0</td>\n",
       "      <td>33.0</td>\n",
       "      <td>ARI</td>\n",
       "      <td>-3.0</td>\n",
       "      <td>44</td>\n",
       "    </tr>\n",
       "    <tr>\n",
       "      <th>1</th>\n",
       "      <td>2010010300</td>\n",
       "      <td>2010/01/03</td>\n",
       "      <td>Buffalo Bills</td>\n",
       "      <td>Indianapolis Colts</td>\n",
       "      <td>30.0</td>\n",
       "      <td>7.0</td>\n",
       "      <td>BUF</td>\n",
       "      <td>-8.0</td>\n",
       "      <td>32</td>\n",
       "    </tr>\n",
       "    <tr>\n",
       "      <th>2</th>\n",
       "      <td>2010010301</td>\n",
       "      <td>2010/01/03</td>\n",
       "      <td>Carolina Panthers</td>\n",
       "      <td>New Orleans Saints</td>\n",
       "      <td>23.0</td>\n",
       "      <td>10.0</td>\n",
       "      <td>CAR</td>\n",
       "      <td>-10.0</td>\n",
       "      <td>41</td>\n",
       "    </tr>\n",
       "    <tr>\n",
       "      <th>3</th>\n",
       "      <td>2010010302</td>\n",
       "      <td>2010/01/03</td>\n",
       "      <td>Cleveland Browns</td>\n",
       "      <td>Jacksonville Jaguars</td>\n",
       "      <td>23.0</td>\n",
       "      <td>17.0</td>\n",
       "      <td>CLE</td>\n",
       "      <td>-2.0</td>\n",
       "      <td>35</td>\n",
       "    </tr>\n",
       "    <tr>\n",
       "      <th>4</th>\n",
       "      <td>2010010303</td>\n",
       "      <td>2010/01/03</td>\n",
       "      <td>Dallas Cowboys</td>\n",
       "      <td>Philadelphia Eagles</td>\n",
       "      <td>24.0</td>\n",
       "      <td>0.0</td>\n",
       "      <td>DAL</td>\n",
       "      <td>-3.0</td>\n",
       "      <td>47</td>\n",
       "    </tr>\n",
       "    <tr>\n",
       "      <th>5</th>\n",
       "      <td>2010010304</td>\n",
       "      <td>2010/01/03</td>\n",
       "      <td>Detroit Lions</td>\n",
       "      <td>Chicago Bears</td>\n",
       "      <td>23.0</td>\n",
       "      <td>37.0</td>\n",
       "      <td>CHI</td>\n",
       "      <td>-4.5</td>\n",
       "      <td>44.5</td>\n",
       "    </tr>\n",
       "    <tr>\n",
       "      <th>6</th>\n",
       "      <td>2010010305</td>\n",
       "      <td>2010/01/03</td>\n",
       "      <td>Houston Texans</td>\n",
       "      <td>New England Patriots</td>\n",
       "      <td>34.0</td>\n",
       "      <td>27.0</td>\n",
       "      <td>HOU</td>\n",
       "      <td>-7.5</td>\n",
       "      <td>47</td>\n",
       "    </tr>\n",
       "    <tr>\n",
       "      <th>7</th>\n",
       "      <td>2010010306</td>\n",
       "      <td>2010/01/03</td>\n",
       "      <td>Miami Dolphins</td>\n",
       "      <td>Pittsburgh Steelers</td>\n",
       "      <td>24.0</td>\n",
       "      <td>30.0</td>\n",
       "      <td>PIT</td>\n",
       "      <td>-3.0</td>\n",
       "      <td>46</td>\n",
       "    </tr>\n",
       "    <tr>\n",
       "      <th>8</th>\n",
       "      <td>2010010307</td>\n",
       "      <td>2010/01/03</td>\n",
       "      <td>Minnesota Vikings</td>\n",
       "      <td>New York Giants</td>\n",
       "      <td>44.0</td>\n",
       "      <td>7.0</td>\n",
       "      <td>MIN</td>\n",
       "      <td>-8.0</td>\n",
       "      <td>48</td>\n",
       "    </tr>\n",
       "    <tr>\n",
       "      <th>9</th>\n",
       "      <td>2010010308</td>\n",
       "      <td>2010/01/03</td>\n",
       "      <td>New York Jets</td>\n",
       "      <td>Cincinnati Bengals</td>\n",
       "      <td>37.0</td>\n",
       "      <td>0.0</td>\n",
       "      <td>NYJ</td>\n",
       "      <td>-10.0</td>\n",
       "      <td>33.5</td>\n",
       "    </tr>\n",
       "  </tbody>\n",
       "</table>\n",
       "</div>"
      ],
      "text/plain": [
       "      Game ID        Date          Home Team             Away Team  \\\n",
       "0  2010010311  2010/01/03  Arizona Cardinals     Green Bay Packers   \n",
       "1  2010010300  2010/01/03      Buffalo Bills    Indianapolis Colts   \n",
       "2  2010010301  2010/01/03  Carolina Panthers    New Orleans Saints   \n",
       "3  2010010302  2010/01/03   Cleveland Browns  Jacksonville Jaguars   \n",
       "4  2010010303  2010/01/03     Dallas Cowboys   Philadelphia Eagles   \n",
       "5  2010010304  2010/01/03      Detroit Lions         Chicago Bears   \n",
       "6  2010010305  2010/01/03     Houston Texans  New England Patriots   \n",
       "7  2010010306  2010/01/03     Miami Dolphins   Pittsburgh Steelers   \n",
       "8  2010010307  2010/01/03  Minnesota Vikings       New York Giants   \n",
       "9  2010010308  2010/01/03      New York Jets    Cincinnati Bengals   \n",
       "\n",
       "   Home Score  Away Score Favorite Team ID  Spread Favorite Over Under  \n",
       "0         7.0        33.0              ARI             -3.0         44  \n",
       "1        30.0         7.0              BUF             -8.0         32  \n",
       "2        23.0        10.0              CAR            -10.0         41  \n",
       "3        23.0        17.0              CLE             -2.0         35  \n",
       "4        24.0         0.0              DAL             -3.0         47  \n",
       "5        23.0        37.0              CHI             -4.5       44.5  \n",
       "6        34.0        27.0              HOU             -7.5         47  \n",
       "7        24.0        30.0              PIT             -3.0         46  \n",
       "8        44.0         7.0              MIN             -8.0         48  \n",
       "9        37.0         0.0              NYJ            -10.0       33.5  "
      ]
     },
     "execution_count": 23,
     "metadata": {},
     "output_type": "execute_result"
    }
   ],
   "source": [
    "new_df.head(10)"
   ]
  },
  {
   "cell_type": "code",
   "execution_count": null,
   "metadata": {},
   "outputs": [],
   "source": []
  }
 ],
 "metadata": {
  "kernelspec": {
   "display_name": "Python 3",
   "language": "python",
   "name": "python3"
  },
  "language_info": {
   "codemirror_mode": {
    "name": "ipython",
    "version": 3
   },
   "file_extension": ".py",
   "mimetype": "text/x-python",
   "name": "python",
   "nbconvert_exporter": "python",
   "pygments_lexer": "ipython3",
   "version": "3.7.0"
  }
 },
 "nbformat": 4,
 "nbformat_minor": 2
}
