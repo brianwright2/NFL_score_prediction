{
 "cells": [
  {
   "cell_type": "code",
   "execution_count": 1,
   "metadata": {
    "ExecuteTime": {
     "end_time": "2018-11-12T19:15:30.660129Z",
     "start_time": "2018-11-12T19:15:30.161213Z"
    }
   },
   "outputs": [],
   "source": [
    "import pandas as pd\n",
    "import numpy as np\n",
    "import math"
   ]
  },
  {
   "cell_type": "code",
   "execution_count": 2,
   "metadata": {
    "ExecuteTime": {
     "end_time": "2018-11-12T19:15:43.575775Z",
     "start_time": "2018-11-12T19:15:32.033731Z"
    },
    "scrolled": true
   },
<<<<<<< HEAD
   "outputs": [
    {
     "name": "stderr",
     "output_type": "stream",
     "text": [
      "/Users/tylerursuy/miniconda3/lib/python3.7/site-packages/IPython/core/interactiveshell.py:3018: DtypeWarning: Columns (25,51) have mixed types. Specify dtype option on import or set low_memory=False.\n",
      "  interactivity=interactivity, compiler=compiler, result=result)\n"
     ]
    }
   ],
=======
   "outputs": [],
>>>>>>> 52508f4f03e03192cabdb8a8e4c20bacd19c15e6
   "source": [
    "nfl = pd.read_csv(\"nfl.csv\", low_memory=False)\n",
    "spread = pd.read_csv(\"nflspreads.csv\")"
   ]
  },
  {
   "cell_type": "code",
   "execution_count": 56,
   "metadata": {
    "ExecuteTime": {
     "end_time": "2018-11-12T19:33:30.439824Z",
     "start_time": "2018-11-12T19:33:30.423410Z"
    }
   },
   "outputs": [],
   "source": [
    "nfl_teams = nfl[[\"Date\", \"GameID\", \"HomeTeam\", \"AwayTeam\"]]"
   ]
  },
  {
   "cell_type": "code",
   "execution_count": 57,
   "metadata": {
    "ExecuteTime": {
     "end_time": "2018-11-12T19:33:31.007242Z",
     "start_time": "2018-11-12T19:33:30.999867Z"
    }
   },
   "outputs": [],
   "source": [
    "teams = {\"ARI\":\"Arizona Cardinals\", \"ATL\":\"Atlanta Falcons\", \"BAL\":\"Baltimore Ravens\", \"BUF\":\"Buffalo Bills\", \n",
    "         \"CAR\":\"Carolina Panthers\", \"CHI\":\"Chicago Bears\", \"CIN\":\"Cincinnati Bengals\", \"CLE\":\"Cleveland Browns\", \n",
    "         \"DAL\":\"Dallas Cowboys\", \"DEN\":\"Denver Broncos\", \"DET\":\"Detroit Lions\", \"GB\":\"Green Bay Packers\", \n",
    "         \"HOU\":\"Houston Texans\", \"IND\":\"Indianapolis Colts\", \"JAX\":\"Jacksonville Jaguars\", \"JAC\":\"Jacksonville Jaguars\", \"KC\":\"Kansas City Cheifs\", \n",
    "         \"LA\":\"Los Angeles Rams\", \"LAC\":\"Los Angeles Chargers\", \"MIA\":\"Miami Dolphins\", \n",
    "         \"MIN\":\"Minnesota Vikings\", \"NE\":\"New England Patriots\", \"NO\":\"New Orleans Saints\", \"NYG\":\"New York Giants\", \n",
    "         \"NYJ\":\"New York Jets\", \"OAK\":\"Oakland Raiders\", \"PHI\":\"Philadelphia Eagles\", \"PIT\":\"Pittsburgh Steelers\", \n",
    "         \"SD\":\"San Diego Chargers\", \"SEA\":\"Seattle Seahawks\", \"SF\":\"San Francisco 49ers\", \"STL\":\"St. Louis Cardinals\", \n",
    "         \"TB\":\"Tampa Bay Buccaneers\", \"TEN\":\"Tennessee Titans\", \"WAS\":\"Washington Redskins\"}"
   ]
  },
  {
   "cell_type": "code",
   "execution_count": 58,
   "metadata": {
    "ExecuteTime": {
     "end_time": "2018-11-12T19:33:32.156887Z",
     "start_time": "2018-11-12T19:33:31.459407Z"
    }
   },
   "outputs": [],
   "source": [
    "spread_games = list()\n",
    "for game in range(len(spread[\"spread_favorite\"])):\n",
    "    if not math.isnan(spread[\"spread_favorite\"][game]):\n",
    "        if int(spread[\"schedule_date\"][game][6:10]) > 2009:\n",
    "            spread_games.append(spread.iloc[game])\n",
    "    else:\n",
    "        pass"
   ]
  },
  {
   "cell_type": "code",
   "execution_count": 59,
   "metadata": {
    "ExecuteTime": {
     "end_time": "2018-11-12T19:33:33.057403Z",
     "start_time": "2018-11-12T19:33:32.914624Z"
    }
   },
   "outputs": [],
   "source": [
    "spread_games = pd.DataFrame(spread_games)"
   ]
  },
  {
   "cell_type": "code",
   "execution_count": 60,
   "metadata": {
    "ExecuteTime": {
     "end_time": "2018-11-12T19:33:33.485123Z",
     "start_time": "2018-11-12T19:33:33.477423Z"
    }
   },
   "outputs": [],
   "source": [
    "spread_dates_list = list()\n",
    "for date in spread_games[\"schedule_date\"]:\n",
    "    spread_dates_list.append(date)\n",
    "for date in range(len(spread_dates_list)):\n",
    "    spread_dates_list[date] = spread_dates_list[date][6:10] + \"/\" + spread_dates_list[date][0:2] \\\n",
    "    + \"/\" + spread_dates_list[date][3:5]"
   ]
  },
  {
   "cell_type": "code",
   "execution_count": 61,
   "metadata": {
    "ExecuteTime": {
     "end_time": "2018-11-12T19:33:33.861225Z",
     "start_time": "2018-11-12T19:33:33.856581Z"
    }
   },
   "outputs": [],
   "source": [
    "spread_games[\"schedule_date\"] = spread_dates_list"
   ]
  },
  {
   "cell_type": "code",
   "execution_count": 62,
   "metadata": {
    "ExecuteTime": {
     "end_time": "2018-11-12T19:33:34.522843Z",
     "start_time": "2018-11-12T19:33:34.352934Z"
    }
   },
   "outputs": [],
   "source": [
    "nfl_dates_list = list()\n",
    "for date in nfl_teams[\"Date\"]:\n",
    "    nfl_dates_list.append(date.replace(\"-\", \"/\"))"
   ]
  },
  {
   "cell_type": "code",
<<<<<<< HEAD
   "execution_count": 10,
   "metadata": {},
   "outputs": [
    {
     "name": "stderr",
     "output_type": "stream",
     "text": [
      "/Users/tylerursuy/miniconda3/lib/python3.7/site-packages/ipykernel_launcher.py:2: SettingWithCopyWarning: \n",
      "A value is trying to be set on a copy of a slice from a DataFrame.\n",
      "Try using .loc[row_indexer,col_indexer] = value instead\n",
      "\n",
      "See the caveats in the documentation: http://pandas.pydata.org/pandas-docs/stable/indexing.html#indexing-view-versus-copy\n",
      "  \n"
     ]
=======
   "execution_count": 66,
   "metadata": {
    "ExecuteTime": {
     "end_time": "2018-11-12T19:33:55.993190Z",
     "start_time": "2018-11-12T19:33:55.962474Z"
>>>>>>> 52508f4f03e03192cabdb8a8e4c20bacd19c15e6
    }
   },
   "outputs": [],
   "source": [
    "nfl_teams.loc[:]['Date'] = nfl_dates_list"
   ]
  },
  {
   "cell_type": "code",
   "execution_count": 31,
   "metadata": {
    "ExecuteTime": {
     "end_time": "2018-11-12T19:31:36.693924Z",
     "start_time": "2018-11-12T19:31:36.617830Z"
    }
   },
   "outputs": [],
   "source": [
    "nfl_dates_set = set()\n",
    "for date in nfl_dates_list:\n",
    "    nfl_dates_set.add(date)"
   ]
  },
  {
   "cell_type": "code",
   "execution_count": 32,
   "metadata": {
    "ExecuteTime": {
     "end_time": "2018-11-12T19:31:38.005060Z",
     "start_time": "2018-11-12T19:31:37.997141Z"
    }
   },
   "outputs": [],
   "source": [
    "spread_dates = set(spread_dates_list)"
   ]
  },
  {
   "cell_type": "code",
   "execution_count": 33,
   "metadata": {
    "ExecuteTime": {
     "end_time": "2018-11-12T19:31:38.609375Z",
     "start_time": "2018-11-12T19:31:38.605827Z"
    }
   },
   "outputs": [],
   "source": [
    "accounted_dates = nfl_dates_set.intersection(spread_dates)"
   ]
  },
  {
   "cell_type": "code",
   "execution_count": 34,
   "metadata": {
    "ExecuteTime": {
     "end_time": "2018-11-12T19:31:39.273596Z",
     "start_time": "2018-11-12T19:31:39.268947Z"
    }
   },
   "outputs": [],
   "source": [
    "nfl_df = pd.DataFrame(list(accounted_dates), columns=[\"Date\"])"
   ]
  },
  {
   "cell_type": "code",
   "execution_count": 35,
   "metadata": {
    "ExecuteTime": {
     "end_time": "2018-11-12T19:31:40.418966Z",
     "start_time": "2018-11-12T19:31:40.291423Z"
    },
    "scrolled": true
   },
   "outputs": [],
   "source": [
    "nfl_teams = np.array(nfl_teams)"
   ]
  },
  {
   "cell_type": "code",
   "execution_count": 36,
   "metadata": {
    "ExecuteTime": {
     "end_time": "2018-11-12T19:31:41.995875Z",
     "start_time": "2018-11-12T19:31:41.431888Z"
    }
   },
   "outputs": [],
   "source": [
    "unique_games = set()\n",
    "for game in nfl_teams:\n",
    "    unique_games.add(tuple(game))"
   ]
  },
  {
   "cell_type": "code",
   "execution_count": 37,
   "metadata": {
    "ExecuteTime": {
     "end_time": "2018-11-12T19:31:42.450560Z",
     "start_time": "2018-11-12T19:31:42.445799Z"
    }
   },
   "outputs": [],
   "source": [
    "matched_games = set()\n",
    "for game in unique_games:\n",
    "    if game[0] in accounted_dates:\n",
    "        matched_games.add(game)"
   ]
  },
  {
   "cell_type": "code",
   "execution_count": 38,
   "metadata": {
    "ExecuteTime": {
     "end_time": "2018-11-12T19:31:43.674339Z",
     "start_time": "2018-11-12T19:31:43.666539Z"
    }
   },
   "outputs": [],
   "source": [
    "accounted_spread_games = spread_games[[\"schedule_date\", \"team_home\", \"team_away\", \\\n",
    "                                       \"score_home\", \"score_away\", \"team_favorite_id\", \\\n",
    "                                       \"spread_favorite\", \"over_under_line\"]]"
   ]
  },
  {
   "cell_type": "code",
   "execution_count": 39,
   "metadata": {
    "ExecuteTime": {
     "end_time": "2018-11-12T19:31:44.294583Z",
     "start_time": "2018-11-12T19:31:44.288890Z"
    }
   },
   "outputs": [],
   "source": [
    "accounted_spread_array = np.array(accounted_spread_games)"
   ]
  },
  {
   "cell_type": "code",
   "execution_count": 40,
   "metadata": {
    "ExecuteTime": {
     "end_time": "2018-11-12T19:31:45.534091Z",
     "start_time": "2018-11-12T19:31:45.527723Z"
    }
   },
   "outputs": [],
   "source": [
    "matched_scores = list()\n",
    "for game in accounted_spread_array:\n",
    "    for g in matched_games:\n",
    "        if game[0] == g[0] and game[1] == teams[g[2]] and game[2] == teams[g[3]]:\n",
    "            game = tuple(game) + (g[1],)\n",
    "            matched_scores.append(tuple(game))"
   ]
  },
  {
   "cell_type": "code",
   "execution_count": 41,
   "metadata": {
    "ExecuteTime": {
     "end_time": "2018-11-12T19:31:46.368909Z",
     "start_time": "2018-11-12T19:31:46.359613Z"
    }
   },
   "outputs": [],
   "source": [
    "new_df = pd.DataFrame(matched_scores, columns=[\"Date\", \"Home Team\", \"Away Team\", \\\n",
    "                                               \"Home Score\", \"Away Score\", \"Favorite Team ID\",\\\n",
    "                                               \"Spread Favorite\", \"Over Under\", \"Game ID\"])"
   ]
  },
  {
   "cell_type": "code",
   "execution_count": 42,
   "metadata": {
    "ExecuteTime": {
     "end_time": "2018-11-12T19:31:47.812228Z",
     "start_time": "2018-11-12T19:31:47.805279Z"
    }
   },
   "outputs": [],
   "source": [
    "new_df = new_df.set_index('Game ID')"
   ]
  },
  {
   "cell_type": "code",
   "execution_count": 43,
   "metadata": {
    "ExecuteTime": {
     "end_time": "2018-11-12T19:31:48.474668Z",
     "start_time": "2018-11-12T19:31:48.462453Z"
    },
    "scrolled": true
   },
   "outputs": [
    {
     "data": {
      "text/html": [
       "<div>\n",
       "<style scoped>\n",
       "    .dataframe tbody tr th:only-of-type {\n",
       "        vertical-align: middle;\n",
       "    }\n",
       "\n",
       "    .dataframe tbody tr th {\n",
       "        vertical-align: top;\n",
       "    }\n",
       "\n",
       "    .dataframe thead th {\n",
       "        text-align: right;\n",
       "    }\n",
       "</style>\n",
       "<table border=\"1\" class=\"dataframe\">\n",
       "  <thead>\n",
       "    <tr style=\"text-align: right;\">\n",
       "      <th></th>\n",
       "      <th>Date</th>\n",
       "      <th>Home Team</th>\n",
       "      <th>Away Team</th>\n",
       "      <th>Home Score</th>\n",
       "      <th>Away Score</th>\n",
       "      <th>Favorite Team ID</th>\n",
       "      <th>Spread Favorite</th>\n",
       "      <th>Over Under</th>\n",
       "    </tr>\n",
       "    <tr>\n",
       "      <th>Game ID</th>\n",
       "      <th></th>\n",
       "      <th></th>\n",
       "      <th></th>\n",
       "      <th></th>\n",
       "      <th></th>\n",
       "      <th></th>\n",
       "      <th></th>\n",
       "      <th></th>\n",
       "    </tr>\n",
       "  </thead>\n",
       "  <tbody>\n",
       "  </tbody>\n",
       "</table>\n",
       "</div>"
      ],
      "text/plain": [
       "Empty DataFrame\n",
       "Columns: [Date, Home Team, Away Team, Home Score, Away Score, Favorite Team ID, Spread Favorite, Over Under]\n",
       "Index: []"
      ]
     },
     "execution_count": 43,
     "metadata": {},
     "output_type": "execute_result"
    }
   ],
   "source": [
    "new_df.head(10)"
   ]
  },
  {
   "cell_type": "code",
   "execution_count": 27,
   "metadata": {
    "ExecuteTime": {
     "end_time": "2018-11-12T17:40:05.045808Z",
     "start_time": "2018-11-12T17:40:05.039487Z"
    }
   },
   "outputs": [
    {
     "data": {
      "text/plain": [
       "(1838, 8)"
      ]
     },
     "execution_count": 27,
     "metadata": {},
     "output_type": "execute_result"
    }
   ],
   "source": [
    "new_df.shape"
   ]
  },
  {
   "cell_type": "code",
   "execution_count": null,
   "metadata": {},
   "outputs": [],
   "source": []
  }
 ],
 "metadata": {
  "kernelspec": {
   "display_name": "Python 3",
   "language": "python",
   "name": "python3"
  },
  "language_info": {
   "codemirror_mode": {
    "name": "ipython",
    "version": 3
   },
   "file_extension": ".py",
   "mimetype": "text/x-python",
   "name": "python",
   "nbconvert_exporter": "python",
   "pygments_lexer": "ipython3",
<<<<<<< HEAD
   "version": "3.7.0"
=======
   "version": "3.6.6"
  },
  "toc": {
   "base_numbering": 1,
   "nav_menu": {},
   "number_sections": true,
   "sideBar": true,
   "skip_h1_title": false,
   "title_cell": "Table of Contents",
   "title_sidebar": "Contents",
   "toc_cell": false,
   "toc_position": {},
   "toc_section_display": true,
   "toc_window_display": false
>>>>>>> 52508f4f03e03192cabdb8a8e4c20bacd19c15e6
  }
 },
 "nbformat": 4,
 "nbformat_minor": 2
}
