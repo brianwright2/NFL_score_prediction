{
 "cells": [
  {
   "cell_type": "code",
   "execution_count": 2,
   "metadata": {},
   "outputs": [],
   "source": [
    "from sklearn.ensemble import RandomForestRegressor\n",
    "from sklearn.tree import DecisionTreeRegressor\n",
    "from sklearn.model_selection import train_test_split\n",
    "from math import sqrt\n",
    "import numpy as np\n",
    "import pandas as pd"
   ]
  },
  {
   "cell_type": "code",
   "execution_count": 4,
   "metadata": {},
   "outputs": [],
   "source": [
    "reduced = pd.read_csv(\"../data/reduced.csv\")"
   ]
  },
  {
   "cell_type": "code",
   "execution_count": 5,
   "metadata": {},
   "outputs": [
    {
     "data": {
      "text/html": [
       "<div>\n",
       "<style scoped>\n",
       "    .dataframe tbody tr th:only-of-type {\n",
       "        vertical-align: middle;\n",
       "    }\n",
       "\n",
       "    .dataframe tbody tr th {\n",
       "        vertical-align: top;\n",
       "    }\n",
       "\n",
       "    .dataframe thead th {\n",
       "        text-align: right;\n",
       "    }\n",
       "</style>\n",
       "<table border=\"1\" class=\"dataframe\">\n",
       "  <thead>\n",
       "    <tr style=\"text-align: right;\">\n",
       "      <th></th>\n",
       "      <th>scores</th>\n",
       "      <th>predscores</th>\n",
       "      <th>tmhalfsc</th>\n",
       "      <th>opphalfsc</th>\n",
       "      <th>patt</th>\n",
       "      <th>ypa</th>\n",
       "      <th>comppct</th>\n",
       "      <th>int</th>\n",
       "      <th>ratt</th>\n",
       "      <th>ypr</th>\n",
       "      <th>sacks</th>\n",
       "      <th>sackyds</th>\n",
       "      <th>fum</th>\n",
       "      <th>fuml</th>\n",
       "    </tr>\n",
       "  </thead>\n",
       "  <tbody>\n",
       "    <tr>\n",
       "      <th>0</th>\n",
       "      <td>4.000000</td>\n",
       "      <td>24.75</td>\n",
       "      <td>6</td>\n",
       "      <td>13</td>\n",
       "      <td>19</td>\n",
       "      <td>6.736842</td>\n",
       "      <td>0.578947</td>\n",
       "      <td>2</td>\n",
       "      <td>8</td>\n",
       "      <td>1.500000</td>\n",
       "      <td>2</td>\n",
       "      <td>-11</td>\n",
       "      <td>0</td>\n",
       "      <td>0</td>\n",
       "    </tr>\n",
       "    <tr>\n",
       "      <th>1</th>\n",
       "      <td>6.164414</td>\n",
       "      <td>24.75</td>\n",
       "      <td>10</td>\n",
       "      <td>7</td>\n",
       "      <td>25</td>\n",
       "      <td>7.000000</td>\n",
       "      <td>0.640000</td>\n",
       "      <td>0</td>\n",
       "      <td>13</td>\n",
       "      <td>3.384615</td>\n",
       "      <td>1</td>\n",
       "      <td>-6</td>\n",
       "      <td>1</td>\n",
       "      <td>0</td>\n",
       "    </tr>\n",
       "    <tr>\n",
       "      <th>2</th>\n",
       "      <td>4.472136</td>\n",
       "      <td>17.75</td>\n",
       "      <td>13</td>\n",
       "      <td>10</td>\n",
       "      <td>11</td>\n",
       "      <td>4.272727</td>\n",
       "      <td>0.636364</td>\n",
       "      <td>0</td>\n",
       "      <td>15</td>\n",
       "      <td>3.466667</td>\n",
       "      <td>2</td>\n",
       "      <td>-10</td>\n",
       "      <td>2</td>\n",
       "      <td>0</td>\n",
       "    </tr>\n",
       "    <tr>\n",
       "      <th>3</th>\n",
       "      <td>2.645751</td>\n",
       "      <td>24.75</td>\n",
       "      <td>0</td>\n",
       "      <td>10</td>\n",
       "      <td>15</td>\n",
       "      <td>5.466667</td>\n",
       "      <td>0.666667</td>\n",
       "      <td>0</td>\n",
       "      <td>10</td>\n",
       "      <td>2.200000</td>\n",
       "      <td>0</td>\n",
       "      <td>0</td>\n",
       "      <td>1</td>\n",
       "      <td>1</td>\n",
       "    </tr>\n",
       "    <tr>\n",
       "      <th>4</th>\n",
       "      <td>3.741657</td>\n",
       "      <td>25.50</td>\n",
       "      <td>7</td>\n",
       "      <td>6</td>\n",
       "      <td>21</td>\n",
       "      <td>8.333333</td>\n",
       "      <td>0.714286</td>\n",
       "      <td>1</td>\n",
       "      <td>15</td>\n",
       "      <td>2.733333</td>\n",
       "      <td>1</td>\n",
       "      <td>-7</td>\n",
       "      <td>1</td>\n",
       "      <td>1</td>\n",
       "    </tr>\n",
       "  </tbody>\n",
       "</table>\n",
       "</div>"
      ],
      "text/plain": [
       "     scores  predscores  tmhalfsc  opphalfsc  patt       ypa   comppct  int  \\\n",
       "0  4.000000       24.75         6         13    19  6.736842  0.578947    2   \n",
       "1  6.164414       24.75        10          7    25  7.000000  0.640000    0   \n",
       "2  4.472136       17.75        13         10    11  4.272727  0.636364    0   \n",
       "3  2.645751       24.75         0         10    15  5.466667  0.666667    0   \n",
       "4  3.741657       25.50         7          6    21  8.333333  0.714286    1   \n",
       "\n",
       "   ratt       ypr  sacks  sackyds  fum  fuml  \n",
       "0     8  1.500000      2      -11    0     0  \n",
       "1    13  3.384615      1       -6    1     0  \n",
       "2    15  3.466667      2      -10    2     0  \n",
       "3    10  2.200000      0        0    1     1  \n",
       "4    15  2.733333      1       -7    1     1  "
      ]
     },
     "execution_count": 5,
     "metadata": {},
     "output_type": "execute_result"
    }
   ],
   "source": [
    "reduced = reduced.drop(columns = reduced.columns[0])\n",
    "reduced.head()"
   ]
  },
  {
   "cell_type": "code",
   "execution_count": 6,
   "metadata": {},
   "outputs": [],
   "source": [
    "base_X = reduced.drop(columns=\"scores\")"
   ]
  },
  {
   "cell_type": "code",
   "execution_count": 7,
   "metadata": {},
   "outputs": [],
   "source": [
    "base_y = reduced[\"scores\"]"
   ]
  },
  {
   "cell_type": "code",
   "execution_count": 13,
   "metadata": {},
   "outputs": [],
   "source": [
    "X_train, X_test, y_train, y_test = train_test_split(base_X, base_y, test_size=0.25)"
   ]
  },
  {
   "cell_type": "code",
   "execution_count": 14,
   "metadata": {
    "scrolled": true
   },
   "outputs": [
    {
     "data": {
      "text/plain": [
       "RandomForestRegressor(bootstrap=True, criterion='mse', max_depth=None,\n",
       "           max_features='auto', max_leaf_nodes=None,\n",
       "           min_impurity_decrease=0.0, min_impurity_split=None,\n",
       "           min_samples_leaf=1, min_samples_split=2,\n",
       "           min_weight_fraction_leaf=0.0, n_estimators=100, n_jobs=None,\n",
       "           oob_score=False, random_state=None, verbose=0, warm_start=False)"
      ]
     },
     "execution_count": 14,
     "metadata": {},
     "output_type": "execute_result"
    }
   ],
   "source": [
    "base_rf = RandomForestRegressor(n_estimators=100)\n",
    "base_rf.fit(X_train, y_train)"
   ]
  },
  {
   "cell_type": "code",
   "execution_count": 15,
   "metadata": {},
   "outputs": [],
   "source": [
    "base_rf_pred = base_rf.predict(X_test)"
   ]
  },
  {
   "cell_type": "code",
   "execution_count": 16,
   "metadata": {},
   "outputs": [],
   "source": [
    "def rmse(pred, y):\n",
    "    n = len(y)\n",
    "    RMSE = sqrt(sum((pred - y)**2) / n)\n",
    "    return RMSE"
   ]
  },
  {
   "cell_type": "code",
   "execution_count": 17,
   "metadata": {},
   "outputs": [
    {
     "name": "stdout",
     "output_type": "stream",
     "text": [
      "Baseline Random Forest Regressor RMSE: 0.844\n",
      "Baseline Random Forest Regressor R^2: 0.540\n"
     ]
    }
   ],
   "source": [
    "base_rf_RMSE = rmse(base_rf_pred, y_test)\n",
    "base_rf_r2 = base_rf.score(X_test, y_test)\n",
    "print(f\"Baseline Random Forest Regressor RMSE: {base_rf_RMSE:.3f}\")\n",
    "print(f\"Baseline Random Forest Regressor R^2: {base_rf_r2:.3f}\")"
   ]
  },
  {
   "cell_type": "code",
   "execution_count": 18,
   "metadata": {},
   "outputs": [
    {
     "data": {
      "text/plain": [
       "DecisionTreeRegressor(criterion='mse', max_depth=None, max_features=None,\n",
       "           max_leaf_nodes=None, min_impurity_decrease=0.0,\n",
       "           min_impurity_split=None, min_samples_leaf=1,\n",
       "           min_samples_split=2, min_weight_fraction_leaf=0.0,\n",
       "           presort=False, random_state=None, splitter='best')"
      ]
     },
     "execution_count": 18,
     "metadata": {},
     "output_type": "execute_result"
    }
   ],
   "source": [
    "base_dt = DecisionTreeRegressor()\n",
    "base_dt.fit(X_train, y_train)"
   ]
  },
  {
   "cell_type": "code",
   "execution_count": 19,
   "metadata": {},
   "outputs": [],
   "source": [
    "base_dt_pred = base_dt.predict(X_test)"
   ]
  },
  {
   "cell_type": "code",
   "execution_count": 20,
   "metadata": {},
   "outputs": [
    {
     "name": "stdout",
     "output_type": "stream",
     "text": [
      "Baseline Decision Tree Regressor RMSE: 1.151\n",
      "Baseline Decision Truee Regressor R^2: 0.143\n"
     ]
    }
   ],
   "source": [
    "base_dt_RMSE = rmse(base_dt_pred, y_test)\n",
    "base_dt_r2 = base_dt.score(X_test, y_test)\n",
    "print(f\"Baseline Decision Tree Regressor RMSE: {base_dt_RMSE:.3f}\")\n",
    "print(f\"Baseline Decision Truee Regressor R^2: {base_dt_r2:.3f}\")"
   ]
  },
  {
   "cell_type": "code",
   "execution_count": 21,
   "metadata": {},
   "outputs": [],
   "source": [
    "\"\"\"Hand Picked Variables from R:\n",
    "predscores+tmhalfsc+patt+ypa+ratt+ypr+sackyds\"\"\"\n",
    "manual = reduced[[\"scores\", \"predscores\", \"tmhalfsc\", \"patt\", \"ypa\", \"ratt\", \"ypr\", \"sackyds\"]]"
   ]
  },
  {
   "cell_type": "code",
   "execution_count": 22,
   "metadata": {},
   "outputs": [],
   "source": [
    "man_X = manual.drop(columns=\"scores\")"
   ]
  },
  {
   "cell_type": "code",
   "execution_count": 23,
   "metadata": {},
   "outputs": [],
   "source": [
    "man_y = manual[\"scores\"]"
   ]
  },
  {
   "cell_type": "code",
   "execution_count": 24,
   "metadata": {},
   "outputs": [],
   "source": [
    "man_X_train, man_X_test, man_y_train, man_y_test = train_test_split(man_X, man_y, test_size=0.25)"
   ]
  },
  {
   "cell_type": "code",
   "execution_count": 25,
   "metadata": {},
   "outputs": [
    {
     "data": {
      "text/plain": [
       "RandomForestRegressor(bootstrap=True, criterion='mse', max_depth=None,\n",
       "           max_features='auto', max_leaf_nodes=None,\n",
       "           min_impurity_decrease=0.0, min_impurity_split=None,\n",
       "           min_samples_leaf=1, min_samples_split=2,\n",
       "           min_weight_fraction_leaf=0.0, n_estimators=100, n_jobs=None,\n",
       "           oob_score=False, random_state=None, verbose=0, warm_start=False)"
      ]
     },
     "execution_count": 25,
     "metadata": {},
     "output_type": "execute_result"
    }
   ],
   "source": [
    "man_rf = RandomForestRegressor(n_estimators=100)\n",
    "man_rf.fit(man_X_train, man_y_train)"
   ]
  },
  {
   "cell_type": "code",
   "execution_count": 26,
   "metadata": {},
   "outputs": [],
   "source": [
    "man_rf_pred = man_rf.predict(man_X_test)"
   ]
  },
  {
   "cell_type": "code",
   "execution_count": 28,
   "metadata": {},
   "outputs": [
    {
     "name": "stdout",
     "output_type": "stream",
     "text": [
      "Manual Random Forest Regressor RMSE: 0.821\n",
      "Manual Random Forest Regressor R^2: 0.534\n"
     ]
    }
   ],
   "source": [
    "man_rf_RMSE = rmse(man_rf_pred, man_y_test)\n",
    "man_rf_r2 = man_rf.score(man_X_test, man_y_test)\n",
    "print(f\"Manual Random Forest Regressor RMSE: {man_rf_RMSE:.3f}\")\n",
    "print(f\"Manual Random Forest Regressor R^2: {man_rf_r2:.3f}\")"
   ]
  },
  {
   "cell_type": "code",
   "execution_count": 29,
   "metadata": {},
   "outputs": [
    {
     "data": {
      "text/plain": [
       "DecisionTreeRegressor(criterion='mse', max_depth=None, max_features=None,\n",
       "           max_leaf_nodes=None, min_impurity_decrease=0.0,\n",
       "           min_impurity_split=None, min_samples_leaf=1,\n",
       "           min_samples_split=2, min_weight_fraction_leaf=0.0,\n",
       "           presort=False, random_state=None, splitter='best')"
      ]
     },
     "execution_count": 29,
     "metadata": {},
     "output_type": "execute_result"
    }
   ],
   "source": [
    "man_dt = DecisionTreeRegressor()\n",
    "man_dt.fit(man_X_train, man_y_train)"
   ]
  },
  {
   "cell_type": "code",
   "execution_count": 30,
   "metadata": {},
   "outputs": [],
   "source": [
    "man_dt_pred = man_dt.predict(man_X_test)"
   ]
  },
  {
   "cell_type": "code",
   "execution_count": 31,
   "metadata": {},
   "outputs": [
    {
     "name": "stdout",
     "output_type": "stream",
     "text": [
      "Manual Decision Tree Regressor RMSE: 1.128\n",
      "Manual Decision Tree Regressor R^2: 0.119\n"
     ]
    }
   ],
   "source": [
    "man_dt_RMSE = rmse(man_dt_pred, man_y_test)\n",
    "man_dt_r2 = man_dt.score(man_X_test, man_y_test)\n",
    "print(f\"Manual Decision Tree Regressor RMSE: {man_dt_RMSE:.3f}\")\n",
    "print(f\"Manual Decision Tree Regressor R^2: {man_dt_r2:.3f}\")"
   ]
  },
  {
   "cell_type": "markdown",
   "metadata": {},
   "source": [
    "## Grid Search for Manual Random Forest Regressor"
   ]
  },
  {
   "cell_type": "code",
   "execution_count": 32,
   "metadata": {},
   "outputs": [],
   "source": [
    "from sklearn.pipeline import Pipeline\n",
    "from sklearn.model_selection import GridSearchCV, KFold"
   ]
  },
  {
   "cell_type": "code",
   "execution_count": 33,
   "metadata": {},
   "outputs": [],
   "source": [
    "rf = RandomForestRegressor()\n",
    "search = {\"criterion\":[\"mse\"], \"n_estimators\":list(range(95, 105, 1)), \n",
    "         \"max_depth\":[5], \"max_features\":[\"auto\"]}"
   ]
  },
  {
   "cell_type": "code",
   "execution_count": 34,
   "metadata": {},
   "outputs": [],
   "source": [
    "rf_gs = GridSearchCV(rf, search, cv=10)"
   ]
  },
  {
   "cell_type": "code",
   "execution_count": 35,
   "metadata": {},
   "outputs": [
    {
     "data": {
      "text/plain": [
       "GridSearchCV(cv=10, error_score='raise-deprecating',\n",
       "       estimator=RandomForestRegressor(bootstrap=True, criterion='mse', max_depth=None,\n",
       "           max_features='auto', max_leaf_nodes=None,\n",
       "           min_impurity_decrease=0.0, min_impurity_split=None,\n",
       "           min_samples_leaf=1, min_samples_split=2,\n",
       "           min_weight_fraction_leaf=0.0, n_estimators='warn', n_jobs=None,\n",
       "           oob_score=False, random_state=None, verbose=0, warm_start=False),\n",
       "       fit_params=None, iid='warn', n_jobs=None,\n",
       "       param_grid={'criterion': ['mse'], 'n_estimators': [95, 96, 97, 98, 99, 100, 101, 102, 103, 104], 'max_depth': [5], 'max_features': ['auto']},\n",
       "       pre_dispatch='2*n_jobs', refit=True, return_train_score='warn',\n",
       "       scoring=None, verbose=0)"
      ]
     },
     "execution_count": 35,
     "metadata": {},
     "output_type": "execute_result"
    }
   ],
   "source": [
    "rf_gs.fit(man_X_train, man_y_train)"
   ]
  },
  {
   "cell_type": "code",
   "execution_count": 36,
   "metadata": {},
   "outputs": [
    {
     "name": "stdout",
     "output_type": "stream",
     "text": [
      "criterion  ->  mse\n",
      "max_depth  ->  5\n",
      "max_features  ->  auto\n",
      "n_estimators  ->  96\n"
     ]
    }
   ],
   "source": [
    "best_prms = rf_gs.best_params_\n",
    "for param in best_prms:\n",
    "    print(param, \" -> \", best_prms[param])"
   ]
  },
  {
   "cell_type": "code",
   "execution_count": 37,
   "metadata": {
    "scrolled": true
   },
   "outputs": [
    {
     "data": {
      "text/plain": [
       "RandomForestRegressor(bootstrap=True, criterion='mse', max_depth=5,\n",
       "           max_features='auto', max_leaf_nodes=None,\n",
       "           min_impurity_decrease=0.0, min_impurity_split=None,\n",
       "           min_samples_leaf=1, min_samples_split=2,\n",
       "           min_weight_fraction_leaf=0.0, n_estimators=97, n_jobs=None,\n",
       "           oob_score=False, random_state=None, verbose=0, warm_start=False)"
      ]
     },
     "execution_count": 37,
     "metadata": {},
     "output_type": "execute_result"
    }
   ],
   "source": [
    "best_rf = RandomForestRegressor(criterion=\"mse\", max_depth=5, max_features=\"auto\", n_estimators=97)\n",
    "best_rf.fit(man_X_train, man_y_train)"
   ]
  },
  {
   "cell_type": "code",
   "execution_count": 38,
   "metadata": {},
   "outputs": [],
   "source": [
    "best_rf_pred = best_rf.predict(man_X_test)"
   ]
  },
  {
   "cell_type": "code",
   "execution_count": 39,
   "metadata": {},
   "outputs": [
    {
     "name": "stdout",
     "output_type": "stream",
     "text": [
      "Best Random Forest Regressor RMSE: 0.811\n",
      "Best Random Forest Regressor R^2: 0.545\n"
     ]
    }
   ],
   "source": [
    "best_rf_RMSE = rmse(best_rf_pred, man_y_test)\n",
    "best_rf_r2 = best_rf.score(man_X_test, man_y_test)\n",
    "print(f\"Best Random Forest Regressor RMSE: {best_rf_RMSE:.3f}\")\n",
    "print(f\"Best Random Forest Regressor R^2: {best_rf_r2:.3f}\")"
   ]
  },
  {
   "cell_type": "code",
   "execution_count": null,
   "metadata": {},
   "outputs": [],
   "source": []
  }
 ],
 "metadata": {
  "kernelspec": {
   "display_name": "Python 3",
   "language": "python",
   "name": "python3"
  },
  "language_info": {
   "codemirror_mode": {
    "name": "ipython",
    "version": 3
   },
   "file_extension": ".py",
   "mimetype": "text/x-python",
   "name": "python",
   "nbconvert_exporter": "python",
   "pygments_lexer": "ipython3",
   "version": "3.6.6"
  }
 },
 "nbformat": 4,
 "nbformat_minor": 2
}
