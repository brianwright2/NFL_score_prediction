{
 "cells": [
  {
   "cell_type": "code",
   "execution_count": 352,
   "metadata": {
    "ExecuteTime": {
     "end_time": "2018-12-06T07:45:18.373730Z",
     "start_time": "2018-12-06T07:45:18.367241Z"
    }
   },
   "outputs": [],
   "source": [
    "import pandas as pd\n",
    "from sklearn.ensemble import BaggingRegressor\n",
    "from sklearn.ensemble import RandomForestRegressor\n",
    "from sklearn.linear_model import LinearRegression, Ridge, ElasticNet, Lasso\n",
    "from sklearn.model_selection import train_test_split\n",
    "from sklearn.metrics import mean_squared_error, r2_score\n",
    "import numpy as np"
   ]
  },
  {
   "cell_type": "code",
   "execution_count": 208,
   "metadata": {
    "ExecuteTime": {
     "end_time": "2018-12-06T06:42:27.537819Z",
     "start_time": "2018-12-06T06:42:27.532792Z"
    }
   },
   "outputs": [],
   "source": [
    "def rmse(pred, y):\n",
    "    n = len(y)\n",
    "    RMSE = np.sqrt(sum((pred - y)**2) / n)\n",
    "    return RMSE"
   ]
  },
  {
   "cell_type": "code",
   "execution_count": 910,
   "metadata": {
    "ExecuteTime": {
     "end_time": "2018-12-07T00:53:04.258559Z",
     "start_time": "2018-12-07T00:53:04.237314Z"
    }
   },
   "outputs": [],
   "source": [
    "data_wdate = pd.read_csv('../reduced_wdate.csv', index_col=0)"
   ]
  },
  {
   "cell_type": "code",
   "execution_count": 911,
   "metadata": {
    "ExecuteTime": {
     "end_time": "2018-12-07T00:53:04.796801Z",
     "start_time": "2018-12-07T00:53:04.787969Z"
    }
   },
   "outputs": [],
   "source": [
    "data_wdate['ypa'] = data_wdate.airya+data_wdate.yaca\n",
    "data_wdate.drop(columns=['airya','yaca','airyd','yac','psd','rushsd'], inplace=True)"
   ]
  },
  {
   "cell_type": "code",
   "execution_count": 912,
   "metadata": {
    "ExecuteTime": {
     "end_time": "2018-12-07T00:53:06.161191Z",
     "start_time": "2018-12-07T00:53:06.156935Z"
    }
   },
   "outputs": [],
   "source": [
    "dates = [[] for _ in range(3)]"
   ]
  },
  {
   "cell_type": "code",
   "execution_count": 913,
   "metadata": {
    "ExecuteTime": {
     "end_time": "2018-12-07T00:53:06.601794Z",
     "start_time": "2018-12-07T00:53:06.588500Z"
    }
   },
   "outputs": [],
   "source": [
    "for date in data_wdate.date:\n",
    "    date = date.split('/')\n",
    "    if date[1] == '01':\n",
    "        date[1] == 13\n",
    "        date[0] == int(date[0])-1\n",
    "    for i in range(3):\n",
    "        dates[i].append(int(date[i]))"
   ]
  },
  {
   "cell_type": "code",
   "execution_count": 914,
   "metadata": {
    "ExecuteTime": {
     "end_time": "2018-12-07T00:53:07.427558Z",
     "start_time": "2018-12-07T00:53:07.422572Z"
    }
   },
   "outputs": [],
   "source": [
    "dates = pd.DataFrame(np.array(dates).T, columns=['yr','mon','day'], index=data_wdate.index)"
   ]
  },
  {
   "cell_type": "code",
   "execution_count": 915,
   "metadata": {
    "ExecuteTime": {
     "end_time": "2018-12-07T00:53:08.566910Z",
     "start_time": "2018-12-07T00:53:08.528903Z"
    }
   },
   "outputs": [],
   "source": [
    "data_wdate['mon'] = dates.mon + dates.day/31\n",
    "data_wdate['yr'] = dates.yr\n",
    "data_wdate.sort_values(['yr','mon'], inplace=True)\n",
    "\n",
    "X_train = data_wdate[data_wdate.yr<=2014].drop(columns=['scores','date','ot'])\n",
    "y_train = data_wdate[data_wdate.yr<=2014][['scores','team','yr']]\n",
    "X_test = data_wdate[data_wdate.yr>2014].drop(columns=['scores','date','ot'])\n",
    "y_test = data_wdate[data_wdate.yr>2014][['scores','team','yr']]"
   ]
  },
  {
   "cell_type": "code",
   "execution_count": 916,
   "metadata": {
    "ExecuteTime": {
     "end_time": "2018-12-07T00:53:09.301785Z",
     "start_time": "2018-12-07T00:53:09.186017Z"
    }
   },
   "outputs": [
    {
     "data": {
      "text/plain": [
       "BaggingRegressor(base_estimator=Lasso(alpha=1.0, copy_X=True, fit_intercept=True, max_iter=1000,\n",
       "   normalize=False, positive=False, precompute=False, random_state=None,\n",
       "   selection='cyclic', tol=0.0001, warm_start=False),\n",
       "         bootstrap=True, bootstrap_features=False, max_features=1.0,\n",
       "         max_samples=0.915, n_estimators=59, n_jobs=None, oob_score=False,\n",
       "         random_state=None, verbose=0, warm_start=False)"
      ]
     },
     "execution_count": 916,
     "metadata": {},
     "output_type": "execute_result"
    }
   ],
   "source": [
    "bag = BaggingRegressor(Lasso(), n_estimators=59, max_samples=.915)\n",
    "bag.fit(X_train.drop(columns=['team','mon','yr']), y_train.scores)"
   ]
  },
  {
   "cell_type": "code",
   "execution_count": 917,
   "metadata": {
    "ExecuteTime": {
     "end_time": "2018-12-07T00:53:10.586509Z",
     "start_time": "2018-12-07T00:53:10.581289Z"
    }
   },
   "outputs": [],
   "source": [
    "teams = [(team, i) for i, team in enumerate(sorted(X_test.team.unique()))]\n",
    "team_dict = dict(teams)"
   ]
  },
  {
   "cell_type": "code",
   "execution_count": 918,
   "metadata": {
    "ExecuteTime": {
     "end_time": "2018-12-07T00:53:19.205887Z",
     "start_time": "2018-12-07T00:53:11.130602Z"
    }
   },
   "outputs": [],
   "source": [
    "tm_clusterid = [[] for _ in range(3)]\n",
    "for i in range(2009,2015):\n",
    "    X_yr = X_train[X_train.yr==i]\n",
    "    y_train_i = y_train.scores[X_train.yr==i]\n",
    "    ses_season = [[] for _ in range(34)]\n",
    "    for j in range(X_yr.shape[0]):\n",
    "        X_gm = X_yr.iloc[j,:]\n",
    "        X_gm = X_gm.drop(['team','mon','yr'], axis=0).copy()\n",
    "        tm_gm_pred = bag.predict(X_gm.values.reshape(1, -1))\n",
    "        se_gm = (tm_gm_pred-y_train_i.iloc[j])**2\n",
    "        ses_season[team_dict[X_yr.team.iloc[j]]].append(se_gm)\n",
    "    for k, tm in enumerate(ses_season):\n",
    "        if len(tm)>0:\n",
    "            tm_clusterid[0].append(teams[k][0])\n",
    "            tm_clusterid[1].append(i)\n",
    "            tm_clusterid[2].append(np.sqrt((sum(tm)/len(tm))).tolist()[0])"
   ]
  },
  {
   "cell_type": "code",
   "execution_count": 919,
   "metadata": {
    "ExecuteTime": {
     "end_time": "2018-12-07T00:53:20.993825Z",
     "start_time": "2018-12-07T00:53:20.975530Z"
    }
   },
   "outputs": [],
   "source": [
    "tm_clusterid = pd.DataFrame(tm_clusterid, index=['team','yr','rmse']).transpose()"
   ]
  },
  {
   "cell_type": "code",
   "execution_count": 943,
   "metadata": {
    "ExecuteTime": {
     "end_time": "2018-12-07T01:00:09.589805Z",
     "start_time": "2018-12-07T01:00:09.560939Z"
    }
   },
   "outputs": [],
   "source": [
    "n_clusters=2\n",
    "kmeans = KMeans(n_clusters=n_clusters, random_state = 0).fit(tm_clusterid.rmse.values.reshape(-1,1))"
   ]
  },
  {
   "cell_type": "code",
   "execution_count": 944,
   "metadata": {
    "ExecuteTime": {
     "end_time": "2018-12-07T01:00:10.254514Z",
     "start_time": "2018-12-07T01:00:10.250122Z"
    }
   },
   "outputs": [],
   "source": [
    "tm_clusterid['clusterid'] = kmeans.labels_\n",
    "tm_clusterid['yr'] = np.array(tm_clusterid.yr, dtype='int64')"
   ]
  },
  {
   "cell_type": "code",
   "execution_count": 945,
   "metadata": {
    "ExecuteTime": {
     "end_time": "2018-12-07T01:00:11.588242Z",
     "start_time": "2018-12-07T01:00:11.556531Z"
    }
   },
   "outputs": [],
   "source": [
    "lassos = []\n",
    "for i in range(n_clusters):\n",
    "    cluster_i = tm_clusterid[tm_clusterid.clusterid==i]\n",
    "    X_i_train = cluster_i.merge(X_train, on=['team','yr'])\n",
    "    X_i_train.drop(columns=['team','yr','mon','rmse','clusterid'], inplace=True)\n",
    "    y_i_train = cluster_i.merge(y_train, on=['team','yr']).scores\n",
    "    lasso_i = Lasso()\n",
    "    lasso_i.fit(X_i_train, y_i_train)\n",
    "    lassos.append(lasso_i)"
   ]
  },
  {
   "cell_type": "code",
   "execution_count": 946,
   "metadata": {
    "ExecuteTime": {
     "end_time": "2018-12-07T01:00:13.712586Z",
     "start_time": "2018-12-07T01:00:12.894863Z"
    }
   },
   "outputs": [
    {
     "ename": "KeyError",
     "evalue": "'Miami Dolphins'",
     "output_type": "error",
     "traceback": [
      "\u001b[0;31m---------------------------------------------------------------------------\u001b[0m",
      "\u001b[0;31mKeyError\u001b[0m                                  Traceback (most recent call last)",
      "\u001b[0;32m<ipython-input-946-bc9d678e86de>\u001b[0m in \u001b[0;36m<module>\u001b[0;34m\u001b[0m\n\u001b[1;32m     26\u001b[0m     \u001b[0;32mfor\u001b[0m \u001b[0mj\u001b[0m \u001b[0;32min\u001b[0m \u001b[0mrange\u001b[0m\u001b[0;34m(\u001b[0m\u001b[0mX_yr_late\u001b[0m\u001b[0;34m.\u001b[0m\u001b[0mshape\u001b[0m\u001b[0;34m[\u001b[0m\u001b[0;36m0\u001b[0m\u001b[0;34m]\u001b[0m\u001b[0;34m)\u001b[0m\u001b[0;34m:\u001b[0m\u001b[0;34m\u001b[0m\u001b[0m\n\u001b[1;32m     27\u001b[0m         \u001b[0mX_gm\u001b[0m \u001b[0;34m=\u001b[0m \u001b[0mX_yr_late\u001b[0m\u001b[0;34m.\u001b[0m\u001b[0miloc\u001b[0m\u001b[0;34m[\u001b[0m\u001b[0mj\u001b[0m\u001b[0;34m,\u001b[0m\u001b[0;34m:\u001b[0m\u001b[0;34m]\u001b[0m\u001b[0;34m\u001b[0m\u001b[0m\n\u001b[0;32m---> 28\u001b[0;31m         \u001b[0mlasso_i\u001b[0m \u001b[0;34m=\u001b[0m \u001b[0mlassos\u001b[0m\u001b[0;34m[\u001b[0m\u001b[0mtm_clusterid_i\u001b[0m\u001b[0;34m[\u001b[0m\u001b[0mX_gm\u001b[0m\u001b[0;34m.\u001b[0m\u001b[0mteam\u001b[0m\u001b[0;34m]\u001b[0m\u001b[0;34m]\u001b[0m\u001b[0;34m\u001b[0m\u001b[0m\n\u001b[0m\u001b[1;32m     29\u001b[0m         \u001b[0mX_gm\u001b[0m \u001b[0;34m=\u001b[0m \u001b[0mX_gm\u001b[0m\u001b[0;34m.\u001b[0m\u001b[0mdrop\u001b[0m\u001b[0;34m(\u001b[0m\u001b[0;34m[\u001b[0m\u001b[0;34m'team'\u001b[0m\u001b[0;34m,\u001b[0m\u001b[0;34m'mon'\u001b[0m\u001b[0;34m,\u001b[0m\u001b[0;34m'yr'\u001b[0m\u001b[0;34m]\u001b[0m\u001b[0;34m,\u001b[0m \u001b[0maxis\u001b[0m\u001b[0;34m=\u001b[0m\u001b[0;36m0\u001b[0m\u001b[0;34m)\u001b[0m\u001b[0;34m.\u001b[0m\u001b[0mcopy\u001b[0m\u001b[0;34m(\u001b[0m\u001b[0;34m)\u001b[0m\u001b[0;34m\u001b[0m\u001b[0m\n\u001b[1;32m     30\u001b[0m \u001b[0;34m\u001b[0m\u001b[0m\n",
      "\u001b[0;31mKeyError\u001b[0m: 'Miami Dolphins'"
     ]
    }
   ],
   "source": [
    "y_pred_bag = []\n",
    "y_pred_lassos = []\n",
    "y_test_total = []\n",
    "threshold=12\n",
    "for i in range(2015,2018):\n",
    "    X_yr = X_test[X_test.yr==i]\n",
    "    y_test_i = y_test.scores[X_test.yr==i]\n",
    "    ses_season = [[] for _ in range(34)]\n",
    "    X_yr_early = X_yr[X_yr.mon<threshold]\n",
    "    X_yr_late = X_yr[X_yr.mon>=threshold]\n",
    "    y_test_early = y_test_i[X_yr.mon<threshold]\n",
    "    y_test_late = y_test_i[X_yr.mon>=threshold]\n",
    "    y_test_total.extend(y_test_late)\n",
    "    for j in range(X_yr_early.shape[0]):\n",
    "        X_gm = X_yr_early.iloc[j,:]\n",
    "        X_gm = X_gm.drop(['team','mon','yr'], axis=0).copy()\n",
    "        tm_gm_pred = bag.predict(X_gm.values.reshape(1, -1))\n",
    "        se_gm = (tm_gm_pred-y_test_early.iloc[j])**2\n",
    "        ses_season[team_dict[X_yr_early.team.iloc[j]]].append(se_gm)\n",
    "    tm_clusterid_i = dict()\n",
    "    for k, tm in enumerate(ses_season):\n",
    "        if len(tm)>0:\n",
    "            rmse_tm = np.sqrt((sum(tm)/len(tm))).tolist()[0]\n",
    "            pred_cluster = kmeans.predict(np.array([rmse_tm]).reshape(1,-1))[0]\n",
    "            tm_clusterid_i[teams[k][0]] = pred_cluster\n",
    "    for j in range(X_yr_late.shape[0]):\n",
    "        X_gm = X_yr_late.iloc[j,:]\n",
    "        lasso_i = lassos[tm_clusterid_i[X_gm.team]]\n",
    "        X_gm = X_gm.drop(['team','mon','yr'], axis=0).copy()\n",
    "        \n",
    "        tm_gm_pred = lasso_i.predict(X_gm.values.reshape(1, -1))\n",
    "        y_pred_lassos.append(tm_gm_pred[0])\n",
    "        \n",
    "        tm_gm_bag = bag.predict(X_gm.values.reshape(1, -1))\n",
    "        y_pred_bag.append(tm_gm_bag[0])"
   ]
  },
  {
   "cell_type": "code",
   "execution_count": 951,
   "metadata": {
    "ExecuteTime": {
     "end_time": "2018-12-07T01:02:21.097371Z",
     "start_time": "2018-12-07T01:02:21.091749Z"
    }
   },
   "outputs": [
    {
     "data": {
      "text/plain": [
       "(172, 16)"
      ]
     },
     "execution_count": 951,
     "metadata": {},
     "output_type": "execute_result"
    }
   ],
   "source": [
    "X_yr_early.shape"
   ]
  },
  {
   "cell_type": "code",
   "execution_count": 925,
   "metadata": {
    "ExecuteTime": {
     "end_time": "2018-12-07T00:54:04.529802Z",
     "start_time": "2018-12-07T00:54:04.522094Z"
    }
   },
   "outputs": [
    {
     "data": {
      "text/plain": [
       "6.477784361959278"
      ]
     },
     "execution_count": 925,
     "metadata": {},
     "output_type": "execute_result"
    }
   ],
   "source": [
    "rmse(np.array(y_test_total), np.array(y_pred_lassos))"
   ]
  },
  {
   "cell_type": "code",
   "execution_count": 926,
   "metadata": {
    "ExecuteTime": {
     "end_time": "2018-12-07T00:54:05.592553Z",
     "start_time": "2018-12-07T00:54:05.586995Z"
    }
   },
   "outputs": [
    {
     "data": {
      "text/plain": [
       "6.430421982260228"
      ]
     },
     "execution_count": 926,
     "metadata": {},
     "output_type": "execute_result"
    }
   ],
   "source": [
    "rmse(np.array(y_test_total), np.array(y_pred_bag))"
   ]
  },
  {
   "cell_type": "code",
   "execution_count": null,
   "metadata": {},
   "outputs": [],
   "source": []
  },
  {
   "cell_type": "code",
   "execution_count": null,
   "metadata": {},
   "outputs": [],
   "source": []
  },
  {
   "cell_type": "code",
   "execution_count": null,
   "metadata": {},
   "outputs": [],
   "source": []
  },
  {
   "cell_type": "code",
   "execution_count": null,
   "metadata": {},
   "outputs": [],
   "source": []
  },
  {
   "cell_type": "code",
   "execution_count": null,
   "metadata": {},
   "outputs": [],
   "source": []
  },
  {
   "cell_type": "code",
   "execution_count": 920,
   "metadata": {
    "ExecuteTime": {
     "end_time": "2018-12-07T00:53:34.334749Z",
     "start_time": "2018-12-07T00:53:33.457279Z"
    }
   },
   "outputs": [
    {
     "data": {
      "text/plain": [
       "Text(0.5, 1.0, 'Silhouette curve')"
      ]
     },
     "execution_count": 920,
     "metadata": {},
     "output_type": "execute_result"
    },
    {
     "data": {
      "image/png": "[encoded data removed]",
      "text/plain": [
       "<Figure size 432x288 with 1 Axes>"
      ]
     },
     "metadata": {
      "needs_background": "light"
     },
     "output_type": "display_data"
    }
   ],
   "source": [
    "silhouettes = []\n",
    "for k in range(2, 15):\n",
    "    kmeans = KMeans(n_clusters=k, random_state = 0)\n",
    "    cluster_labels = kmeans.fit_predict(tm_clusterid.rmse.values.reshape(-1,1))\n",
    "    silhouettes.append(silhouette_score(tm_clusterid.rmse.values.reshape(-1,1), cluster_labels))\n",
    "\n",
    "# fig = plt.figure(figsize=(15, 5))\n",
    "plt.plot(range(2, 15), silhouettes)\n",
    "plt.grid(True)\n",
    "plt.xlabel('Number of clusters', fontsize=12)\n",
    "plt.ylabel('Silhouette Coefficient', fontsize=12)\n",
    "plt.title('Silhouette curve')"
   ]
  },
  {
   "cell_type": "code",
   "execution_count": null,
   "metadata": {},
   "outputs": [],
   "source": []
  },
  {
   "cell_type": "code",
   "execution_count": null,
   "metadata": {},
   "outputs": [],
   "source": []
  },
  {
   "cell_type": "code",
   "execution_count": 546,
   "metadata": {
    "ExecuteTime": {
     "end_time": "2018-12-06T19:12:33.225751Z",
     "start_time": "2018-12-06T19:12:33.205479Z"
    }
   },
   "outputs": [],
   "source": [
    "data = pd.read_csv('../reduced_noot.csv', index_col=0)\n",
    "data['home'] = np.append(np.ones(int(data.shape[0]/2)), np.zeros(int(data.shape[0]/2)))"
   ]
  },
  {
   "cell_type": "code",
   "execution_count": 547,
   "metadata": {
    "ExecuteTime": {
     "end_time": "2018-12-06T19:12:37.286738Z",
     "start_time": "2018-12-06T19:12:37.266325Z"
    }
   },
   "outputs": [
    {
     "data": {
      "text/html": [
       "<div>\n",
       "<style scoped>\n",
       "    .dataframe tbody tr th:only-of-type {\n",
       "        vertical-align: middle;\n",
       "    }\n",
       "\n",
       "    .dataframe tbody tr th {\n",
       "        vertical-align: top;\n",
       "    }\n",
       "\n",
       "    .dataframe thead th {\n",
       "        text-align: right;\n",
       "    }\n",
       "</style>\n",
       "<table border=\"1\" class=\"dataframe\">\n",
       "  <thead>\n",
       "    <tr style=\"text-align: right;\">\n",
       "      <th></th>\n",
       "      <th>scores</th>\n",
       "      <th>predscores</th>\n",
       "      <th>tmhalfsc</th>\n",
       "      <th>opphalfsc</th>\n",
       "      <th>airya</th>\n",
       "      <th>yaca</th>\n",
       "      <th>psd</th>\n",
       "      <th>patt</th>\n",
       "      <th>comppct</th>\n",
       "      <th>ratt</th>\n",
       "      <th>rushsd</th>\n",
       "      <th>ypr</th>\n",
       "      <th>int_pct</th>\n",
       "      <th>sack_pct</th>\n",
       "      <th>sack_yd_pct</th>\n",
       "      <th>fum_pct</th>\n",
       "      <th>home</th>\n",
       "    </tr>\n",
       "  </thead>\n",
       "  <tbody>\n",
       "    <tr>\n",
       "      <th>1</th>\n",
       "      <td>16</td>\n",
       "      <td>24.75</td>\n",
       "      <td>6</td>\n",
       "      <td>13</td>\n",
       "      <td>2.894737</td>\n",
       "      <td>3.842105</td>\n",
       "      <td>9.688538</td>\n",
       "      <td>19</td>\n",
       "      <td>0.578947</td>\n",
       "      <td>8</td>\n",
       "      <td>3.041381</td>\n",
       "      <td>1.500000</td>\n",
       "      <td>0.105263</td>\n",
       "      <td>0.095238</td>\n",
       "      <td>-0.523810</td>\n",
       "      <td>0.000000</td>\n",
       "      <td>1.0</td>\n",
       "    </tr>\n",
       "    <tr>\n",
       "      <th>2</th>\n",
       "      <td>38</td>\n",
       "      <td>24.75</td>\n",
       "      <td>10</td>\n",
       "      <td>7</td>\n",
       "      <td>4.280000</td>\n",
       "      <td>2.720000</td>\n",
       "      <td>5.771360</td>\n",
       "      <td>25</td>\n",
       "      <td>0.640000</td>\n",
       "      <td>13</td>\n",
       "      <td>2.466341</td>\n",
       "      <td>3.384615</td>\n",
       "      <td>0.000000</td>\n",
       "      <td>0.038462</td>\n",
       "      <td>-0.230769</td>\n",
       "      <td>0.025641</td>\n",
       "      <td>1.0</td>\n",
       "    </tr>\n",
       "    <tr>\n",
       "      <th>3</th>\n",
       "      <td>20</td>\n",
       "      <td>17.75</td>\n",
       "      <td>13</td>\n",
       "      <td>10</td>\n",
       "      <td>2.636364</td>\n",
       "      <td>1.636364</td>\n",
       "      <td>5.799367</td>\n",
       "      <td>11</td>\n",
       "      <td>0.636364</td>\n",
       "      <td>15</td>\n",
       "      <td>4.318436</td>\n",
       "      <td>3.466667</td>\n",
       "      <td>0.000000</td>\n",
       "      <td>0.153846</td>\n",
       "      <td>-0.769231</td>\n",
       "      <td>0.071429</td>\n",
       "      <td>1.0</td>\n",
       "    </tr>\n",
       "    <tr>\n",
       "      <th>4</th>\n",
       "      <td>7</td>\n",
       "      <td>24.75</td>\n",
       "      <td>0</td>\n",
       "      <td>10</td>\n",
       "      <td>1.333333</td>\n",
       "      <td>4.133333</td>\n",
       "      <td>5.473573</td>\n",
       "      <td>15</td>\n",
       "      <td>0.666667</td>\n",
       "      <td>10</td>\n",
       "      <td>4.044750</td>\n",
       "      <td>2.200000</td>\n",
       "      <td>0.000000</td>\n",
       "      <td>0.000000</td>\n",
       "      <td>0.000000</td>\n",
       "      <td>0.040000</td>\n",
       "      <td>1.0</td>\n",
       "    </tr>\n",
       "    <tr>\n",
       "      <th>5</th>\n",
       "      <td>14</td>\n",
       "      <td>25.50</td>\n",
       "      <td>7</td>\n",
       "      <td>6</td>\n",
       "      <td>4.047619</td>\n",
       "      <td>4.285714</td>\n",
       "      <td>9.140873</td>\n",
       "      <td>21</td>\n",
       "      <td>0.714286</td>\n",
       "      <td>15</td>\n",
       "      <td>3.234536</td>\n",
       "      <td>2.733333</td>\n",
       "      <td>0.047619</td>\n",
       "      <td>0.045455</td>\n",
       "      <td>-0.318182</td>\n",
       "      <td>0.027027</td>\n",
       "      <td>1.0</td>\n",
       "    </tr>\n",
       "  </tbody>\n",
       "</table>\n",
       "</div>"
      ],
      "text/plain": [
       "   scores  predscores  tmhalfsc  opphalfsc     airya      yaca       psd  \\\n",
       "1      16       24.75         6         13  2.894737  3.842105  9.688538   \n",
       "2      38       24.75        10          7  4.280000  2.720000  5.771360   \n",
       "3      20       17.75        13         10  2.636364  1.636364  5.799367   \n",
       "4       7       24.75         0         10  1.333333  4.133333  5.473573   \n",
       "5      14       25.50         7          6  4.047619  4.285714  9.140873   \n",
       "\n",
       "   patt   comppct  ratt    rushsd       ypr   int_pct  sack_pct  sack_yd_pct  \\\n",
       "1    19  0.578947     8  3.041381  1.500000  0.105263  0.095238    -0.523810   \n",
       "2    25  0.640000    13  2.466341  3.384615  0.000000  0.038462    -0.230769   \n",
       "3    11  0.636364    15  4.318436  3.466667  0.000000  0.153846    -0.769231   \n",
       "4    15  0.666667    10  4.044750  2.200000  0.000000  0.000000     0.000000   \n",
       "5    21  0.714286    15  3.234536  2.733333  0.047619  0.045455    -0.318182   \n",
       "\n",
       "    fum_pct  home  \n",
       "1  0.000000   1.0  \n",
       "2  0.025641   1.0  \n",
       "3  0.071429   1.0  \n",
       "4  0.040000   1.0  \n",
       "5  0.027027   1.0  "
      ]
     },
     "execution_count": 547,
     "metadata": {},
     "output_type": "execute_result"
    }
   ],
   "source": [
    "data.head()"
   ]
  },
  {
   "cell_type": "code",
   "execution_count": 274,
   "metadata": {
    "ExecuteTime": {
     "end_time": "2018-12-06T07:03:45.458649Z",
     "start_time": "2018-12-06T07:03:45.452828Z"
    }
   },
   "outputs": [],
   "source": [
    "# X = data[['predscores','tmhalfsc','opphalfsc','airya','yaca','psd']]\n",
    "X = data.drop(columns=['scores','date','team','ot')\n",
    "y = data['scores']"
   ]
  },
  {
   "cell_type": "code",
   "execution_count": 107,
   "metadata": {
    "ExecuteTime": {
     "end_time": "2018-12-06T06:20:00.480677Z",
     "start_time": "2018-12-06T06:20:00.475332Z"
    }
   },
   "outputs": [],
   "source": [
    "X_train, X_test, y_train, y_test = train_test_split(X, y, test_size=0.25)"
   ]
  },
  {
   "cell_type": "code",
   "execution_count": 108,
   "metadata": {
    "ExecuteTime": {
     "end_time": "2018-12-06T06:20:01.010815Z",
     "start_time": "2018-12-06T06:20:00.879954Z"
    }
   },
   "outputs": [
    {
     "data": {
      "text/plain": [
       "BaggingRegressor(base_estimator=Lasso(alpha=1.0, copy_X=True, fit_intercept=True, max_iter=1000,\n",
       "   normalize=False, positive=False, precompute=False, random_state=None,\n",
       "   selection='cyclic', tol=0.0001, warm_start=False),\n",
       "         bootstrap=True, bootstrap_features=False, max_features=1.0,\n",
       "         max_samples=0.915, n_estimators=59, n_jobs=None, oob_score=False,\n",
       "         random_state=None, verbose=0, warm_start=False)"
      ]
     },
     "execution_count": 108,
     "metadata": {},
     "output_type": "execute_result"
    }
   ],
   "source": [
    "bag = BaggingRegressor(Lasso(), n_estimators=59, max_samples=.915)\n",
    "bag.fit(X_train, y_train)"
   ]
  },
  {
   "cell_type": "code",
   "execution_count": 109,
   "metadata": {
    "ExecuteTime": {
     "end_time": "2018-12-06T06:20:01.485790Z",
     "start_time": "2018-12-06T06:20:01.470819Z"
    }
   },
   "outputs": [
    {
     "data": {
      "text/plain": [
       "0.5427360335851822"
      ]
     },
     "execution_count": 109,
     "metadata": {},
     "output_type": "execute_result"
    }
   ],
   "source": [
    "bag.score(X_test, y_test)"
   ]
  },
  {
   "cell_type": "code",
   "execution_count": 110,
   "metadata": {
    "ExecuteTime": {
     "end_time": "2018-12-06T06:20:01.999696Z",
     "start_time": "2018-12-06T06:20:01.982851Z"
    }
   },
   "outputs": [
    {
     "data": {
      "text/plain": [
       "6.680319930120178"
      ]
     },
     "execution_count": 110,
     "metadata": {},
     "output_type": "execute_result"
    }
   ],
   "source": [
    "rmse(bag.predict(X_test), y_test)"
   ]
  },
  {
   "cell_type": "code",
   "execution_count": 47,
   "metadata": {
    "ExecuteTime": {
     "end_time": "2018-12-06T05:27:25.599583Z",
     "start_time": "2018-12-06T05:27:25.307940Z"
    }
   },
   "outputs": [],
   "source": [
    "from sklearn.cluster import KMeans\n",
    "from sklearn.preprocessing import StandardScaler\n",
    "from sklearn.metrics import silhouette_score\n",
    "import matplotlib.pyplot as plt"
   ]
  },
  {
   "cell_type": "code",
   "execution_count": 99,
   "metadata": {
    "ExecuteTime": {
     "end_time": "2018-12-06T05:46:58.716549Z",
     "start_time": "2018-12-06T05:46:58.709219Z"
    }
   },
   "outputs": [],
   "source": [
    "def plot_silhouette_curve(data, max_no_of_clusters = 15, Standardize = True):    \n",
    "    X = data.drop(columns='scores')\n",
    "    if Standardize:\n",
    "        scaler = StandardScaler()\n",
    "        X = scaler.fit_transform(X)\n",
    "\n",
    "    silhouettes = []\n",
    "    for k in range(2, max_no_of_clusters):\n",
    "        kmeans = KMeans(n_clusters=k, random_state = 0)\n",
    "        cluster_labels = kmeans.fit_predict(X)\n",
    "        silhouettes.append(silhouette_score(X, cluster_labels))\n",
    "        \n",
    "    fig = plt.figure(figsize=(15, 5))\n",
    "    plt.plot(range(2, max_no_of_clusters), silhouettes)\n",
    "    plt.grid(True)\n",
    "    plt.xlabel('Number of clusters', fontsize=12)\n",
    "    plt.ylabel('Silhouette Coefficient', fontsize=12)\n",
    "    plt.title('Silhouette curve')"
   ]
  },
  {
   "cell_type": "code",
   "execution_count": 267,
   "metadata": {
    "ExecuteTime": {
     "end_time": "2018-12-06T07:00:13.098901Z",
     "start_time": "2018-12-06T07:00:09.627832Z"
    }
   },
   "outputs": [
    {
     "name": "stderr",
     "output_type": "stream",
     "text": [
      "/Users/eddieowens/miniconda3/envs/ml/lib/python3.6/site-packages/sklearn/preprocessing/data.py:617: DataConversionWarning: Data with input dtype int64, float64 were all converted to float64 by StandardScaler.\n",
      "  return self.partial_fit(X, y)\n",
      "/Users/eddieowens/miniconda3/envs/ml/lib/python3.6/site-packages/sklearn/base.py:462: DataConversionWarning: Data with input dtype int64, float64 were all converted to float64 by StandardScaler.\n",
      "  return self.fit(X, **fit_params).transform(X)\n"
     ]
    },
    {
     "data": {
      "image/png": "[encoded data removed]",
      "text/plain": [
       "<Figure size 1080x360 with 1 Axes>"
      ]
     },
     "metadata": {
      "needs_background": "light"
     },
     "output_type": "display_data"
    }
   ],
   "source": [
    "plot_silhouette_curve(data[data.home==0])"
   ]
  },
  {
   "cell_type": "code",
   "execution_count": 313,
   "metadata": {
    "ExecuteTime": {
     "end_time": "2018-12-06T07:20:40.326971Z",
     "start_time": "2018-12-06T07:20:40.319005Z"
    }
   },
   "outputs": [],
   "source": [
    "# separately cluster home and away\n",
    "def cluster_home_away(n_clusters):\n",
    "    X = data[data.home==1].drop(columns='scores')\n",
    "    scaler = StandardScaler()\n",
    "    X = scaler.fit_transform(X)\n",
    "\n",
    "    kmeans = KMeans(n_clusters=n_clusters, random_state = 0).fit(X)\n",
    "\n",
    "    idx = np.argsort(kmeans.cluster_centers_.sum(axis=1))\n",
    "    lut = np.zeros_like(idx)\n",
    "    lut[idx] = np.arange(n_clusters)\n",
    "\n",
    "    X = data[data.home==0].drop(columns='scores')\n",
    "    scaler = StandardScaler()\n",
    "    X = scaler.fit_transform(X)\n",
    "\n",
    "    kmeans2 = KMeans(n_clusters=n_clusters, random_state = 0).fit(X)\n",
    "\n",
    "    idx = np.argsort(kmeans.cluster_centers_.sum(axis=1))\n",
    "    lut2 = np.zeros_like(idx)\n",
    "    lut2[idx] = np.arange(n_clusters)\n",
    "\n",
    "    data['cluster_id'] = np.append(lut[kmeans.labels_], lut2[kmeans2.labels_]+n_clusters)"
   ]
  },
  {
   "cell_type": "code",
   "execution_count": 314,
   "metadata": {
    "ExecuteTime": {
     "end_time": "2018-12-06T07:21:10.267643Z",
     "start_time": "2018-12-06T07:21:10.262486Z"
    }
   },
   "outputs": [],
   "source": [
    "def cluster_normal(n_clusters):\n",
    "    X = data.drop(columns='scores')\n",
    "    scaler = StandardScaler()\n",
    "    X = scaler.fit_transform(X)\n",
    "\n",
    "    kmeans = KMeans(n_clusters=n_clusters, random_state = 0).fit(X)\n",
    "\n",
    "    idx = np.argsort(kmeans.cluster_centers_.sum(axis=1))\n",
    "    lut = np.zeros_like(idx)\n",
    "    lut[idx] = np.arange(n_clusters)\n",
    "\n",
    "    data['cluster_id'] = lut[kmeans.labels_]"
   ]
  },
  {
   "cell_type": "code",
   "execution_count": 189,
   "metadata": {
    "ExecuteTime": {
     "end_time": "2018-12-06T06:37:02.645180Z",
     "start_time": "2018-12-06T06:37:02.636584Z"
    }
   },
   "outputs": [],
   "source": [
    "def get_cluster_means(df):\n",
    "    cluster_means = pd.DataFrame([], index=df.columns)\n",
    "    for i in range(len(set(df.cluster_id))):\n",
    "        means_feature_i = df[df.cluster_id==i].mean()\n",
    "        means_feature_i = pd.DataFrame(means_feature_i, columns=[i])\n",
    "        cluster_means = cluster_means.merge(means_feature_i, how='inner', left_index=True, right_index=True)\n",
    "    cluster_means = cluster_means.transpose()\n",
    "    cluster_means['count'] = df.cluster_id.value_counts()\n",
    "    return cluster_means.drop('cluster_id', axis=1)"
   ]
  },
  {
   "cell_type": "code",
   "execution_count": 321,
   "metadata": {
    "ExecuteTime": {
     "end_time": "2018-12-06T07:27:11.078696Z",
     "start_time": "2018-12-06T07:27:11.071651Z"
    }
   },
   "outputs": [],
   "source": [
    "def fit_n_bags(n_clusters):\n",
    "    y_pred = []\n",
    "    y_actual = []\n",
    "    scores = []\n",
    "    for i in range(n_clusters):\n",
    "        cluster_i = data[data.cluster_id==i]\n",
    "        X = cluster_i.drop(columns=['cluster_id','scores','home'])\n",
    "        y = cluster_i['scores']\n",
    "        X_train, X_test, y_train, y_test = train_test_split(X, y)\n",
    "\n",
    "        bag = BaggingRegressor(Lasso(), n_estimators=59, max_samples=.9)\n",
    "        bag.fit(X_train, y_train)\n",
    "\n",
    "        y_pred_i = bag.predict(X_test)\n",
    "        y_pred.extend(y_pred_i)\n",
    "        y_actual.extend(y_test)\n",
    "        scores.append((bag.score(X_test, y_test), rmse(y_test, y_pred_i)))\n",
    "    \n",
    "    y_pred = np.array(y_pred)\n",
    "    y_actual = np.array(y_actual)\n",
    "    \n",
    "    return rmse(y_pred, y_actual), r2_score(y_actual, y_pred), scores"
   ]
  },
  {
   "cell_type": "code",
   "execution_count": 338,
   "metadata": {
    "ExecuteTime": {
     "end_time": "2018-12-06T07:34:47.767760Z",
     "start_time": "2018-12-06T07:34:47.737357Z"
    }
   },
   "outputs": [
    {
     "name": "stderr",
     "output_type": "stream",
     "text": [
      "/Users/eddieowens/miniconda3/envs/ml/lib/python3.6/site-packages/sklearn/preprocessing/data.py:617: DataConversionWarning: Data with input dtype int64, float64 were all converted to float64 by StandardScaler.\n",
      "  return self.partial_fit(X, y)\n",
      "/Users/eddieowens/miniconda3/envs/ml/lib/python3.6/site-packages/sklearn/base.py:462: DataConversionWarning: Data with input dtype int64, float64 were all converted to float64 by StandardScaler.\n",
      "  return self.fit(X, **fit_params).transform(X)\n"
     ]
    }
   ],
   "source": [
    "cluster_normal(1)\n",
    "# cluster_home_away(1)"
   ]
  },
  {
   "cell_type": "code",
   "execution_count": 339,
   "metadata": {
    "ExecuteTime": {
     "end_time": "2018-12-06T07:34:56.282408Z",
     "start_time": "2018-12-06T07:34:56.274692Z"
    }
   },
   "outputs": [
    {
     "data": {
      "text/plain": [
       "0    2938\n",
       "Name: cluster_id, dtype: int64"
      ]
     },
     "execution_count": 339,
     "metadata": {},
     "output_type": "execute_result"
    }
   ],
   "source": [
    "data.cluster_id.value_counts()"
   ]
  },
  {
   "cell_type": "code",
   "execution_count": 340,
   "metadata": {
    "ExecuteTime": {
     "end_time": "2018-12-06T07:34:57.545513Z",
     "start_time": "2018-12-06T07:34:57.517338Z"
    }
   },
   "outputs": [
    {
     "data": {
      "text/html": [
       "<div>\n",
       "<style scoped>\n",
       "    .dataframe tbody tr th:only-of-type {\n",
       "        vertical-align: middle;\n",
       "    }\n",
       "\n",
       "    .dataframe tbody tr th {\n",
       "        vertical-align: top;\n",
       "    }\n",
       "\n",
       "    .dataframe thead th {\n",
       "        text-align: right;\n",
       "    }\n",
       "</style>\n",
       "<table border=\"1\" class=\"dataframe\">\n",
       "  <thead>\n",
       "    <tr style=\"text-align: right;\">\n",
       "      <th></th>\n",
       "      <th>scores</th>\n",
       "      <th>predscores</th>\n",
       "      <th>tmhalfsc</th>\n",
       "      <th>opphalfsc</th>\n",
       "      <th>airya</th>\n",
       "      <th>yaca</th>\n",
       "      <th>psd</th>\n",
       "      <th>patt</th>\n",
       "      <th>comppct</th>\n",
       "      <th>ratt</th>\n",
       "      <th>rushsd</th>\n",
       "      <th>ypr</th>\n",
       "      <th>int_pct</th>\n",
       "      <th>sack_pct</th>\n",
       "      <th>sack_yd_pct</th>\n",
       "      <th>fum_pct</th>\n",
       "      <th>home</th>\n",
       "      <th>count</th>\n",
       "    </tr>\n",
       "  </thead>\n",
       "  <tbody>\n",
       "    <tr>\n",
       "      <th>0</th>\n",
       "      <td>22.334922</td>\n",
       "      <td>22.261572</td>\n",
       "      <td>11.179374</td>\n",
       "      <td>11.179374</td>\n",
       "      <td>3.848866</td>\n",
       "      <td>3.424165</td>\n",
       "      <td>8.74095</td>\n",
       "      <td>17.024506</td>\n",
       "      <td>0.627702</td>\n",
       "      <td>13.014295</td>\n",
       "      <td>5.117404</td>\n",
       "      <td>4.294557</td>\n",
       "      <td>0.025551</td>\n",
       "      <td>0.064862</td>\n",
       "      <td>-0.41521</td>\n",
       "      <td>0.018482</td>\n",
       "      <td>0.5</td>\n",
       "      <td>2938</td>\n",
       "    </tr>\n",
       "  </tbody>\n",
       "</table>\n",
       "</div>"
      ],
      "text/plain": [
       "      scores  predscores   tmhalfsc  opphalfsc     airya      yaca      psd  \\\n",
       "0  22.334922   22.261572  11.179374  11.179374  3.848866  3.424165  8.74095   \n",
       "\n",
       "        patt   comppct       ratt    rushsd       ypr   int_pct  sack_pct  \\\n",
       "0  17.024506  0.627702  13.014295  5.117404  4.294557  0.025551  0.064862   \n",
       "\n",
       "   sack_yd_pct   fum_pct  home  count  \n",
       "0     -0.41521  0.018482   0.5   2938  "
      ]
     },
     "execution_count": 340,
     "metadata": {},
     "output_type": "execute_result"
    }
   ],
   "source": [
    "get_cluster_means(data)"
   ]
  },
  {
   "cell_type": "code",
   "execution_count": 342,
   "metadata": {
    "ExecuteTime": {
     "end_time": "2018-12-06T07:35:10.844380Z",
     "start_time": "2018-12-06T07:35:05.912387Z"
    }
   },
   "outputs": [],
   "source": [
    "n_clusters=1\n",
    "results = []\n",
    "score_avg = pd.DataFrame(np.zeros((n_clusters, 2)))\n",
    "for i in range(50):\n",
    "    rmse_i, r2, scores = fit_n_bags(n_clusters)\n",
    "    score_avg += pd.DataFrame(scores)\n",
    "    results.append((rmse_i, r2))"
   ]
  },
  {
   "cell_type": "code",
   "execution_count": 343,
   "metadata": {
    "ExecuteTime": {
     "end_time": "2018-12-06T07:35:10.860459Z",
     "start_time": "2018-12-06T07:35:10.847474Z"
    }
   },
   "outputs": [
    {
     "data": {
      "text/plain": [
       "0    6.775537\n",
       "1    0.559747\n",
       "dtype: float64"
      ]
     },
     "execution_count": 343,
     "metadata": {},
     "output_type": "execute_result"
    }
   ],
   "source": [
    "pd.DataFrame(results).mean()"
   ]
  },
  {
   "cell_type": "code",
   "execution_count": 344,
   "metadata": {
    "ExecuteTime": {
     "end_time": "2018-12-06T07:35:10.881948Z",
     "start_time": "2018-12-06T07:35:10.865169Z"
    }
   },
   "outputs": [
    {
     "data": {
      "text/html": [
       "<div>\n",
       "<style scoped>\n",
       "    .dataframe tbody tr th:only-of-type {\n",
       "        vertical-align: middle;\n",
       "    }\n",
       "\n",
       "    .dataframe tbody tr th {\n",
       "        vertical-align: top;\n",
       "    }\n",
       "\n",
       "    .dataframe thead th {\n",
       "        text-align: right;\n",
       "    }\n",
       "</style>\n",
       "<table border=\"1\" class=\"dataframe\">\n",
       "  <thead>\n",
       "    <tr style=\"text-align: right;\">\n",
       "      <th></th>\n",
       "      <th>0</th>\n",
       "      <th>1</th>\n",
       "    </tr>\n",
       "  </thead>\n",
       "  <tbody>\n",
       "    <tr>\n",
       "      <th>0</th>\n",
       "      <td>0.559747</td>\n",
       "      <td>6.775537</td>\n",
       "    </tr>\n",
       "  </tbody>\n",
       "</table>\n",
       "</div>"
      ],
      "text/plain": [
       "          0         1\n",
       "0  0.559747  6.775537"
      ]
     },
     "execution_count": 344,
     "metadata": {},
     "output_type": "execute_result"
    }
   ],
   "source": [
    "score_avg/50"
   ]
  },
  {
   "cell_type": "code",
   "execution_count": null,
   "metadata": {},
   "outputs": [],
   "source": [
    "6.775, .554"
   ]
  },
  {
   "cell_type": "code",
   "execution_count": 423,
   "metadata": {
    "ExecuteTime": {
     "end_time": "2018-12-06T08:13:23.512680Z",
     "start_time": "2018-12-06T08:13:23.503103Z"
    }
   },
   "outputs": [],
   "source": [
    "def fit_Random_Cactus(X, y, best_params):\n",
    "    X_train, X_test, y_train, y_test = train_test_split(X, y, test_size=0.25, random_state=9213)\n",
    "    base_rf = RandomForestRegressor(**best_params)\n",
    "    base_rf.fit(X_train, y_train)\n",
    "    base_rf_pred = base_rf.predict(X_test)\n",
    "    base_rf_RMSE = rmse(base_rf_pred, y_test)\n",
    "#     print(f\"Decision Tree Regressor RMSE: {base_rf_RMSE:.3f}\")\n",
    "#     print(f\"Random Forest Regressor R^2: {base_rf.score(X_test, y_test):.3f}\")\n",
    "    \n",
    "    leaf_id_trees = base_rf.apply(X_train)\n",
    "    regressors = dict()\n",
    "    for i, leaves in enumerate(leaf_id_trees.transpose()):\n",
    "        regressors_tree = dict()\n",
    "        leaf_nodes = set(leaves)\n",
    "        for leaf in leaf_nodes:\n",
    "            leaf_sample_X = X_train[leaves==leaf]\n",
    "            leaf_sample_y = y_train[leaves==leaf]\n",
    "            leaf_regression = Lasso()\n",
    "            leaf_regression.fit(leaf_sample_X, leaf_sample_y)\n",
    "            regressors_tree[leaf] = leaf_regression\n",
    "        regressors[i] = regressors_tree\n",
    "    \n",
    "    leaf_id_test_trees = base_rf.apply(X_test)\n",
    "    y_pred = [[] for _ in range(leaf_id_test_trees.shape[0])]\n",
    "    for i, leaves in enumerate(leaf_id_test_trees.transpose()):\n",
    "        for j, leaf in enumerate(leaves):\n",
    "            leaf_regression = regressors[i][leaf]\n",
    "            pred_j = leaf_regression.predict(pd.DataFrame(X_test.iloc[j,:]).transpose())\n",
    "            y_pred[j].append(pred_j[0])\n",
    "    y_pred = [sum(row)/len(row) for row in y_pred]\n",
    "        \n",
    "#     print(f\"Random Cactus RMSE: {rmse(y_pred, y_test):.3f}\")\n",
    "#     print(f\"Random Cactus R^2: {r2_score(y_test, y_pred):.3f}\")\n",
    "        \n",
    "    return y_pred"
   ]
  },
  {
   "cell_type": "code",
   "execution_count": 541,
   "metadata": {
    "ExecuteTime": {
     "end_time": "2018-12-06T19:07:08.882559Z",
     "start_time": "2018-12-06T19:07:08.847604Z"
    }
   },
   "outputs": [],
   "source": [
    "data = pd.read_csv('../reduced_noot.csv', index_col=0)\n",
    "data['home'] = np.append(np.ones(int(data.shape[0]/2)), np.zeros(int(data.shape[0]/2)))\n",
    "data['pya_psd'] = (data.airya+data.yaca)-data.psd\n",
    "# data['rya_rsd'] = data.ypr/data.rushsd\n",
    "# data = data.dropna()\n",
    "X = data.drop(columns='scores')\n",
    "y = data['scores']"
   ]
  },
  {
   "cell_type": "code",
   "execution_count": 542,
   "metadata": {
    "ExecuteTime": {
     "end_time": "2018-12-06T19:07:09.169331Z",
     "start_time": "2018-12-06T19:07:09.159231Z"
    }
   },
   "outputs": [],
   "source": [
    "X_train, X_test, y_train, y_test = train_test_split(X, y, test_size=0.25, random_state=9213)"
   ]
  },
  {
   "cell_type": "code",
   "execution_count": 543,
   "metadata": {
    "ExecuteTime": {
     "end_time": "2018-12-06T19:07:09.522859Z",
     "start_time": "2018-12-06T19:07:09.372314Z"
    }
   },
   "outputs": [],
   "source": [
    "bag = BaggingRegressor(Lasso(), n_estimators=59, max_samples=.915)\n",
    "bag.fit(X_train, y_train)\n",
    "y_pred_bag = bag.predict(X_test)"
   ]
  },
  {
   "cell_type": "code",
   "execution_count": 544,
   "metadata": {
    "ExecuteTime": {
     "end_time": "2018-12-06T19:07:09.629603Z",
     "start_time": "2018-12-06T19:07:09.616212Z"
    }
   },
   "outputs": [
    {
     "data": {
      "text/plain": [
       "predscores     0.520063\n",
       "tmhalfsc       0.913906\n",
       "opphalfsc      0.026614\n",
       "airya          0.000000\n",
       "yaca           0.000000\n",
       "psd            0.001149\n",
       "patt           0.013022\n",
       "comppct        0.000000\n",
       "ratt          -0.001425\n",
       "rushsd         0.002634\n",
       "ypr            0.000000\n",
       "int_pct        0.000000\n",
       "sack_pct       0.000000\n",
       "sack_yd_pct    0.000000\n",
       "fum_pct        0.000000\n",
       "home           0.000000\n",
       "pya_psd        0.000322\n",
       "dtype: float64"
      ]
     },
     "execution_count": 544,
     "metadata": {},
     "output_type": "execute_result"
    }
   ],
   "source": [
    "# avg_coeffs = np.zeros(X.shape[1])\n",
    "pd.DataFrame([bag.estimators_[i].coef_ for i in range(59)], columns=X.columns).mean()"
   ]
  },
  {
   "cell_type": "code",
   "execution_count": 545,
   "metadata": {
    "ExecuteTime": {
     "end_time": "2018-12-06T19:07:10.248976Z",
     "start_time": "2018-12-06T19:07:10.240057Z"
    }
   },
   "outputs": [
    {
     "data": {
      "text/plain": [
       "0.5543201652271595"
      ]
     },
     "execution_count": 545,
     "metadata": {},
     "output_type": "execute_result"
    }
   ],
   "source": [
    "r2_score(y_test, y_pred_bag)"
   ]
  },
  {
   "cell_type": "code",
   "execution_count": 427,
   "metadata": {
    "ExecuteTime": {
     "end_time": "2018-12-06T08:14:42.556547Z",
     "start_time": "2018-12-06T08:13:26.738002Z"
    }
   },
   "outputs": [],
   "source": [
    "y_pred_rc = fit_Random_Cactus(X, y, {'min_samples_leaf': 0.011666666666666665, 'n_estimators': 95})"
   ]
  },
  {
   "cell_type": "code",
   "execution_count": 434,
   "metadata": {
    "ExecuteTime": {
     "end_time": "2018-12-06T08:20:59.667893Z",
     "start_time": "2018-12-06T08:20:59.448130Z"
    }
   },
   "outputs": [
    {
     "data": {
      "image/png": "[encoded data removed]",
      "text/plain": [
       "<Figure size 432x288 with 1 Axes>"
      ]
     },
     "metadata": {
      "needs_background": "light"
     },
     "output_type": "display_data"
    }
   ],
   "source": [
    "rmses = [rmse(y_test, (i*y_pred_bag+y_pred_rc)/(i+1)) for i in range(100)]\n",
    "plt.plot(rmses[2:])\n",
    "plt.show()"
   ]
  },
  {
   "cell_type": "code",
   "execution_count": 435,
   "metadata": {
    "ExecuteTime": {
     "end_time": "2018-12-06T08:21:04.415046Z",
     "start_time": "2018-12-06T08:21:04.410626Z"
    }
   },
   "outputs": [],
   "source": [
    "min_ind = rmses.index(min(rmses))\n",
    "meta_ensemble = (min_ind*y_pred_bag+y_pred_rc)/(min_ind+1)"
   ]
  },
  {
   "cell_type": "code",
   "execution_count": 436,
   "metadata": {
    "ExecuteTime": {
     "end_time": "2018-12-06T08:21:04.669085Z",
     "start_time": "2018-12-06T08:21:04.661817Z"
    }
   },
   "outputs": [
    {
     "data": {
      "text/plain": [
       "0.5541433502569222"
      ]
     },
     "execution_count": 436,
     "metadata": {},
     "output_type": "execute_result"
    }
   ],
   "source": [
    "r2_score(y_test, meta_ensemble)"
   ]
  },
  {
   "cell_type": "code",
   "execution_count": 437,
   "metadata": {
    "ExecuteTime": {
     "end_time": "2018-12-06T08:21:04.959860Z",
     "start_time": "2018-12-06T08:21:04.950570Z"
    }
   },
   "outputs": [
    {
     "data": {
      "text/plain": [
       "6.885294024681991"
      ]
     },
     "execution_count": 437,
     "metadata": {},
     "output_type": "execute_result"
    }
   ],
   "source": [
    "rmse(y_test, meta_ensemble)"
   ]
  },
  {
   "cell_type": "code",
   "execution_count": 438,
   "metadata": {
    "ExecuteTime": {
     "end_time": "2018-12-06T08:21:05.577205Z",
     "start_time": "2018-12-06T08:21:05.571329Z"
    }
   },
   "outputs": [
    {
     "data": {
      "text/plain": [
       "6.885042826844175"
      ]
     },
     "execution_count": 438,
     "metadata": {},
     "output_type": "execute_result"
    }
   ],
   "source": [
    "rmse(y_test, y_pred_bag)"
   ]
  },
  {
   "cell_type": "code",
   "execution_count": 439,
   "metadata": {
    "ExecuteTime": {
     "end_time": "2018-12-06T08:21:06.319034Z",
     "start_time": "2018-12-06T08:21:06.313245Z"
    }
   },
   "outputs": [
    {
     "data": {
      "text/plain": [
       "99"
      ]
     },
     "execution_count": 439,
     "metadata": {},
     "output_type": "execute_result"
    }
   ],
   "source": [
    "min_ind"
   ]
  },
  {
   "cell_type": "code",
   "execution_count": null,
   "metadata": {},
   "outputs": [],
   "source": []
  }
 ],
 "metadata": {
  "kernelspec": {
   "display_name": "Python 3",
   "language": "python",
   "name": "python3"
  },
  "language_info": {
   "codemirror_mode": {
    "name": "ipython",
    "version": 3
   },
   "file_extension": ".py",
   "mimetype": "text/x-python",
   "name": "python",
   "nbconvert_exporter": "python",
   "pygments_lexer": "ipython3",
   "version": "3.6.6"
  },
  "toc": {
   "base_numbering": 1,
   "nav_menu": {},
   "number_sections": true,
   "sideBar": true,
   "skip_h1_title": false,
   "title_cell": "Table of Contents",
   "title_sidebar": "Contents",
   "toc_cell": false,
   "toc_position": {},
   "toc_section_display": true,
   "toc_window_display": false
  }
 },
 "nbformat": 4,
 "nbformat_minor": 2
}
