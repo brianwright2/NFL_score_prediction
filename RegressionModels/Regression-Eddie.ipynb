{
 "cells": [
  {
   "cell_type": "code",
   "execution_count": 352,
   "metadata": {
    "ExecuteTime": {
     "end_time": "2018-12-06T07:45:18.373730Z",
     "start_time": "2018-12-06T07:45:18.367241Z"
    }
   },
   "outputs": [],
   "source": [
    "import pandas as pd\n",
    "from sklearn.ensemble import BaggingRegressor\n",
    "from sklearn.ensemble import RandomForestRegressor\n",
    "from sklearn.linear_model import LinearRegression, Ridge, ElasticNet, Lasso\n",
    "from sklearn.model_selection import train_test_split\n",
    "from sklearn.metrics import mean_squared_error, r2_score\n",
    "import numpy as np"
   ]
  },
  {
   "cell_type": "code",
   "execution_count": 208,
   "metadata": {
    "ExecuteTime": {
     "end_time": "2018-12-06T06:42:27.537819Z",
     "start_time": "2018-12-06T06:42:27.532792Z"
    }
   },
   "outputs": [],
   "source": [
    "def rmse(pred, y):\n",
    "    n = len(y)\n",
    "    RMSE = np.sqrt(sum((pred - y)**2) / n)\n",
    "    return RMSE"
   ]
  },
  {
   "cell_type": "code",
   "execution_count": 273,
   "metadata": {
    "ExecuteTime": {
     "end_time": "2018-12-06T07:03:44.024950Z",
     "start_time": "2018-12-06T07:03:44.003283Z"
    }
   },
   "outputs": [],
   "source": [
    "data = pd.read_csv('../reduced_noot.csv', index_col=0)\n",
    "data['home'] = np.append(np.ones(int(data.shape[0]/2)), np.zeros(int(data.shape[0]/2)))"
   ]
  },
  {
   "cell_type": "code",
   "execution_count": 274,
   "metadata": {
    "ExecuteTime": {
     "end_time": "2018-12-06T07:03:45.458649Z",
     "start_time": "2018-12-06T07:03:45.452828Z"
    }
   },
   "outputs": [],
   "source": [
    "# X = data[['predscores','tmhalfsc','opphalfsc','airya','yaca','psd']]\n",
    "X = data.drop(columns='scores')\n",
    "y = data['scores']"
   ]
  },
  {
   "cell_type": "code",
   "execution_count": 107,
   "metadata": {
    "ExecuteTime": {
     "end_time": "2018-12-06T06:20:00.480677Z",
     "start_time": "2018-12-06T06:20:00.475332Z"
    }
   },
   "outputs": [],
   "source": [
    "X_train, X_test, y_train, y_test = train_test_split(X, y, test_size=0.25)"
   ]
  },
  {
   "cell_type": "code",
   "execution_count": 108,
   "metadata": {
    "ExecuteTime": {
     "end_time": "2018-12-06T06:20:01.010815Z",
     "start_time": "2018-12-06T06:20:00.879954Z"
    }
   },
   "outputs": [
    {
     "data": {
      "text/plain": [
       "BaggingRegressor(base_estimator=Lasso(alpha=1.0, copy_X=True, fit_intercept=True, max_iter=1000,\n",
       "   normalize=False, positive=False, precompute=False, random_state=None,\n",
       "   selection='cyclic', tol=0.0001, warm_start=False),\n",
       "         bootstrap=True, bootstrap_features=False, max_features=1.0,\n",
       "         max_samples=0.915, n_estimators=59, n_jobs=None, oob_score=False,\n",
       "         random_state=None, verbose=0, warm_start=False)"
      ]
     },
     "execution_count": 108,
     "metadata": {},
     "output_type": "execute_result"
    }
   ],
   "source": [
    "bag = BaggingRegressor(Lasso(), n_estimators=59, max_samples=.915)\n",
    "bag.fit(X_train, y_train)"
   ]
  },
  {
   "cell_type": "code",
   "execution_count": 109,
   "metadata": {
    "ExecuteTime": {
     "end_time": "2018-12-06T06:20:01.485790Z",
     "start_time": "2018-12-06T06:20:01.470819Z"
    }
   },
   "outputs": [
    {
     "data": {
      "text/plain": [
       "0.5427360335851822"
      ]
     },
     "execution_count": 109,
     "metadata": {},
     "output_type": "execute_result"
    }
   ],
   "source": [
    "bag.score(X_test, y_test)"
   ]
  },
  {
   "cell_type": "code",
   "execution_count": 110,
   "metadata": {
    "ExecuteTime": {
     "end_time": "2018-12-06T06:20:01.999696Z",
     "start_time": "2018-12-06T06:20:01.982851Z"
    }
   },
   "outputs": [
    {
     "data": {
      "text/plain": [
       "6.680319930120178"
      ]
     },
     "execution_count": 110,
     "metadata": {},
     "output_type": "execute_result"
    }
   ],
   "source": [
    "rmse(bag.predict(X_test), y_test)"
   ]
  },
  {
   "cell_type": "code",
   "execution_count": 47,
   "metadata": {
    "ExecuteTime": {
     "end_time": "2018-12-06T05:27:25.599583Z",
     "start_time": "2018-12-06T05:27:25.307940Z"
    }
   },
   "outputs": [],
   "source": [
    "from sklearn.cluster import KMeans\n",
    "from sklearn.preprocessing import StandardScaler\n",
    "from sklearn.metrics import silhouette_score\n",
    "import matplotlib.pyplot as plt"
   ]
  },
  {
   "cell_type": "code",
   "execution_count": 99,
   "metadata": {
    "ExecuteTime": {
     "end_time": "2018-12-06T05:46:58.716549Z",
     "start_time": "2018-12-06T05:46:58.709219Z"
    }
   },
   "outputs": [],
   "source": [
    "def plot_silhouette_curve(data, max_no_of_clusters = 15, Standardize = True):    \n",
    "    X = data.drop(columns='scores')\n",
    "    if Standardize:\n",
    "        scaler = StandardScaler()\n",
    "        X = scaler.fit_transform(X)\n",
    "\n",
    "    silhouettes = []\n",
    "    for k in range(2, max_no_of_clusters):\n",
    "        kmeans = KMeans(n_clusters=k, random_state = 0)\n",
    "        cluster_labels = kmeans.fit_predict(X)\n",
    "        silhouettes.append(silhouette_score(X, cluster_labels))\n",
    "        \n",
    "    fig = plt.figure(figsize=(15, 5))\n",
    "    plt.plot(range(2, max_no_of_clusters), silhouettes)\n",
    "    plt.grid(True)\n",
    "    plt.xlabel('Number of clusters', fontsize=12)\n",
    "    plt.ylabel('Silhouette Coefficient', fontsize=12)\n",
    "    plt.title('Silhouette curve')"
   ]
  },
  {
   "cell_type": "code",
   "execution_count": 267,
   "metadata": {
    "ExecuteTime": {
     "end_time": "2018-12-06T07:00:13.098901Z",
     "start_time": "2018-12-06T07:00:09.627832Z"
    }
   },
   "outputs": [
    {
     "name": "stderr",
     "output_type": "stream",
     "text": [
      "/Users/eddieowens/miniconda3/envs/ml/lib/python3.6/site-packages/sklearn/preprocessing/data.py:617: DataConversionWarning: Data with input dtype int64, float64 were all converted to float64 by StandardScaler.\n",
      "  return self.partial_fit(X, y)\n",
      "/Users/eddieowens/miniconda3/envs/ml/lib/python3.6/site-packages/sklearn/base.py:462: DataConversionWarning: Data with input dtype int64, float64 were all converted to float64 by StandardScaler.\n",
      "  return self.fit(X, **fit_params).transform(X)\n"
     ]
    },
    {
     "data": {
      "image/png": "[encoded data removed]",
      "text/plain": [
       "<Figure size 1080x360 with 1 Axes>"
      ]
     },
     "metadata": {
      "needs_background": "light"
     },
     "output_type": "display_data"
    }
   ],
   "source": [
    "plot_silhouette_curve(data[data.home==0])"
   ]
  },
  {
   "cell_type": "code",
   "execution_count": 313,
   "metadata": {
    "ExecuteTime": {
     "end_time": "2018-12-06T07:20:40.326971Z",
     "start_time": "2018-12-06T07:20:40.319005Z"
    }
   },
   "outputs": [],
   "source": [
    "# separately cluster home and away\n",
    "def cluster_home_away(n_clusters):\n",
    "    X = data[data.home==1].drop(columns='scores')\n",
    "    scaler = StandardScaler()\n",
    "    X = scaler.fit_transform(X)\n",
    "\n",
    "    kmeans = KMeans(n_clusters=n_clusters, random_state = 0).fit(X)\n",
    "\n",
    "    idx = np.argsort(kmeans.cluster_centers_.sum(axis=1))\n",
    "    lut = np.zeros_like(idx)\n",
    "    lut[idx] = np.arange(n_clusters)\n",
    "\n",
    "    X = data[data.home==0].drop(columns='scores')\n",
    "    scaler = StandardScaler()\n",
    "    X = scaler.fit_transform(X)\n",
    "\n",
    "    kmeans2 = KMeans(n_clusters=n_clusters, random_state = 0).fit(X)\n",
    "\n",
    "    idx = np.argsort(kmeans.cluster_centers_.sum(axis=1))\n",
    "    lut2 = np.zeros_like(idx)\n",
    "    lut2[idx] = np.arange(n_clusters)\n",
    "\n",
    "    data['cluster_id'] = np.append(lut[kmeans.labels_], lut2[kmeans2.labels_]+n_clusters)"
   ]
  },
  {
   "cell_type": "code",
   "execution_count": 314,
   "metadata": {
    "ExecuteTime": {
     "end_time": "2018-12-06T07:21:10.267643Z",
     "start_time": "2018-12-06T07:21:10.262486Z"
    }
   },
   "outputs": [],
   "source": [
    "def cluster_normal(n_clusters):\n",
    "    X = data.drop(columns='scores')\n",
    "    scaler = StandardScaler()\n",
    "    X = scaler.fit_transform(X)\n",
    "\n",
    "    kmeans = KMeans(n_clusters=n_clusters, random_state = 0).fit(X)\n",
    "\n",
    "    idx = np.argsort(kmeans.cluster_centers_.sum(axis=1))\n",
    "    lut = np.zeros_like(idx)\n",
    "    lut[idx] = np.arange(n_clusters)\n",
    "\n",
    "    data['cluster_id'] = lut[kmeans.labels_]"
   ]
  },
  {
   "cell_type": "code",
   "execution_count": 189,
   "metadata": {
    "ExecuteTime": {
     "end_time": "2018-12-06T06:37:02.645180Z",
     "start_time": "2018-12-06T06:37:02.636584Z"
    }
   },
   "outputs": [],
   "source": [
    "def get_cluster_means(df):\n",
    "    cluster_means = pd.DataFrame([], index=df.columns)\n",
    "    for i in range(len(set(df.cluster_id))):\n",
    "        means_feature_i = df[df.cluster_id==i].mean()\n",
    "        means_feature_i = pd.DataFrame(means_feature_i, columns=[i])\n",
    "        cluster_means = cluster_means.merge(means_feature_i, how='inner', left_index=True, right_index=True)\n",
    "    cluster_means = cluster_means.transpose()\n",
    "    cluster_means['count'] = df.cluster_id.value_counts()\n",
    "    return cluster_means.drop('cluster_id', axis=1)"
   ]
  },
  {
   "cell_type": "code",
   "execution_count": 321,
   "metadata": {
    "ExecuteTime": {
     "end_time": "2018-12-06T07:27:11.078696Z",
     "start_time": "2018-12-06T07:27:11.071651Z"
    }
   },
   "outputs": [],
   "source": [
    "def fit_n_bags(n_clusters):\n",
    "    y_pred = []\n",
    "    y_actual = []\n",
    "    scores = []\n",
    "    for i in range(n_clusters):\n",
    "        cluster_i = data[data.cluster_id==i]\n",
    "        X = cluster_i.drop(columns=['cluster_id','scores','home'])\n",
    "        y = cluster_i['scores']\n",
    "        X_train, X_test, y_train, y_test = train_test_split(X, y)\n",
    "\n",
    "        bag = BaggingRegressor(Lasso(), n_estimators=59, max_samples=.9)\n",
    "        bag.fit(X_train, y_train)\n",
    "\n",
    "        y_pred_i = bag.predict(X_test)\n",
    "        y_pred.extend(y_pred_i)\n",
    "        y_actual.extend(y_test)\n",
    "        scores.append((bag.score(X_test, y_test), rmse(y_test, y_pred_i)))\n",
    "    \n",
    "    y_pred = np.array(y_pred)\n",
    "    y_actual = np.array(y_actual)\n",
    "    \n",
    "    return rmse(y_pred, y_actual), r2_score(y_actual, y_pred), scores"
   ]
  },
  {
   "cell_type": "code",
   "execution_count": 338,
   "metadata": {
    "ExecuteTime": {
     "end_time": "2018-12-06T07:34:47.767760Z",
     "start_time": "2018-12-06T07:34:47.737357Z"
    }
   },
   "outputs": [
    {
     "name": "stderr",
     "output_type": "stream",
     "text": [
      "/Users/eddieowens/miniconda3/envs/ml/lib/python3.6/site-packages/sklearn/preprocessing/data.py:617: DataConversionWarning: Data with input dtype int64, float64 were all converted to float64 by StandardScaler.\n",
      "  return self.partial_fit(X, y)\n",
      "/Users/eddieowens/miniconda3/envs/ml/lib/python3.6/site-packages/sklearn/base.py:462: DataConversionWarning: Data with input dtype int64, float64 were all converted to float64 by StandardScaler.\n",
      "  return self.fit(X, **fit_params).transform(X)\n"
     ]
    }
   ],
   "source": [
    "cluster_normal(1)\n",
    "# cluster_home_away(1)"
   ]
  },
  {
   "cell_type": "code",
   "execution_count": 339,
   "metadata": {
    "ExecuteTime": {
     "end_time": "2018-12-06T07:34:56.282408Z",
     "start_time": "2018-12-06T07:34:56.274692Z"
    }
   },
   "outputs": [
    {
     "data": {
      "text/plain": [
       "0    2938\n",
       "Name: cluster_id, dtype: int64"
      ]
     },
     "execution_count": 339,
     "metadata": {},
     "output_type": "execute_result"
    }
   ],
   "source": [
    "data.cluster_id.value_counts()"
   ]
  },
  {
   "cell_type": "code",
   "execution_count": 340,
   "metadata": {
    "ExecuteTime": {
     "end_time": "2018-12-06T07:34:57.545513Z",
     "start_time": "2018-12-06T07:34:57.517338Z"
    }
   },
   "outputs": [
    {
     "data": {
      "text/html": [
       "<div>\n",
       "<style scoped>\n",
       "    .dataframe tbody tr th:only-of-type {\n",
       "        vertical-align: middle;\n",
       "    }\n",
       "\n",
       "    .dataframe tbody tr th {\n",
       "        vertical-align: top;\n",
       "    }\n",
       "\n",
       "    .dataframe thead th {\n",
       "        text-align: right;\n",
       "    }\n",
       "</style>\n",
       "<table border=\"1\" class=\"dataframe\">\n",
       "  <thead>\n",
       "    <tr style=\"text-align: right;\">\n",
       "      <th></th>\n",
       "      <th>scores</th>\n",
       "      <th>predscores</th>\n",
       "      <th>tmhalfsc</th>\n",
       "      <th>opphalfsc</th>\n",
       "      <th>airya</th>\n",
       "      <th>yaca</th>\n",
       "      <th>psd</th>\n",
       "      <th>patt</th>\n",
       "      <th>comppct</th>\n",
       "      <th>ratt</th>\n",
       "      <th>rushsd</th>\n",
       "      <th>ypr</th>\n",
       "      <th>int_pct</th>\n",
       "      <th>sack_pct</th>\n",
       "      <th>sack_yd_pct</th>\n",
       "      <th>fum_pct</th>\n",
       "      <th>home</th>\n",
       "      <th>count</th>\n",
       "    </tr>\n",
       "  </thead>\n",
       "  <tbody>\n",
       "    <tr>\n",
       "      <th>0</th>\n",
       "      <td>22.334922</td>\n",
       "      <td>22.261572</td>\n",
       "      <td>11.179374</td>\n",
       "      <td>11.179374</td>\n",
       "      <td>3.848866</td>\n",
       "      <td>3.424165</td>\n",
       "      <td>8.74095</td>\n",
       "      <td>17.024506</td>\n",
       "      <td>0.627702</td>\n",
       "      <td>13.014295</td>\n",
       "      <td>5.117404</td>\n",
       "      <td>4.294557</td>\n",
       "      <td>0.025551</td>\n",
       "      <td>0.064862</td>\n",
       "      <td>-0.41521</td>\n",
       "      <td>0.018482</td>\n",
       "      <td>0.5</td>\n",
       "      <td>2938</td>\n",
       "    </tr>\n",
       "  </tbody>\n",
       "</table>\n",
       "</div>"
      ],
      "text/plain": [
       "      scores  predscores   tmhalfsc  opphalfsc     airya      yaca      psd  \\\n",
       "0  22.334922   22.261572  11.179374  11.179374  3.848866  3.424165  8.74095   \n",
       "\n",
       "        patt   comppct       ratt    rushsd       ypr   int_pct  sack_pct  \\\n",
       "0  17.024506  0.627702  13.014295  5.117404  4.294557  0.025551  0.064862   \n",
       "\n",
       "   sack_yd_pct   fum_pct  home  count  \n",
       "0     -0.41521  0.018482   0.5   2938  "
      ]
     },
     "execution_count": 340,
     "metadata": {},
     "output_type": "execute_result"
    }
   ],
   "source": [
    "get_cluster_means(data)"
   ]
  },
  {
   "cell_type": "code",
   "execution_count": 342,
   "metadata": {
    "ExecuteTime": {
     "end_time": "2018-12-06T07:35:10.844380Z",
     "start_time": "2018-12-06T07:35:05.912387Z"
    }
   },
   "outputs": [],
   "source": [
    "n_clusters=1\n",
    "results = []\n",
    "score_avg = pd.DataFrame(np.zeros((n_clusters, 2)))\n",
    "for i in range(50):\n",
    "    rmse_i, r2, scores = fit_n_bags(n_clusters)\n",
    "    score_avg += pd.DataFrame(scores)\n",
    "    results.append((rmse_i, r2))"
   ]
  },
  {
   "cell_type": "code",
   "execution_count": 343,
   "metadata": {
    "ExecuteTime": {
     "end_time": "2018-12-06T07:35:10.860459Z",
     "start_time": "2018-12-06T07:35:10.847474Z"
    }
   },
   "outputs": [
    {
     "data": {
      "text/plain": [
       "0    6.775537\n",
       "1    0.559747\n",
       "dtype: float64"
      ]
     },
     "execution_count": 343,
     "metadata": {},
     "output_type": "execute_result"
    }
   ],
   "source": [
    "pd.DataFrame(results).mean()"
   ]
  },
  {
   "cell_type": "code",
   "execution_count": 344,
   "metadata": {
    "ExecuteTime": {
     "end_time": "2018-12-06T07:35:10.881948Z",
     "start_time": "2018-12-06T07:35:10.865169Z"
    }
   },
   "outputs": [
    {
     "data": {
      "text/html": [
       "<div>\n",
       "<style scoped>\n",
       "    .dataframe tbody tr th:only-of-type {\n",
       "        vertical-align: middle;\n",
       "    }\n",
       "\n",
       "    .dataframe tbody tr th {\n",
       "        vertical-align: top;\n",
       "    }\n",
       "\n",
       "    .dataframe thead th {\n",
       "        text-align: right;\n",
       "    }\n",
       "</style>\n",
       "<table border=\"1\" class=\"dataframe\">\n",
       "  <thead>\n",
       "    <tr style=\"text-align: right;\">\n",
       "      <th></th>\n",
       "      <th>0</th>\n",
       "      <th>1</th>\n",
       "    </tr>\n",
       "  </thead>\n",
       "  <tbody>\n",
       "    <tr>\n",
       "      <th>0</th>\n",
       "      <td>0.559747</td>\n",
       "      <td>6.775537</td>\n",
       "    </tr>\n",
       "  </tbody>\n",
       "</table>\n",
       "</div>"
      ],
      "text/plain": [
       "          0         1\n",
       "0  0.559747  6.775537"
      ]
     },
     "execution_count": 344,
     "metadata": {},
     "output_type": "execute_result"
    }
   ],
   "source": [
    "score_avg/50"
   ]
  },
  {
   "cell_type": "code",
   "execution_count": null,
   "metadata": {},
   "outputs": [],
   "source": [
    "6.775, .554"
   ]
  },
  {
   "cell_type": "code",
   "execution_count": 423,
   "metadata": {
    "ExecuteTime": {
     "end_time": "2018-12-06T08:13:23.512680Z",
     "start_time": "2018-12-06T08:13:23.503103Z"
    }
   },
   "outputs": [],
   "source": [
    "def fit_Random_Cactus(X, y, best_params):\n",
    "    X_train, X_test, y_train, y_test = train_test_split(X, y, test_size=0.25, random_state=9213)\n",
    "    base_rf = RandomForestRegressor(**best_params)\n",
    "    base_rf.fit(X_train, y_train)\n",
    "    base_rf_pred = base_rf.predict(X_test)\n",
    "    base_rf_RMSE = rmse(base_rf_pred, y_test)\n",
    "#     print(f\"Decision Tree Regressor RMSE: {base_rf_RMSE:.3f}\")\n",
    "#     print(f\"Random Forest Regressor R^2: {base_rf.score(X_test, y_test):.3f}\")\n",
    "    \n",
    "    leaf_id_trees = base_rf.apply(X_train)\n",
    "    regressors = dict()\n",
    "    for i, leaves in enumerate(leaf_id_trees.transpose()):\n",
    "        regressors_tree = dict()\n",
    "        leaf_nodes = set(leaves)\n",
    "        for leaf in leaf_nodes:\n",
    "            leaf_sample_X = X_train[leaves==leaf]\n",
    "            leaf_sample_y = y_train[leaves==leaf]\n",
    "            leaf_regression = Lasso()\n",
    "            leaf_regression.fit(leaf_sample_X, leaf_sample_y)\n",
    "            regressors_tree[leaf] = leaf_regression\n",
    "        regressors[i] = regressors_tree\n",
    "    \n",
    "    leaf_id_test_trees = base_rf.apply(X_test)\n",
    "    y_pred = [[] for _ in range(leaf_id_test_trees.shape[0])]\n",
    "    for i, leaves in enumerate(leaf_id_test_trees.transpose()):\n",
    "        for j, leaf in enumerate(leaves):\n",
    "            leaf_regression = regressors[i][leaf]\n",
    "            pred_j = leaf_regression.predict(pd.DataFrame(X_test.iloc[j,:]).transpose())\n",
    "            y_pred[j].append(pred_j[0])\n",
    "    y_pred = [sum(row)/len(row) for row in y_pred]\n",
    "        \n",
    "#     print(f\"Random Cactus RMSE: {rmse(y_pred, y_test):.3f}\")\n",
    "#     print(f\"Random Cactus R^2: {r2_score(y_test, y_pred):.3f}\")\n",
    "        \n",
    "    return y_pred"
   ]
  },
  {
   "cell_type": "code",
   "execution_count": 424,
   "metadata": {
    "ExecuteTime": {
     "end_time": "2018-12-06T08:13:25.360387Z",
     "start_time": "2018-12-06T08:13:25.337119Z"
    }
   },
   "outputs": [],
   "source": [
    "data = pd.read_csv('../reduced_noot.csv', index_col=0)\n",
    "data['home'] = np.append(np.ones(int(data.shape[0]/2)), np.zeros(int(data.shape[0]/2)))\n",
    "X = data.drop(columns='scores')\n",
    "y = data['scores']"
   ]
  },
  {
   "cell_type": "code",
   "execution_count": 425,
   "metadata": {
    "ExecuteTime": {
     "end_time": "2018-12-06T08:13:25.843150Z",
     "start_time": "2018-12-06T08:13:25.836644Z"
    }
   },
   "outputs": [],
   "source": [
    "X_train, X_test, y_train, y_test = train_test_split(X, y, test_size=0.25, random_state=9213)"
   ]
  },
  {
   "cell_type": "code",
   "execution_count": 426,
   "metadata": {
    "ExecuteTime": {
     "end_time": "2018-12-06T08:13:26.371700Z",
     "start_time": "2018-12-06T08:13:26.250098Z"
    }
   },
   "outputs": [],
   "source": [
    "bag = BaggingRegressor(Lasso(), n_estimators=59, max_samples=.915)\n",
    "bag.fit(X_train, y_train)\n",
    "y_pred_bag = bag.predict(X_test)"
   ]
  },
  {
   "cell_type": "code",
   "execution_count": 427,
   "metadata": {
    "ExecuteTime": {
     "end_time": "2018-12-06T08:14:42.556547Z",
     "start_time": "2018-12-06T08:13:26.738002Z"
    }
   },
   "outputs": [],
   "source": [
    "y_pred_rc = fit_Random_Cactus(X, y, {'min_samples_leaf': 0.011666666666666665, 'n_estimators': 95})"
   ]
  },
  {
   "cell_type": "code",
   "execution_count": 434,
   "metadata": {
    "ExecuteTime": {
     "end_time": "2018-12-06T08:20:59.667893Z",
     "start_time": "2018-12-06T08:20:59.448130Z"
    }
   },
   "outputs": [
    {
     "data": {
      "image/png": "[encoded data removed]",
      "text/plain": [
       "<Figure size 432x288 with 1 Axes>"
      ]
     },
     "metadata": {
      "needs_background": "light"
     },
     "output_type": "display_data"
    }
   ],
   "source": [
    "rmses = [rmse(y_test, (i*y_pred_bag+y_pred_rc)/(i+1)) for i in range(100)]\n",
    "plt.plot(rmses[2:])\n",
    "plt.show()"
   ]
  },
  {
   "cell_type": "code",
   "execution_count": 435,
   "metadata": {
    "ExecuteTime": {
     "end_time": "2018-12-06T08:21:04.415046Z",
     "start_time": "2018-12-06T08:21:04.410626Z"
    }
   },
   "outputs": [],
   "source": [
    "min_ind = rmses.index(min(rmses))\n",
    "meta_ensemble = (min_ind*y_pred_bag+y_pred_rc)/(min_ind+1)"
   ]
  },
  {
   "cell_type": "code",
   "execution_count": 436,
   "metadata": {
    "ExecuteTime": {
     "end_time": "2018-12-06T08:21:04.669085Z",
     "start_time": "2018-12-06T08:21:04.661817Z"
    }
   },
   "outputs": [
    {
     "data": {
      "text/plain": [
       "0.5541433502569222"
      ]
     },
     "execution_count": 436,
     "metadata": {},
     "output_type": "execute_result"
    }
   ],
   "source": [
    "r2_score(y_test, meta_ensemble)"
   ]
  },
  {
   "cell_type": "code",
   "execution_count": 437,
   "metadata": {
    "ExecuteTime": {
     "end_time": "2018-12-06T08:21:04.959860Z",
     "start_time": "2018-12-06T08:21:04.950570Z"
    }
   },
   "outputs": [
    {
     "data": {
      "text/plain": [
       "6.885294024681991"
      ]
     },
     "execution_count": 437,
     "metadata": {},
     "output_type": "execute_result"
    }
   ],
   "source": [
    "rmse(y_test, meta_ensemble)"
   ]
  },
  {
   "cell_type": "code",
   "execution_count": 438,
   "metadata": {
    "ExecuteTime": {
     "end_time": "2018-12-06T08:21:05.577205Z",
     "start_time": "2018-12-06T08:21:05.571329Z"
    }
   },
   "outputs": [
    {
     "data": {
      "text/plain": [
       "6.885042826844175"
      ]
     },
     "execution_count": 438,
     "metadata": {},
     "output_type": "execute_result"
    }
   ],
   "source": [
    "rmse(y_test, y_pred_bag)"
   ]
  },
  {
   "cell_type": "code",
   "execution_count": 439,
   "metadata": {
    "ExecuteTime": {
     "end_time": "2018-12-06T08:21:06.319034Z",
     "start_time": "2018-12-06T08:21:06.313245Z"
    }
   },
   "outputs": [
    {
     "data": {
      "text/plain": [
       "99"
      ]
     },
     "execution_count": 439,
     "metadata": {},
     "output_type": "execute_result"
    }
   ],
   "source": [
    "min_ind"
   ]
  },
  {
   "cell_type": "code",
   "execution_count": null,
   "metadata": {},
   "outputs": [],
   "source": []
  }
 ],
 "metadata": {
  "kernelspec": {
   "display_name": "Python 3",
   "language": "python",
   "name": "python3"
  },
  "language_info": {
   "codemirror_mode": {
    "name": "ipython",
    "version": 3
   },
   "file_extension": ".py",
   "mimetype": "text/x-python",
   "name": "python",
   "nbconvert_exporter": "python",
   "pygments_lexer": "ipython3",
   "version": "3.6.6"
  },
  "toc": {
   "base_numbering": 1,
   "nav_menu": {},
   "number_sections": true,
   "sideBar": true,
   "skip_h1_title": false,
   "title_cell": "Table of Contents",
   "title_sidebar": "Contents",
   "toc_cell": false,
   "toc_position": {},
   "toc_section_display": true,
   "toc_window_display": false
  }
 },
 "nbformat": 4,
 "nbformat_minor": 2
}
