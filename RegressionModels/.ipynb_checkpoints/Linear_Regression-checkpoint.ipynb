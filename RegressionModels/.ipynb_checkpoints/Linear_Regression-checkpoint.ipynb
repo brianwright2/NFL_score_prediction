{
 "cells": [
  {
   "cell_type": "code",
   "execution_count": 2,
   "metadata": {},
   "outputs": [],
   "source": [
    "from sklearn.linear_model import LinearRegression\n",
    "from sklearn.model_selection import train_test_split\n",
    "from sklearn.ensemble import BaggingRegressor\n",
    "from sklearn.model_selection import GridSearchCV\n",
    "from math import sqrt\n",
    "import numpy as np\n",
    "import pandas as pd\n",
    "import matplotlib.pyplot as plt\n",
    "\n",
    "%matplotlib inline"
   ]
  },
  {
   "cell_type": "code",
   "execution_count": 4,
   "metadata": {},
   "outputs": [],
   "source": [
    "reduced = pd.read_csv(\"../data/reduced.csv\")"
   ]
  },
  {
   "cell_type": "code",
   "execution_count": 5,
   "metadata": {},
   "outputs": [
    {
     "data": {
      "text/html": [
       "<div>\n",
       "<style scoped>\n",
       "    .dataframe tbody tr th:only-of-type {\n",
       "        vertical-align: middle;\n",
       "    }\n",
       "\n",
       "    .dataframe tbody tr th {\n",
       "        vertical-align: top;\n",
       "    }\n",
       "\n",
       "    .dataframe thead th {\n",
       "        text-align: right;\n",
       "    }\n",
       "</style>\n",
       "<table border=\"1\" class=\"dataframe\">\n",
       "  <thead>\n",
       "    <tr style=\"text-align: right;\">\n",
       "      <th></th>\n",
       "      <th>scores</th>\n",
       "      <th>predscores</th>\n",
       "      <th>tmhalfsc</th>\n",
       "      <th>opphalfsc</th>\n",
       "      <th>patt</th>\n",
       "      <th>ypa</th>\n",
       "      <th>comppct</th>\n",
       "      <th>int</th>\n",
       "      <th>ratt</th>\n",
       "      <th>ypr</th>\n",
       "      <th>sacks</th>\n",
       "      <th>sackyds</th>\n",
       "      <th>fum</th>\n",
       "      <th>fuml</th>\n",
       "    </tr>\n",
       "  </thead>\n",
       "  <tbody>\n",
       "    <tr>\n",
       "      <th>0</th>\n",
       "      <td>4.000000</td>\n",
       "      <td>24.75</td>\n",
       "      <td>6</td>\n",
       "      <td>13</td>\n",
       "      <td>19</td>\n",
       "      <td>6.736842</td>\n",
       "      <td>0.578947</td>\n",
       "      <td>2</td>\n",
       "      <td>8</td>\n",
       "      <td>1.500000</td>\n",
       "      <td>2</td>\n",
       "      <td>-11</td>\n",
       "      <td>0</td>\n",
       "      <td>0</td>\n",
       "    </tr>\n",
       "    <tr>\n",
       "      <th>1</th>\n",
       "      <td>6.164414</td>\n",
       "      <td>24.75</td>\n",
       "      <td>10</td>\n",
       "      <td>7</td>\n",
       "      <td>25</td>\n",
       "      <td>7.000000</td>\n",
       "      <td>0.640000</td>\n",
       "      <td>0</td>\n",
       "      <td>13</td>\n",
       "      <td>3.384615</td>\n",
       "      <td>1</td>\n",
       "      <td>-6</td>\n",
       "      <td>1</td>\n",
       "      <td>0</td>\n",
       "    </tr>\n",
       "    <tr>\n",
       "      <th>2</th>\n",
       "      <td>4.472136</td>\n",
       "      <td>17.75</td>\n",
       "      <td>13</td>\n",
       "      <td>10</td>\n",
       "      <td>11</td>\n",
       "      <td>4.272727</td>\n",
       "      <td>0.636364</td>\n",
       "      <td>0</td>\n",
       "      <td>15</td>\n",
       "      <td>3.466667</td>\n",
       "      <td>2</td>\n",
       "      <td>-10</td>\n",
       "      <td>2</td>\n",
       "      <td>0</td>\n",
       "    </tr>\n",
       "    <tr>\n",
       "      <th>3</th>\n",
       "      <td>2.645751</td>\n",
       "      <td>24.75</td>\n",
       "      <td>0</td>\n",
       "      <td>10</td>\n",
       "      <td>15</td>\n",
       "      <td>5.466667</td>\n",
       "      <td>0.666667</td>\n",
       "      <td>0</td>\n",
       "      <td>10</td>\n",
       "      <td>2.200000</td>\n",
       "      <td>0</td>\n",
       "      <td>0</td>\n",
       "      <td>1</td>\n",
       "      <td>1</td>\n",
       "    </tr>\n",
       "    <tr>\n",
       "      <th>4</th>\n",
       "      <td>3.741657</td>\n",
       "      <td>25.50</td>\n",
       "      <td>7</td>\n",
       "      <td>6</td>\n",
       "      <td>21</td>\n",
       "      <td>8.333333</td>\n",
       "      <td>0.714286</td>\n",
       "      <td>1</td>\n",
       "      <td>15</td>\n",
       "      <td>2.733333</td>\n",
       "      <td>1</td>\n",
       "      <td>-7</td>\n",
       "      <td>1</td>\n",
       "      <td>1</td>\n",
       "    </tr>\n",
       "  </tbody>\n",
       "</table>\n",
       "</div>"
      ],
      "text/plain": [
       "     scores  predscores  tmhalfsc  opphalfsc  patt       ypa   comppct  int  \\\n",
       "0  4.000000       24.75         6         13    19  6.736842  0.578947    2   \n",
       "1  6.164414       24.75        10          7    25  7.000000  0.640000    0   \n",
       "2  4.472136       17.75        13         10    11  4.272727  0.636364    0   \n",
       "3  2.645751       24.75         0         10    15  5.466667  0.666667    0   \n",
       "4  3.741657       25.50         7          6    21  8.333333  0.714286    1   \n",
       "\n",
       "   ratt       ypr  sacks  sackyds  fum  fuml  \n",
       "0     8  1.500000      2      -11    0     0  \n",
       "1    13  3.384615      1       -6    1     0  \n",
       "2    15  3.466667      2      -10    2     0  \n",
       "3    10  2.200000      0        0    1     1  \n",
       "4    15  2.733333      1       -7    1     1  "
      ]
     },
     "execution_count": 5,
     "metadata": {},
     "output_type": "execute_result"
    }
   ],
   "source": [
    "reduced = reduced.drop(columns = reduced.columns[0])\n",
    "reduced.head()"
   ]
  },
  {
   "cell_type": "code",
   "execution_count": 6,
   "metadata": {},
   "outputs": [
    {
     "data": {
      "text/plain": [
       "<matplotlib.collections.PathCollection at 0x10fa1d0f0>"
      ]
     },
     "execution_count": 6,
     "metadata": {},
     "output_type": "execute_result"
    },
    {
     "data": {
      "image/png": "[encoded data removed]",
      "text/plain": [
       "<Figure size 432x288 with 1 Axes>"
      ]
     },
     "metadata": {
      "needs_background": "light"
     },
     "output_type": "display_data"
    }
   ],
   "source": [
    "plt.scatter(reduced.tmhalfsc, reduced.scores)"
   ]
  },
  {
   "cell_type": "code",
   "execution_count": 7,
   "metadata": {},
   "outputs": [],
   "source": [
    "base_X = reduced.drop(columns=\"scores\")\n",
    "base_y = reduced[\"scores\"]"
   ]
  },
  {
   "cell_type": "code",
   "execution_count": 8,
   "metadata": {},
   "outputs": [],
   "source": [
    "X_train, X_test, y_train, y_test = train_test_split(base_X, base_y, test_size=0.25)"
   ]
  },
  {
   "cell_type": "code",
   "execution_count": 9,
   "metadata": {},
   "outputs": [
    {
     "data": {
      "text/plain": [
       "LinearRegression(copy_X=True, fit_intercept=True, n_jobs=None,\n",
       "         normalize=False)"
      ]
     },
     "execution_count": 9,
     "metadata": {},
     "output_type": "execute_result"
    }
   ],
   "source": [
    "base_lm = LinearRegression()\n",
    "base_lm.fit(X_train, y_train)"
   ]
  },
  {
   "cell_type": "code",
   "execution_count": 10,
   "metadata": {},
   "outputs": [],
   "source": [
    "base_lm_r2 = base_lm.score(X_test, y_test)"
   ]
  },
  {
   "cell_type": "code",
   "execution_count": 11,
   "metadata": {},
   "outputs": [],
   "source": [
    "base_lm_pred = base_lm.predict(X_test)"
   ]
  },
  {
   "cell_type": "code",
   "execution_count": 12,
   "metadata": {},
   "outputs": [],
   "source": [
    "def rmse(pred, y):\n",
    "    n = len(y)\n",
    "    RMSE = sqrt(sum((pred - y)**2) / n)\n",
    "    return RMSE"
   ]
  },
  {
   "cell_type": "code",
   "execution_count": 13,
   "metadata": {},
   "outputs": [],
   "source": [
    "base_lm_RMSE = rmse(base_lm_pred, y_test)"
   ]
  },
  {
   "cell_type": "code",
   "execution_count": 14,
   "metadata": {},
   "outputs": [
    {
     "name": "stdout",
     "output_type": "stream",
     "text": [
      "Baseline Linear Regression RMSE: 0.838\n"
     ]
    }
   ],
   "source": [
    "print(f\"Baseline Linear Regression RMSE: {base_lm_RMSE:.3f}\")"
   ]
  },
  {
   "cell_type": "code",
   "execution_count": 15,
   "metadata": {},
   "outputs": [
    {
     "name": "stdout",
     "output_type": "stream",
     "text": [
      "Baseline Linear Regression R^2: 0.539\n"
     ]
    }
   ],
   "source": [
    "print(f\"Baseline Linear Regression R^2: {base_lm_r2:.3f}\")"
   ]
  },
  {
   "cell_type": "code",
   "execution_count": 16,
   "metadata": {},
   "outputs": [],
   "source": [
    "\"\"\"Hand Picked Variables from R:\n",
    "predscores+tmhalfsc+patt+ypa+ratt+ypr+sackyds\"\"\"\n",
    "manual = reduced[[\"scores\", \"predscores\", \"tmhalfsc\", \"patt\", \"ypa\", \"ratt\", \"ypr\", \"sackyds\"]]"
   ]
  },
  {
   "cell_type": "code",
   "execution_count": 17,
   "metadata": {},
   "outputs": [],
   "source": [
    "man_X = manual.drop(columns=\"scores\")\n",
    "man_y = manual[\"scores\"]"
   ]
  },
  {
   "cell_type": "code",
   "execution_count": 18,
   "metadata": {},
   "outputs": [],
   "source": [
    "man_X_train, man_X_test, man_y_train, man_y_test = train_test_split(man_X, man_y, test_size=0.25)"
   ]
  },
  {
   "cell_type": "code",
   "execution_count": 19,
   "metadata": {},
   "outputs": [
    {
     "data": {
      "text/plain": [
       "LinearRegression(copy_X=True, fit_intercept=True, n_jobs=None, normalize=True)"
      ]
     },
     "execution_count": 19,
     "metadata": {},
     "output_type": "execute_result"
    }
   ],
   "source": [
    "man_lm = LinearRegression(normalize=True)\n",
    "man_lm.fit(man_X_train, man_y_train)"
   ]
  },
  {
   "cell_type": "code",
   "execution_count": 20,
   "metadata": {},
   "outputs": [],
   "source": [
    "man_lm_pred = man_lm.predict(man_X_test)"
   ]
  },
  {
   "cell_type": "code",
   "execution_count": 21,
   "metadata": {},
   "outputs": [],
   "source": [
    "man_lm_RMSE = rmse(man_lm_pred, man_y_test)\n",
    "man_lm_r2 = man_lm.score(man_X_test, man_y_test)"
   ]
  },
  {
   "cell_type": "code",
   "execution_count": 22,
   "metadata": {},
   "outputs": [
    {
     "name": "stdout",
     "output_type": "stream",
     "text": [
      "Manual Linear Regression RMSE: 0.7799\n"
     ]
    }
   ],
   "source": [
    "print(f\"Manual Linear Regression RMSE: {man_lm_RMSE:.4f}\")"
   ]
  },
  {
   "cell_type": "code",
   "execution_count": 23,
   "metadata": {},
   "outputs": [
    {
     "name": "stdout",
     "output_type": "stream",
     "text": [
      "Manual Linear Regression R^2: 0.5489\n"
     ]
    }
   ],
   "source": [
    "print(f\"Manual Linear Regression R^2: {man_lm_r2:.4f}\")"
   ]
  },
  {
   "cell_type": "code",
   "execution_count": 24,
   "metadata": {},
   "outputs": [],
   "source": [
    "coef_values = man_lm.coef_\n",
    "man_cols = list(man_X.columns)\n",
    "coefs = list(zip(man_cols, coef_values))"
   ]
  },
  {
   "cell_type": "code",
   "execution_count": 25,
   "metadata": {},
   "outputs": [
    {
     "data": {
      "text/plain": [
       "[('predscores', 0.05347112359754262),\n",
       " ('tmhalfsc', 0.1075431115562931),\n",
       " ('patt', 0.008008947061699075),\n",
       " ('ypa', 0.019732970767587156),\n",
       " ('ratt', -0.010771997639564582),\n",
       " ('ypr', 0.021937878015044588),\n",
       " ('sackyds', 0.007337891214029631)]"
      ]
     },
     "execution_count": 25,
     "metadata": {},
     "output_type": "execute_result"
    }
   ],
   "source": [
    "coefs"
   ]
  },
  {
   "cell_type": "code",
   "execution_count": 26,
   "metadata": {},
   "outputs": [],
   "source": [
    "bag_lm = LinearRegression()\n",
    "bag = BaggingRegressor(bag_lm, bootstrap=True, n_estimators=10)"
   ]
  },
  {
   "cell_type": "code",
   "execution_count": 27,
   "metadata": {},
   "outputs": [
    {
     "data": {
      "text/plain": [
       "BaggingRegressor(base_estimator=LinearRegression(copy_X=True, fit_intercept=True, n_jobs=None,\n",
       "         normalize=False),\n",
       "         bootstrap=True, bootstrap_features=False, max_features=1.0,\n",
       "         max_samples=1.0, n_estimators=10, n_jobs=None, oob_score=False,\n",
       "         random_state=None, verbose=0, warm_start=False)"
      ]
     },
     "execution_count": 27,
     "metadata": {},
     "output_type": "execute_result"
    }
   ],
   "source": [
    "bag.fit(man_X_train, man_y_train)"
   ]
  },
  {
   "cell_type": "code",
   "execution_count": 29,
   "metadata": {},
   "outputs": [],
   "source": [
    "bag_pred = bag.predict(man_X_test)\n",
    "bag_RMSE = rmse(bag_pred, man_y_test)\n",
    "bag_r2 = bag.score(man_X_test, man_y_test)"
   ]
  },
  {
   "cell_type": "code",
   "execution_count": 30,
   "metadata": {},
   "outputs": [
    {
     "data": {
      "text/plain": [
       "0.7793265851232377"
      ]
     },
     "execution_count": 30,
     "metadata": {},
     "output_type": "execute_result"
    }
   ],
   "source": [
    "bag_RMSE"
   ]
  },
  {
   "cell_type": "code",
   "execution_count": 31,
   "metadata": {},
   "outputs": [
    {
     "data": {
      "text/plain": [
       "0.5495361522643647"
      ]
     },
     "execution_count": 31,
     "metadata": {},
     "output_type": "execute_result"
    }
   ],
   "source": [
    "bag_r2"
   ]
  },
  {
   "cell_type": "code",
   "execution_count": 32,
   "metadata": {
    "scrolled": true
   },
   "outputs": [
    {
     "data": {
      "text/plain": [
       "GridSearchCV(cv=5, error_score='raise-deprecating',\n",
       "       estimator=BaggingRegressor(base_estimator=LinearRegression(copy_X=True, fit_intercept=True, n_jobs=None,\n",
       "         normalize=False),\n",
       "         bootstrap=True, bootstrap_features=False, max_features=1.0,\n",
       "         max_samples=1.0, n_estimators=10, n_jobs=None, oob_score=False,\n",
       "         random_state=None, verbose=0, warm_start=False),\n",
       "       fit_params=None, iid='warn', n_jobs=None,\n",
       "       param_grid={'n_estimators': array([1, 2, 3, 4, 5]), 'max_samples': array([0.55, 0.56, 0.57, 0.58, 0.59, 0.6 , 0.61, 0.62, 0.63, 0.64]), 'bootstrap': [True, False]},\n",
       "       pre_dispatch='2*n_jobs', refit=True, return_train_score='warn',\n",
       "       scoring=None, verbose=0)"
      ]
     },
     "execution_count": 32,
     "metadata": {},
     "output_type": "execute_result"
    }
   ],
   "source": [
    "bag_gs = BaggingRegressor(bag_lm)\n",
    "search = {\"n_estimators\":np.arange(1,6,1), \"max_samples\":np.arange(0.55, 0.65, 0.01), \n",
    "          \"bootstrap\":[True, False]}\n",
    "gs = GridSearchCV(bag_gs, search, cv=5)\n",
    "gs.fit(man_X_train, man_y_train)"
   ]
  },
  {
   "cell_type": "code",
   "execution_count": 33,
   "metadata": {},
   "outputs": [
    {
     "data": {
      "text/plain": [
       "{'bootstrap': True, 'max_samples': 0.56, 'n_estimators': 2}"
      ]
     },
     "execution_count": 33,
     "metadata": {},
     "output_type": "execute_result"
    }
   ],
   "source": [
    "gs.best_params_"
   ]
  },
  {
   "cell_type": "code",
   "execution_count": 34,
   "metadata": {},
   "outputs": [
    {
     "data": {
      "text/plain": [
       "BaggingRegressor(base_estimator=LinearRegression(copy_X=True, fit_intercept=True, n_jobs=None,\n",
       "         normalize=False),\n",
       "         bootstrap=True, bootstrap_features=False, max_features=1.0,\n",
       "         max_samples=0.56, n_estimators=2, n_jobs=None, oob_score=False,\n",
       "         random_state=None, verbose=0, warm_start=False)"
      ]
     },
     "execution_count": 34,
     "metadata": {},
     "output_type": "execute_result"
    }
   ],
   "source": [
    "gs.best_estimator_"
   ]
  },
  {
   "cell_type": "code",
   "execution_count": 35,
   "metadata": {},
   "outputs": [
    {
     "data": {
      "text/plain": [
       "0.7826220709948586"
      ]
     },
     "execution_count": 35,
     "metadata": {},
     "output_type": "execute_result"
    }
   ],
   "source": [
    "gs_pred = gs.best_estimator_.predict(man_X_test)\n",
    "rmse(gs_pred, man_y_test)"
   ]
  },
  {
   "cell_type": "code",
   "execution_count": 36,
   "metadata": {},
   "outputs": [
    {
     "data": {
      "text/plain": [
       "0.5457184050680663"
      ]
     },
     "execution_count": 36,
     "metadata": {},
     "output_type": "execute_result"
    }
   ],
   "source": [
    "gs.best_estimator_.score(man_X_test, man_y_test)"
   ]
  },
  {
   "cell_type": "markdown",
   "metadata": {},
   "source": [
    "## Cross Validation Visualization"
   ]
  },
  {
   "cell_type": "code",
   "execution_count": 240,
   "metadata": {},
   "outputs": [],
   "source": [
    "reset -fs"
   ]
  },
  {
   "cell_type": "code",
   "execution_count": 241,
   "metadata": {},
   "outputs": [],
   "source": [
    "from sklearn.linear_model import LinearRegression\n",
    "from sklearn.model_selection import train_test_split, learning_curve\n",
    "import numpy as np\n",
    "import pandas as pd\n",
    "import matplotlib.pyplot as plt\n",
    "\n",
    "%matplotlib inline"
   ]
  },
  {
   "cell_type": "code",
   "execution_count": 242,
   "metadata": {},
   "outputs": [],
   "source": [
    "reduced = pd.read_csv(\"../data/reduced.csv\")"
   ]
  },
  {
   "cell_type": "code",
   "execution_count": 243,
   "metadata": {},
   "outputs": [],
   "source": [
    "reduced = reduced.drop(columns = reduced.columns[0])"
   ]
  },
  {
   "cell_type": "code",
   "execution_count": 244,
   "metadata": {},
   "outputs": [],
   "source": [
    "X = reduced.drop(columns=\"scores\")\n",
    "y = reduced[\"scores\"]"
   ]
  },
  {
   "cell_type": "code",
   "execution_count": 245,
   "metadata": {},
   "outputs": [],
   "source": [
    "lr = LinearRegression()"
   ]
  },
  {
   "cell_type": "code",
   "execution_count": 254,
   "metadata": {},
   "outputs": [],
   "source": [
    "X_train, X_test, y_train, y_test = train_test_split(X, y , test_size=0.25)"
   ]
  },
  {
   "cell_type": "code",
   "execution_count": 255,
   "metadata": {},
   "outputs": [],
   "source": [
    "train_size, train_scores, valid_scores = learning_curve(estimator=lr, X=X_train, y=y_train, \n",
    "                                                        train_sizes=np.arange(0.75, 1.0, 0.01), cv=10)"
   ]
  },
  {
   "cell_type": "code",
   "execution_count": 256,
   "metadata": {},
   "outputs": [],
   "source": [
    "train_scores_mean = np.mean(train_scores, axis=1)\n",
    "valid_scores_mean = np.mean(valid_scores, axis=1)"
   ]
  },
  {
   "cell_type": "code",
   "execution_count": 257,
   "metadata": {},
   "outputs": [
    {
     "data": {
      "image/png": "[encoded data removed]",
      "text/plain": [
       "<Figure size 432x288 with 1 Axes>"
      ]
     },
     "metadata": {
      "needs_background": "light"
     },
     "output_type": "display_data"
    }
   ],
   "source": [
    "plt.figure()\n",
    "plt.title(\"Cross Validation\")\n",
    "plt.xlabel(\"Training Examples\")\n",
    "plt.ylabel(\"Scores\")\n",
    "plt.grid()\n",
    "plt.plot(train_size, train_scores_mean, 'o-', color=\"r\",\n",
    "             label=\"Training score\")\n",
    "plt.plot(train_size, valid_scores_mean, 'o-', color=\"g\",\n",
    "             label=\"Cross-validation score\")\n",
    "plt.ylim(0.5, 0.6)\n",
    "plot = plt.legend(loc=\"best\")"
   ]
  },
  {
   "cell_type": "markdown",
   "metadata": {},
   "source": [
    "## Transformation of tmhalfsc"
   ]
  },
  {
   "cell_type": "code",
   "execution_count": 31,
   "metadata": {},
   "outputs": [],
   "source": [
    "reset -fs"
   ]
  },
  {
   "cell_type": "code",
   "execution_count": 32,
   "metadata": {},
   "outputs": [],
   "source": [
    "from sklearn.linear_model import LinearRegression\n",
    "from sklearn.model_selection import train_test_split, learning_curve\n",
    "import numpy as np\n",
    "import pandas as pd\n",
    "import matplotlib.pyplot as plt\n",
    "\n",
    "%matplotlib inline"
   ]
  },
  {
   "cell_type": "code",
   "execution_count": 33,
   "metadata": {},
   "outputs": [],
   "source": [
    "reduced = pd.read_csv(\"../data/reduced.csv\")\n",
    "reduced = reduced.drop(columns = reduced.columns[0])"
   ]
  },
  {
   "cell_type": "code",
   "execution_count": 59,
   "metadata": {},
   "outputs": [],
   "source": [
    "X = reduced.drop(columns=\"scores\")\n",
    "y = reduced[\"scores\"]"
   ]
  },
  {
   "cell_type": "code",
   "execution_count": 60,
   "metadata": {},
   "outputs": [
    {
     "data": {
      "text/html": [
       "<div>\n",
       "<style scoped>\n",
       "    .dataframe tbody tr th:only-of-type {\n",
       "        vertical-align: middle;\n",
       "    }\n",
       "\n",
       "    .dataframe tbody tr th {\n",
       "        vertical-align: top;\n",
       "    }\n",
       "\n",
       "    .dataframe thead th {\n",
       "        text-align: right;\n",
       "    }\n",
       "</style>\n",
       "<table border=\"1\" class=\"dataframe\">\n",
       "  <thead>\n",
       "    <tr style=\"text-align: right;\">\n",
       "      <th></th>\n",
       "      <th>predscores</th>\n",
       "      <th>tmhalfsc</th>\n",
       "      <th>opphalfsc</th>\n",
       "      <th>patt</th>\n",
       "      <th>ypa</th>\n",
       "      <th>comppct</th>\n",
       "      <th>int</th>\n",
       "      <th>ratt</th>\n",
       "      <th>ypr</th>\n",
       "      <th>sacks</th>\n",
       "      <th>sackyds</th>\n",
       "      <th>fum</th>\n",
       "      <th>fuml</th>\n",
       "    </tr>\n",
       "  </thead>\n",
       "  <tbody>\n",
       "    <tr>\n",
       "      <th>0</th>\n",
       "      <td>24.75</td>\n",
       "      <td>6</td>\n",
       "      <td>13</td>\n",
       "      <td>19</td>\n",
       "      <td>6.736842</td>\n",
       "      <td>0.578947</td>\n",
       "      <td>2</td>\n",
       "      <td>8</td>\n",
       "      <td>1.500000</td>\n",
       "      <td>2</td>\n",
       "      <td>-11</td>\n",
       "      <td>0</td>\n",
       "      <td>0</td>\n",
       "    </tr>\n",
       "    <tr>\n",
       "      <th>1</th>\n",
       "      <td>24.75</td>\n",
       "      <td>10</td>\n",
       "      <td>7</td>\n",
       "      <td>25</td>\n",
       "      <td>7.000000</td>\n",
       "      <td>0.640000</td>\n",
       "      <td>0</td>\n",
       "      <td>13</td>\n",
       "      <td>3.384615</td>\n",
       "      <td>1</td>\n",
       "      <td>-6</td>\n",
       "      <td>1</td>\n",
       "      <td>0</td>\n",
       "    </tr>\n",
       "    <tr>\n",
       "      <th>2</th>\n",
       "      <td>17.75</td>\n",
       "      <td>13</td>\n",
       "      <td>10</td>\n",
       "      <td>11</td>\n",
       "      <td>4.272727</td>\n",
       "      <td>0.636364</td>\n",
       "      <td>0</td>\n",
       "      <td>15</td>\n",
       "      <td>3.466667</td>\n",
       "      <td>2</td>\n",
       "      <td>-10</td>\n",
       "      <td>2</td>\n",
       "      <td>0</td>\n",
       "    </tr>\n",
       "    <tr>\n",
       "      <th>3</th>\n",
       "      <td>24.75</td>\n",
       "      <td>0</td>\n",
       "      <td>10</td>\n",
       "      <td>15</td>\n",
       "      <td>5.466667</td>\n",
       "      <td>0.666667</td>\n",
       "      <td>0</td>\n",
       "      <td>10</td>\n",
       "      <td>2.200000</td>\n",
       "      <td>0</td>\n",
       "      <td>0</td>\n",
       "      <td>1</td>\n",
       "      <td>1</td>\n",
       "    </tr>\n",
       "    <tr>\n",
       "      <th>4</th>\n",
       "      <td>25.50</td>\n",
       "      <td>7</td>\n",
       "      <td>6</td>\n",
       "      <td>21</td>\n",
       "      <td>8.333333</td>\n",
       "      <td>0.714286</td>\n",
       "      <td>1</td>\n",
       "      <td>15</td>\n",
       "      <td>2.733333</td>\n",
       "      <td>1</td>\n",
       "      <td>-7</td>\n",
       "      <td>1</td>\n",
       "      <td>1</td>\n",
       "    </tr>\n",
       "  </tbody>\n",
       "</table>\n",
       "</div>"
      ],
      "text/plain": [
       "   predscores  tmhalfsc  opphalfsc  patt       ypa   comppct  int  ratt  \\\n",
       "0       24.75         6         13    19  6.736842  0.578947    2     8   \n",
       "1       24.75        10          7    25  7.000000  0.640000    0    13   \n",
       "2       17.75        13         10    11  4.272727  0.636364    0    15   \n",
       "3       24.75         0         10    15  5.466667  0.666667    0    10   \n",
       "4       25.50         7          6    21  8.333333  0.714286    1    15   \n",
       "\n",
       "        ypr  sacks  sackyds  fum  fuml  \n",
       "0  1.500000      2      -11    0     0  \n",
       "1  3.384615      1       -6    1     0  \n",
       "2  3.466667      2      -10    2     0  \n",
       "3  2.200000      0        0    1     1  \n",
       "4  2.733333      1       -7    1     1  "
      ]
     },
     "execution_count": 60,
     "metadata": {},
     "output_type": "execute_result"
    }
   ],
   "source": [
    "X.head()"
   ]
  },
  {
   "cell_type": "code",
   "execution_count": 61,
   "metadata": {},
   "outputs": [],
   "source": [
    "y = y**2"
   ]
  },
  {
   "cell_type": "code",
   "execution_count": 62,
   "metadata": {},
   "outputs": [],
   "source": [
    "tmhalf = np.array(X.tmhalfsc)"
   ]
  },
  {
   "cell_type": "code",
   "execution_count": 63,
   "metadata": {},
   "outputs": [],
   "source": [
    "sqrt_tmhalf = np.sqrt(tmhalf)\n",
    "log_tmhalf = []\n",
    "for i in range(len(tmhalf)):\n",
    "    if tmhalf[i] != 0:\n",
    "        log_tmhalf.append(np.log(tmhalf[i]))\n",
    "    else:\n",
    "        log_tmhalf.append(tmhalf[i])"
   ]
  },
  {
   "cell_type": "code",
   "execution_count": 80,
   "metadata": {},
   "outputs": [
    {
     "data": {
      "text/plain": [
       "<matplotlib.collections.PathCollection at 0x1a1fc819e8>"
      ]
     },
     "execution_count": 80,
     "metadata": {},
     "output_type": "execute_result"
    },
    {
     "data": {
      "image/png": "[encoded data removed]",
      "text/plain": [
       "<Figure size 432x288 with 1 Axes>"
      ]
     },
     "metadata": {
      "needs_background": "light"
     },
     "output_type": "display_data"
    }
   ],
   "source": [
    "plt.scatter(tmhalf, y)"
   ]
  },
  {
   "cell_type": "code",
   "execution_count": 78,
   "metadata": {},
   "outputs": [
    {
     "data": {
      "text/plain": [
       "<matplotlib.collections.PathCollection at 0x1a1fb00c50>"
      ]
     },
     "execution_count": 78,
     "metadata": {},
     "output_type": "execute_result"
    },
    {
     "data": {
      "image/png": "[encoded data removed]",
      "text/plain": [
       "<Figure size 432x288 with 1 Axes>"
      ]
     },
     "metadata": {
      "needs_background": "light"
     },
     "output_type": "display_data"
    }
   ],
   "source": [
    "plt.scatter(sqrt_tmhalf, y)"
   ]
  },
  {
   "cell_type": "code",
   "execution_count": 46,
   "metadata": {},
   "outputs": [
    {
     "data": {
      "text/plain": [
       "<matplotlib.collections.PathCollection at 0x1a1f5178d0>"
      ]
     },
     "execution_count": 46,
     "metadata": {},
     "output_type": "execute_result"
    },
    {
     "data": {
      "image/png": "[encoded data removed]",
      "text/plain": [
       "<Figure size 432x288 with 1 Axes>"
      ]
     },
     "metadata": {
      "needs_background": "light"
     },
     "output_type": "display_data"
    }
   ],
   "source": [
    "plt.scatter(log_tmhalf, y)"
   ]
  },
  {
   "cell_type": "code",
   "execution_count": 47,
   "metadata": {},
   "outputs": [],
   "source": [
    "# X = X.drop(columns=\"tmhalfsc\")\n",
    "# X[\"tmhalfsc\"] = sqrt_tmhalf\n",
    "# X[\"tmhalfsc\"] = log_tmhalf"
   ]
  },
  {
   "cell_type": "code",
   "execution_count": 65,
   "metadata": {},
   "outputs": [],
   "source": [
    "def rmse(pred, y):\n",
    "    n = len(y)\n",
    "    RMSE = np.sqrt(sum((pred - y)**2) / n)\n",
    "    return RMSE"
   ]
  },
  {
   "cell_type": "code",
   "execution_count": 66,
   "metadata": {},
   "outputs": [],
   "source": [
    "rmse_scores = []\n",
    "r2_scores = []\n",
    "rand_state = range(1,1000)\n",
    "for i in rand_state:\n",
    "    X_train, X_test, y_train, y_test = train_test_split(X, y, test_size=0.25, random_state=i)\n",
    "    lr = LinearRegression().fit(X_train, y_train)\n",
    "    pred = lr.predict(X_test)\n",
    "    r2_scores.append(lr.score(X_test, y_test))\n",
    "    rmse_scores.append(rmse(pred, y_test))"
   ]
  },
  {
   "cell_type": "code",
   "execution_count": 67,
   "metadata": {},
   "outputs": [],
   "source": [
    "scores = list(zip(rand_state, rmse_scores, r2_scores))"
   ]
  },
  {
   "cell_type": "code",
   "execution_count": 68,
   "metadata": {},
   "outputs": [
    {
     "name": "stdout",
     "output_type": "stream",
     "text": [
      "Models sorted on RMSE ascending:\n",
      "Random State: 894\n",
      "RMSE: 6.2641\n",
      "R^2: 0.5978\n"
     ]
    }
   ],
   "source": [
    "best_state = sorted(scores, key=lambda x: x[1])[0]\n",
    "print(\"Models sorted on RMSE ascending:\")\n",
    "print(f\"Random State: {best_state[0]}\")\n",
    "print(f\"RMSE: {best_state[1]:.4f}\")\n",
    "print(f\"R^2: {best_state[2]:.4f}\")"
   ]
  },
  {
   "cell_type": "code",
   "execution_count": 69,
   "metadata": {},
   "outputs": [
    {
     "name": "stdout",
     "output_type": "stream",
     "text": [
      "Mean RMSE: 6.756099110363486\n",
      "Median RMSE: 6.753800735210803\n",
      "Mean R^2: 0.5770027329895634\n",
      "Median R^2: 0.5783941551299936\n"
     ]
    }
   ],
   "source": [
    "print(f\"Mean RMSE: {np.mean(rmse_scores)}\")\n",
    "print(f\"Median RMSE: {np.median(rmse_scores)}\")\n",
    "print(f\"Mean R^2: {np.mean(r2_scores)}\")\n",
    "print(f\"Median R^2: {np.median(r2_scores)}\")"
   ]
  },
  {
   "cell_type": "markdown",
   "metadata": {},
   "source": [
    "Hand Picked Variables from R: predscores+tmhalfsc+patt+ypa+ratt+ypr+sackyds"
   ]
  },
  {
   "cell_type": "code",
   "execution_count": 70,
   "metadata": {},
   "outputs": [],
   "source": [
    "man_X = X[[\"predscores\", \"tmhalfsc\", \"patt\", \"ypa\", \"ratt\", \"ypr\", \"sackyds\"]]\n",
    "man_y = y"
   ]
  },
  {
   "cell_type": "code",
   "execution_count": 71,
   "metadata": {},
   "outputs": [],
   "source": [
    "man_rmse_scores = []\n",
    "man_r2_scores = []\n",
    "for i in rand_state:\n",
    "    man_X_train, man_X_test, man_y_train, man_y_test = train_test_split(man_X, man_y, test_size=0.25, random_state=i)\n",
    "    man_lr = LinearRegression(fit_intercept=False, normalize=True).fit(man_X_train, man_y_train)\n",
    "    man_pred = man_lr.predict(man_X_test)\n",
    "    man_r2_scores.append(man_lr.score(man_X_test, man_y_test))\n",
    "    man_rmse_scores.append(rmse(man_pred, man_y_test))"
   ]
  },
  {
   "cell_type": "code",
   "execution_count": 72,
   "metadata": {},
   "outputs": [],
   "source": [
    "man_scores = list(zip(rand_state, man_rmse_scores, man_r2_scores))"
   ]
  },
  {
   "cell_type": "code",
   "execution_count": 73,
   "metadata": {},
   "outputs": [
    {
     "name": "stdout",
     "output_type": "stream",
     "text": [
      "Manual models sorted on RMSE ascending:\n",
      "Random State: 894\n",
      "Manual RMSE: 6.2531\n",
      "Manual R^2: 0.5992\n"
     ]
    }
   ],
   "source": [
    "best_state = sorted(man_scores, key=lambda x: x[1])[0]\n",
    "print(\"Manual models sorted on RMSE ascending:\")\n",
    "print(f\"Random State: {best_state[0]}\")\n",
    "print(f\"Manual RMSE: {best_state[1]:.4f}\")\n",
    "print(f\"Manual R^2: {best_state[2]:.4f}\")"
   ]
  },
  {
   "cell_type": "code",
   "execution_count": 74,
   "metadata": {},
   "outputs": [
    {
     "name": "stdout",
     "output_type": "stream",
     "text": [
      "Manual mean RMSE: 6.740132919560609\n",
      "Manual median RMSE: 6.739543103718136\n",
      "Manual mean R^2: 0.579004971890103\n",
      "Manual median R^2: 0.5804830754557202\n"
     ]
    }
   ],
   "source": [
    "print(f\"Manual mean RMSE: {np.mean(man_rmse_scores)}\")\n",
    "print(f\"Manual median RMSE: {np.median(man_rmse_scores)}\")\n",
    "print(f\"Manual mean R^2: {np.mean(man_r2_scores)}\")\n",
    "print(f\"Manual median R^2: {np.median(man_r2_scores)}\")"
   ]
  },
  {
   "cell_type": "code",
   "execution_count": null,
   "metadata": {},
   "outputs": [],
   "source": []
  }
 ],
 "metadata": {
  "kernelspec": {
   "display_name": "Python 3",
   "language": "python",
   "name": "python3"
  },
  "language_info": {
   "codemirror_mode": {
    "name": "ipython",
    "version": 3
   },
   "file_extension": ".py",
   "mimetype": "text/x-python",
   "name": "python",
   "nbconvert_exporter": "python",
   "pygments_lexer": "ipython3",
   "version": "3.6.6"
  }
 },
 "nbformat": 4,
 "nbformat_minor": 2
}
