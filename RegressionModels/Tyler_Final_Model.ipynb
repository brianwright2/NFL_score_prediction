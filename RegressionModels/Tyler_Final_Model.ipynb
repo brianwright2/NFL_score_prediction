{
 "cells": [
  {
   "cell_type": "markdown",
   "metadata": {},
   "source": [
    "# Variable Selection"
   ]
  },
  {
   "cell_type": "code",
   "execution_count": 6,
   "metadata": {},
   "outputs": [],
   "source": [
    "from sklearn.linear_model import LinearRegression\n",
    "from sklearn.ensemble import RandomForestRegressor\n",
    "from sklearn.model_selection import train_test_split, GridSearchCV, learning_curve\n",
    "from sklearn.ensemble import BaggingRegressor\n",
    "import numpy as np\n",
    "import pandas as pd\n",
    "import matplotlib.pyplot as plt\n",
    "\n",
    "%matplotlib inline"
   ]
  },
  {
   "cell_type": "code",
   "execution_count": 2,
   "metadata": {},
   "outputs": [],
   "source": [
    "def run_model(model, X, y, num_iterations):\n",
    "    rmse_scores = []\n",
    "    r2_scores = []\n",
    "    rand_state = np.random.randint(0, num_iterations*10, num_iterations)\n",
    "    for i in rand_state:\n",
    "        X_train, X_test, y_train, y_test = train_test_split(X, y, test_size=0.25, random_state=i)\n",
    "        my_model = model.fit(X_train, y_train)\n",
    "        pred = my_model.predict(X_test)\n",
    "        r2_scores.append(my_model.score(X_test, y_test))\n",
    "        rmse_scores.append(rmse(pred, y_test))\n",
    "    scores = list(zip(rand_state, rmse_scores, r2_scores))\n",
    "    sorted_scores = sorted(scores, key=lambda x: x[1])\n",
    "    return sorted_scores, rmse_scores, r2_scores"
   ]
  },
  {
   "cell_type": "code",
   "execution_count": 3,
   "metadata": {},
   "outputs": [],
   "source": [
    "def rmse(pred, y):\n",
    "    n = len(y)\n",
    "    RMSE = np.sqrt(sum((pred - y)**2) / n)\n",
    "    return RMSE"
   ]
  },
  {
   "cell_type": "code",
   "execution_count": 4,
   "metadata": {},
   "outputs": [],
   "source": [
    "reduced = pd.read_csv(\"../reduced_noot.csv\")\n",
    "reduced = reduced.drop(columns = reduced.columns[0])"
   ]
  },
  {
   "cell_type": "code",
   "execution_count": 5,
   "metadata": {},
   "outputs": [],
   "source": [
    "X = reduced.drop(columns=\"scores\")\n",
    "y = reduced[\"scores\"]"
   ]
  },
  {
   "cell_type": "code",
   "execution_count": 7,
   "metadata": {},
   "outputs": [],
   "source": [
    "lr = LinearRegression()\n",
    "var_1 = X[[\"predscores\", \"tmhalfsc\", \"opphalfsc\", \"psd\", \"sack_yd_pct\", \"int_pct\", \"sack_pct\"]]\n",
    "var_2 = X[[\"predscores\", \"tmhalfsc\", \"opphalfsc\", \"psd\", \"yaca\", \"airya\"]]\n",
    "var_3 = X[[\"predscores\", \"tmhalfsc\", \"psd\", \"sack_yd_pct\", \"int_pct\", \"sack_pct\"]]\n",
    "var_4 = X[[\"predscores\", \"tmhalfsc\"]]\n",
    "var_list = [X, var_1, var_2, var_3, var_4]"
   ]
  },
  {
   "cell_type": "code",
   "execution_count": 8,
   "metadata": {},
   "outputs": [],
   "source": [
    "scores = list()\n",
    "min_rmse = list()\n",
    "avg_rmse = list()\n",
    "max_rmse = list()\n",
    "min_r2 = list()\n",
    "avg_r2 = list()\n",
    "max_r2 = list()\n",
    "for i in range(len(var_list)):\n",
    "    scs, rmse_sc, r2_sc = run_model(lr, var_list[i], y, 1000)\n",
    "    scores.append((i, scs[0]))\n",
    "    min_rmse.append((i, round(min(rmse_sc), 3)))\n",
    "    max_rmse.append((i, round(max(rmse_sc), 3)))\n",
    "    avg_rmse.append((i, round(np.mean(rmse_sc), 3)))\n",
    "    min_r2.append((i, round(min(r2_sc), 3)))\n",
    "    max_r2.append((i, round(max(r2_sc), 3)))\n",
    "    avg_r2.append((i, round(np.mean(r2_sc), 3)))"
   ]
  },
  {
   "cell_type": "code",
   "execution_count": 9,
   "metadata": {},
   "outputs": [],
   "source": [
    "gathered = list()\n",
    "for i in range(len(avg_rmse)):\n",
    "    gathered.append((i, avg_rmse[i][1], min_rmse[i][1], max_rmse[i][1], \n",
    "                     avg_r2[i][1], min_r2[i][1], max_r2[i][1]))\n",
    "gathered_sorted = sorted(gathered, key=lambda sc: sc[1])"
   ]
  },
  {
   "cell_type": "code",
   "execution_count": 10,
   "metadata": {},
   "outputs": [
    {
     "data": {
      "text/html": [
       "<div>\n",
       "<style scoped>\n",
       "    .dataframe tbody tr th:only-of-type {\n",
       "        vertical-align: middle;\n",
       "    }\n",
       "\n",
       "    .dataframe tbody tr th {\n",
       "        vertical-align: top;\n",
       "    }\n",
       "\n",
       "    .dataframe thead th {\n",
       "        text-align: right;\n",
       "    }\n",
       "</style>\n",
       "<table border=\"1\" class=\"dataframe\">\n",
       "  <thead>\n",
       "    <tr style=\"text-align: right;\">\n",
       "      <th></th>\n",
       "      <th>Var</th>\n",
       "      <th>Average RMSE</th>\n",
       "      <th>Min RMSE</th>\n",
       "      <th>Max RMSE</th>\n",
       "      <th>Average R^2</th>\n",
       "      <th>Min R^2</th>\n",
       "      <th>Max R^2</th>\n",
       "    </tr>\n",
       "  </thead>\n",
       "  <tbody>\n",
       "    <tr>\n",
       "      <th>0</th>\n",
       "      <td>1</td>\n",
       "      <td>6.766</td>\n",
       "      <td>6.283</td>\n",
       "      <td>7.219</td>\n",
       "      <td>0.556</td>\n",
       "      <td>0.465</td>\n",
       "      <td>0.622</td>\n",
       "    </tr>\n",
       "    <tr>\n",
       "      <th>1</th>\n",
       "      <td>4</td>\n",
       "      <td>6.775</td>\n",
       "      <td>6.289</td>\n",
       "      <td>7.233</td>\n",
       "      <td>0.555</td>\n",
       "      <td>0.489</td>\n",
       "      <td>0.618</td>\n",
       "    </tr>\n",
       "    <tr>\n",
       "      <th>2</th>\n",
       "      <td>2</td>\n",
       "      <td>6.784</td>\n",
       "      <td>6.246</td>\n",
       "      <td>7.262</td>\n",
       "      <td>0.554</td>\n",
       "      <td>0.483</td>\n",
       "      <td>0.630</td>\n",
       "    </tr>\n",
       "    <tr>\n",
       "      <th>3</th>\n",
       "      <td>3</td>\n",
       "      <td>6.785</td>\n",
       "      <td>6.299</td>\n",
       "      <td>7.297</td>\n",
       "      <td>0.554</td>\n",
       "      <td>0.470</td>\n",
       "      <td>0.617</td>\n",
       "    </tr>\n",
       "    <tr>\n",
       "      <th>4</th>\n",
       "      <td>0</td>\n",
       "      <td>6.788</td>\n",
       "      <td>6.331</td>\n",
       "      <td>7.266</td>\n",
       "      <td>0.552</td>\n",
       "      <td>0.455</td>\n",
       "      <td>0.618</td>\n",
       "    </tr>\n",
       "  </tbody>\n",
       "</table>\n",
       "</div>"
      ],
      "text/plain": [
       "   Var  Average RMSE  Min RMSE  Max RMSE  Average R^2  Min R^2  Max R^2\n",
       "0    1         6.766     6.283     7.219        0.556    0.465    0.622\n",
       "1    4         6.775     6.289     7.233        0.555    0.489    0.618\n",
       "2    2         6.784     6.246     7.262        0.554    0.483    0.630\n",
       "3    3         6.785     6.299     7.297        0.554    0.470    0.617\n",
       "4    0         6.788     6.331     7.266        0.552    0.455    0.618"
      ]
     },
     "execution_count": 10,
     "metadata": {},
     "output_type": "execute_result"
    }
   ],
   "source": [
    "summary = pd.DataFrame(gathered_sorted, columns=[\"Var\", \"Average RMSE\", \"Min RMSE\", \"Max RMSE\",\n",
    "                                                 \"Average R^2\", \"Min R^2\", \"Max R^2\"])\n",
    "summary"
   ]
  },
  {
   "cell_type": "code",
   "execution_count": 11,
   "metadata": {},
   "outputs": [],
   "source": [
    "var = var_list[gathered_sorted[0][0]]\n",
    "t_X_train, t_X_test, t_y_train, t_y_test = train_test_split(var, y, test_size=0.25)\n",
    "lin_reg = LinearRegression()\n",
    "bag = BaggingRegressor(lin_reg, bootstrap=True, n_estimators=60, max_samples=0.95)\n",
    "bag_scores, bag_rmse, bag_r2 = run_model(bag, var, y, 10)"
   ]
  },
  {
   "cell_type": "code",
   "execution_count": 12,
   "metadata": {},
   "outputs": [],
   "source": [
    "bag_gathered = [(gathered_sorted[0][0], np.mean(bag_rmse), min(bag_rmse), max(bag_rmse), \n",
    "                np.mean(bag_r2), min(bag_r2), max(bag_r2))]"
   ]
  },
  {
   "cell_type": "code",
   "execution_count": 14,
   "metadata": {},
   "outputs": [
    {
     "data": {
      "text/html": [
       "<div>\n",
       "<style scoped>\n",
       "    .dataframe tbody tr th:only-of-type {\n",
       "        vertical-align: middle;\n",
       "    }\n",
       "\n",
       "    .dataframe tbody tr th {\n",
       "        vertical-align: top;\n",
       "    }\n",
       "\n",
       "    .dataframe thead th {\n",
       "        text-align: right;\n",
       "    }\n",
       "</style>\n",
       "<table border=\"1\" class=\"dataframe\">\n",
       "  <thead>\n",
       "    <tr style=\"text-align: right;\">\n",
       "      <th></th>\n",
       "      <th>Var</th>\n",
       "      <th>Average RMSE</th>\n",
       "      <th>Min RMSE</th>\n",
       "      <th>Max RMSE</th>\n",
       "      <th>Average R^2</th>\n",
       "      <th>Min R^2</th>\n",
       "      <th>Max R^2</th>\n",
       "    </tr>\n",
       "  </thead>\n",
       "  <tbody>\n",
       "    <tr>\n",
       "      <th>0</th>\n",
       "      <td>1</td>\n",
       "      <td>6.767391</td>\n",
       "      <td>6.465734</td>\n",
       "      <td>7.199544</td>\n",
       "      <td>0.562284</td>\n",
       "      <td>0.516056</td>\n",
       "      <td>0.590651</td>\n",
       "    </tr>\n",
       "  </tbody>\n",
       "</table>\n",
       "</div>"
      ],
      "text/plain": [
       "   Var  Average RMSE  Min RMSE  Max RMSE  Average R^2   Min R^2   Max R^2\n",
       "0    1      6.767391  6.465734  7.199544     0.562284  0.516056  0.590651"
      ]
     },
     "execution_count": 14,
     "metadata": {},
     "output_type": "execute_result"
    }
   ],
   "source": [
    "bag_summary = pd.DataFrame(bag_gathered, columns=[\"Var\", \"Average RMSE\", \"Min RMSE\", \"Max RMSE\", \n",
    "                                                  \"Average R^2\", \"Min R^2\", \"Max R^2\"])\n",
    "bag_summary"
   ]
  },
  {
   "cell_type": "markdown",
   "metadata": {},
   "source": [
    "# Cross Validation Visualization"
   ]
  },
  {
   "cell_type": "code",
   "execution_count": 15,
   "metadata": {},
   "outputs": [],
   "source": [
    "train_size, train_scores, valid_scores = learning_curve(estimator=bag, X=t_X_train, y=t_y_train, \n",
    "                                                        train_sizes=np.arange(0.75, 1.0, 0.01), cv=10, \n",
    "                                                        n_jobs=-1)"
   ]
  },
  {
   "cell_type": "code",
   "execution_count": 16,
   "metadata": {},
   "outputs": [],
   "source": [
    "train_scores_mean = np.mean(train_scores, axis=1)\n",
    "valid_scores_mean = np.mean(valid_scores, axis=1)"
   ]
  },
  {
   "cell_type": "code",
   "execution_count": 17,
   "metadata": {},
   "outputs": [
    {
     "data": {
      "image/png": "[encoded data removed]",
      "text/plain": [
       "<Figure size 432x288 with 1 Axes>"
      ]
     },
     "metadata": {
      "needs_background": "light"
     },
     "output_type": "display_data"
    }
   ],
   "source": [
    "plt.figure()\n",
    "plt.title(\"Cross Validation\")\n",
    "plt.xlabel(\"Training Examples\")\n",
    "plt.ylabel(\"Scores\")\n",
    "plt.grid()\n",
    "plt.plot(train_size, train_scores_mean, 'o-', color=\"r\",\n",
    "             label=\"Training score\")\n",
    "plt.plot(train_size, valid_scores_mean, 'o-', color=\"g\",\n",
    "             label=\"Cross-validation score\")\n",
    "plt.ylim(0.5, 0.6)\n",
    "plot = plt.legend(loc=\"best\")"
   ]
  },
  {
   "cell_type": "markdown",
   "metadata": {},
   "source": [
    "# Grid Search over Bagging Regressor"
   ]
  },
  {
   "cell_type": "code",
   "execution_count": 18,
   "metadata": {},
   "outputs": [],
   "source": [
    "bag_search = {\"n_estimators\":np.arange(58, 63, 1), \"max_samples\":np.arange(0.9, 0.96, 0.01)}"
   ]
  },
  {
   "cell_type": "code",
   "execution_count": 19,
   "metadata": {},
   "outputs": [],
   "source": [
    "bagger = BaggingRegressor(lin_reg, bootstrap=True)\n",
    "bag_gs = GridSearchCV(bagger, bag_search, cv=10, n_jobs=-1)"
   ]
  },
  {
   "cell_type": "code",
   "execution_count": 20,
   "metadata": {},
   "outputs": [],
   "source": [
    "good_estimators = list()"
   ]
  },
  {
   "cell_type": "code",
   "execution_count": 21,
   "metadata": {},
   "outputs": [],
   "source": [
    "for i in range(0, 20):\n",
    "    var_X_train, var_X_test, var_y_train, var_y_test = train_test_split(var, y, test_size=0.25)\n",
    "    bag_gs.fit(var_X_train, var_y_train)\n",
    "    gs_r2 = bag_gs.best_estimator_.score(var_X_test, var_y_test)\n",
    "    gs_rmse = rmse(bag_gs.best_estimator_.predict(var_X_test), var_y_test)\n",
    "    if gs_r2 > 0.56:\n",
    "        good_estimators.append(bag_gs.best_estimator_)"
   ]
  },
  {
   "cell_type": "code",
   "execution_count": 22,
   "metadata": {},
   "outputs": [],
   "source": [
    "est = list()\n",
    "samples = list()\n",
    "for model in good_estimators:\n",
    "    samples.append(model.get_params()[\"max_samples\"])\n",
    "    est.append(model.get_params()[\"n_estimators\"])"
   ]
  },
  {
   "cell_type": "code",
   "execution_count": 23,
   "metadata": {},
   "outputs": [],
   "source": [
    "num_est = int(np.mean(est))\n",
    "num_samples = np.mean(samples)"
   ]
  },
  {
   "cell_type": "code",
   "execution_count": 24,
   "metadata": {},
   "outputs": [
    {
     "name": "stdout",
     "output_type": "stream",
     "text": [
      "Number of Estimators: 59\n",
      "Ratio of Samples per bag: 0.9266666666666666\n"
     ]
    }
   ],
   "source": [
    "print(f\"Number of Estimators: {num_est}\")\n",
    "print(f\"Ratio of Samples per bag: {num_samples}\")"
   ]
  },
  {
   "cell_type": "markdown",
   "metadata": {},
   "source": [
    "# Final Model"
   ]
  },
  {
   "cell_type": "markdown",
   "metadata": {},
   "source": [
    "I think var_1 or var_2 gives the most consistent results. Use num_est for n_estimators and num_samples for max_samples (approximately 60, 0.92 respectively)."
   ]
  },
  {
   "cell_type": "code",
   "execution_count": 47,
   "metadata": {},
   "outputs": [],
   "source": [
    "var_1 = X[[\"predscores\", \"tmhalfsc\", \"opphalfsc\", \"psd\", \"sack_yd_pct\", \"int_pct\", \"sack_pct\"]]\n",
    "# var_2 = X[[\"predscores\", \"tmhalfsc\", \"opphalfsc\", \"psd\", \"yaca\", \"airya\"]]"
   ]
  },
  {
   "cell_type": "code",
   "execution_count": 39,
   "metadata": {},
   "outputs": [],
   "source": [
    "X_train, X_test, y_train, y_test = train_test_split(var_1, y, test_size=0.25)"
   ]
  },
  {
   "cell_type": "code",
   "execution_count": 40,
   "metadata": {},
   "outputs": [
    {
     "data": {
      "text/plain": [
       "BaggingRegressor(base_estimator=LinearRegression(copy_X=True, fit_intercept=True, n_jobs=None,\n",
       "         normalize=False),\n",
       "         bootstrap=True, bootstrap_features=False, max_features=1.0,\n",
       "         max_samples=0.92, n_estimators=60, n_jobs=-1, oob_score=False,\n",
       "         random_state=None, verbose=0, warm_start=False)"
      ]
     },
     "execution_count": 40,
     "metadata": {},
     "output_type": "execute_result"
    }
   ],
   "source": [
    "final_bag = BaggingRegressor(LinearRegression(), n_estimators=60, max_samples=0.92, \n",
    "                             bootstrap=True, n_jobs=-1)\n",
    "final_bag.fit(X_train, y_train)"
   ]
  },
  {
   "cell_type": "code",
   "execution_count": 41,
   "metadata": {},
   "outputs": [
    {
     "data": {
      "text/plain": [
       "[('predscores', 0.5527009284591632),\n",
       " ('tmhalfsc', 0.9262828882891901),\n",
       " ('opphalfsc', 0.03729223587860215),\n",
       " ('psd', -0.0024721784040361043),\n",
       " ('yaca', 0.021980557949145472),\n",
       " ('airya', -5.640029056032687)]"
      ]
     },
     "execution_count": 41,
     "metadata": {},
     "output_type": "execute_result"
    }
   ],
   "source": [
    "all_coefs = []\n",
    "for coef in range(len(final_bag.estimators_[0].coef_)):\n",
    "    all_coefs.append(list())\n",
    "for est in final_bag.estimators_:\n",
    "    for coef in range(len(est.coef_)):\n",
    "        all_coefs[coef].append(est.coef_[coef])\n",
    "avg_coefs = [np.mean(c) for c in all_coefs]\n",
    "coefs = var_2.columns\n",
    "list(zip(coefs, avg_coefs))"
   ]
  },
  {
   "cell_type": "code",
   "execution_count": 42,
   "metadata": {},
   "outputs": [],
   "source": [
    "bag_pred = final_bag.predict(X_test)\n",
    "for s in range(len(bag_pred)):\n",
    "    bag_pred[s] = round(bag_pred[s], 2)\n",
    "bag_rmse = rmse(bag_pred, y_test)\n",
    "bag_r2 = final_bag.score(X_test, y_test)"
   ]
  },
  {
   "cell_type": "code",
   "execution_count": 43,
   "metadata": {},
   "outputs": [
    {
     "name": "stdout",
     "output_type": "stream",
     "text": [
      "Final RMSE: 6.6403\n",
      "Final R^2: 0.5623\n"
     ]
    }
   ],
   "source": [
    "print(f\"Final RMSE: {bag_rmse:.4f}\")\n",
    "print(f\"Final R^2: {bag_r2:.4f}\")"
   ]
  },
  {
   "cell_type": "code",
   "execution_count": 44,
   "metadata": {},
   "outputs": [],
   "source": [
    "resids = y_test - bag_pred"
   ]
  },
  {
   "cell_type": "code",
   "execution_count": 45,
   "metadata": {},
   "outputs": [
    {
     "data": {
      "image/png": "[encoded data removed]",
      "text/plain": [
       "<Figure size 432x288 with 1 Axes>"
      ]
     },
     "metadata": {
      "needs_background": "light"
     },
     "output_type": "display_data"
    }
   ],
   "source": [
    "plt.hist(resids)\n",
    "plt.title(\"Residual Histogram\")\n",
    "plt.show()"
   ]
  },
  {
   "cell_type": "code",
   "execution_count": 46,
   "metadata": {},
   "outputs": [
    {
     "data": {
      "image/png": "[encoded data removed]",
      "text/plain": [
       "<Figure size 432x288 with 1 Axes>"
      ]
     },
     "metadata": {
      "needs_background": "light"
     },
     "output_type": "display_data"
    }
   ],
   "source": [
    "plt.scatter(range(len(resids)), resids, color=\"grey\")\n",
    "plt.plot(range(len(resids)), np.zeros(len(resids)), color=\"red\", linewidth=3)\n",
    "plt.ylabel(\"Residuals\")\n",
    "plt.title(\"Residual Plot\")\n",
    "plt.show()"
   ]
  },
  {
   "cell_type": "code",
   "execution_count": null,
   "metadata": {},
   "outputs": [],
   "source": []
  }
 ],
 "metadata": {
  "kernelspec": {
   "display_name": "Python 3",
   "language": "python",
   "name": "python3"
  },
  "language_info": {
   "codemirror_mode": {
    "name": "ipython",
    "version": 3
   },
   "file_extension": ".py",
   "mimetype": "text/x-python",
   "name": "python",
   "nbconvert_exporter": "python",
   "pygments_lexer": "ipython3",
   "version": "3.6.6"
  }
 },
 "nbformat": 4,
 "nbformat_minor": 2
}
