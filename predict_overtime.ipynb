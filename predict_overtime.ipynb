{
 "cells": [
  {
   "cell_type": "code",
   "execution_count": 46,
   "metadata": {},
   "outputs": [],
   "source": [
    "from sklearn.linear_model import LogisticRegression\n",
    "from sklearn.model_selection import train_test_split\n",
    "from sklearn.metrics import accuracy_score\n",
    "import pandas as pd"
   ]
  },
  {
   "cell_type": "code",
   "execution_count": 17,
   "metadata": {},
   "outputs": [
    {
     "data": {
      "text/html": [
       "<div>\n",
       "<style scoped>\n",
       "    .dataframe tbody tr th:only-of-type {\n",
       "        vertical-align: middle;\n",
       "    }\n",
       "\n",
       "    .dataframe tbody tr th {\n",
       "        vertical-align: top;\n",
       "    }\n",
       "\n",
       "    .dataframe thead th {\n",
       "        text-align: right;\n",
       "    }\n",
       "</style>\n",
       "<table border=\"1\" class=\"dataframe\">\n",
       "  <thead>\n",
       "    <tr style=\"text-align: right;\">\n",
       "      <th></th>\n",
       "      <th>Unnamed: 0</th>\n",
       "      <th>X1</th>\n",
       "      <th>h_scores</th>\n",
       "      <th>h_predscore</th>\n",
       "      <th>h_hlfscore</th>\n",
       "      <th>a_hlfscore</th>\n",
       "      <th>h_airya</th>\n",
       "      <th>h_yaca</th>\n",
       "      <th>h_psd</th>\n",
       "      <th>h_patt</th>\n",
       "      <th>...</th>\n",
       "      <th>a_psd</th>\n",
       "      <th>a_patt</th>\n",
       "      <th>a_comppct</th>\n",
       "      <th>a_ratt</th>\n",
       "      <th>a_rushsd</th>\n",
       "      <th>a_ypr</th>\n",
       "      <th>a_int_pct</th>\n",
       "      <th>a_sack_pct</th>\n",
       "      <th>a_sack_yd_pct</th>\n",
       "      <th>a_fum_pct</th>\n",
       "    </tr>\n",
       "  </thead>\n",
       "  <tbody>\n",
       "    <tr>\n",
       "      <th>0</th>\n",
       "      <td>1</td>\n",
       "      <td>1</td>\n",
       "      <td>16</td>\n",
       "      <td>24.75</td>\n",
       "      <td>6</td>\n",
       "      <td>13</td>\n",
       "      <td>2.894737</td>\n",
       "      <td>3.842105</td>\n",
       "      <td>9.688538</td>\n",
       "      <td>19</td>\n",
       "      <td>...</td>\n",
       "      <td>12.786953</td>\n",
       "      <td>16</td>\n",
       "      <td>0.562500</td>\n",
       "      <td>12</td>\n",
       "      <td>3.654335</td>\n",
       "      <td>0.250000</td>\n",
       "      <td>0.0</td>\n",
       "      <td>0.111111</td>\n",
       "      <td>-1.222222</td>\n",
       "      <td>0.033333</td>\n",
       "    </tr>\n",
       "    <tr>\n",
       "      <th>1</th>\n",
       "      <td>2</td>\n",
       "      <td>2</td>\n",
       "      <td>38</td>\n",
       "      <td>24.75</td>\n",
       "      <td>10</td>\n",
       "      <td>7</td>\n",
       "      <td>4.280000</td>\n",
       "      <td>2.720000</td>\n",
       "      <td>5.771360</td>\n",
       "      <td>25</td>\n",
       "      <td>...</td>\n",
       "      <td>6.668750</td>\n",
       "      <td>8</td>\n",
       "      <td>0.750000</td>\n",
       "      <td>11</td>\n",
       "      <td>4.069642</td>\n",
       "      <td>1.727273</td>\n",
       "      <td>0.0</td>\n",
       "      <td>0.111111</td>\n",
       "      <td>-0.666667</td>\n",
       "      <td>0.000000</td>\n",
       "    </tr>\n",
       "    <tr>\n",
       "      <th>2</th>\n",
       "      <td>3</td>\n",
       "      <td>3</td>\n",
       "      <td>20</td>\n",
       "      <td>17.75</td>\n",
       "      <td>13</td>\n",
       "      <td>10</td>\n",
       "      <td>2.636364</td>\n",
       "      <td>1.636364</td>\n",
       "      <td>5.799367</td>\n",
       "      <td>11</td>\n",
       "      <td>...</td>\n",
       "      <td>5.348773</td>\n",
       "      <td>12</td>\n",
       "      <td>0.666667</td>\n",
       "      <td>13</td>\n",
       "      <td>4.339171</td>\n",
       "      <td>3.307692</td>\n",
       "      <td>0.0</td>\n",
       "      <td>0.142857</td>\n",
       "      <td>-0.714286</td>\n",
       "      <td>0.000000</td>\n",
       "    </tr>\n",
       "    <tr>\n",
       "      <th>3</th>\n",
       "      <td>4</td>\n",
       "      <td>4</td>\n",
       "      <td>7</td>\n",
       "      <td>24.75</td>\n",
       "      <td>0</td>\n",
       "      <td>10</td>\n",
       "      <td>1.333333</td>\n",
       "      <td>4.133333</td>\n",
       "      <td>5.473573</td>\n",
       "      <td>15</td>\n",
       "      <td>...</td>\n",
       "      <td>8.022695</td>\n",
       "      <td>20</td>\n",
       "      <td>0.550000</td>\n",
       "      <td>15</td>\n",
       "      <td>4.878069</td>\n",
       "      <td>2.733333</td>\n",
       "      <td>0.0</td>\n",
       "      <td>0.000000</td>\n",
       "      <td>0.000000</td>\n",
       "      <td>0.028571</td>\n",
       "    </tr>\n",
       "    <tr>\n",
       "      <th>4</th>\n",
       "      <td>5</td>\n",
       "      <td>5</td>\n",
       "      <td>14</td>\n",
       "      <td>25.50</td>\n",
       "      <td>7</td>\n",
       "      <td>6</td>\n",
       "      <td>4.047619</td>\n",
       "      <td>4.285714</td>\n",
       "      <td>9.140873</td>\n",
       "      <td>21</td>\n",
       "      <td>...</td>\n",
       "      <td>7.169379</td>\n",
       "      <td>14</td>\n",
       "      <td>0.714286</td>\n",
       "      <td>11</td>\n",
       "      <td>6.916264</td>\n",
       "      <td>5.272727</td>\n",
       "      <td>0.0</td>\n",
       "      <td>0.066667</td>\n",
       "      <td>-0.533333</td>\n",
       "      <td>0.000000</td>\n",
       "    </tr>\n",
       "  </tbody>\n",
       "</table>\n",
       "<p>5 rows × 33 columns</p>\n",
       "</div>"
      ],
      "text/plain": [
       "   Unnamed: 0  X1  h_scores  h_predscore  h_hlfscore  a_hlfscore   h_airya  \\\n",
       "0           1   1        16        24.75           6          13  2.894737   \n",
       "1           2   2        38        24.75          10           7  4.280000   \n",
       "2           3   3        20        17.75          13          10  2.636364   \n",
       "3           4   4         7        24.75           0          10  1.333333   \n",
       "4           5   5        14        25.50           7           6  4.047619   \n",
       "\n",
       "     h_yaca     h_psd  h_patt    ...          a_psd  a_patt  a_comppct  \\\n",
       "0  3.842105  9.688538      19    ...      12.786953      16   0.562500   \n",
       "1  2.720000  5.771360      25    ...       6.668750       8   0.750000   \n",
       "2  1.636364  5.799367      11    ...       5.348773      12   0.666667   \n",
       "3  4.133333  5.473573      15    ...       8.022695      20   0.550000   \n",
       "4  4.285714  9.140873      21    ...       7.169379      14   0.714286   \n",
       "\n",
       "   a_ratt  a_rushsd     a_ypr  a_int_pct  a_sack_pct  a_sack_yd_pct  a_fum_pct  \n",
       "0      12  3.654335  0.250000        0.0    0.111111      -1.222222   0.033333  \n",
       "1      11  4.069642  1.727273        0.0    0.111111      -0.666667   0.000000  \n",
       "2      13  4.339171  3.307692        0.0    0.142857      -0.714286   0.000000  \n",
       "3      15  4.878069  2.733333        0.0    0.000000       0.000000   0.028571  \n",
       "4      11  6.916264  5.272727        0.0    0.066667      -0.533333   0.000000  \n",
       "\n",
       "[5 rows x 33 columns]"
      ]
     },
     "execution_count": 17,
     "metadata": {},
     "output_type": "execute_result"
    }
   ],
   "source": [
    "nfl_data = pd.read_csv('wide_ot.csv')\n",
    "nfl_data.head()"
   ]
  },
  {
   "cell_type": "code",
   "execution_count": 41,
   "metadata": {},
   "outputs": [],
   "source": [
    "y = nfl_data[['ot']]\n",
    "X = nfl_data[['h_predscore','h_hlfscore','a_hlfscore',\n",
    "                                 'h_airya','h_yaca','h_psd','h_patt','h_comppct','h_ratt',\n",
    "                                 'h_rushsd','h_ypr','h_int_pct','h_sack_pct','h_sack_yd_pct',\n",
    "                                 'h_fum_pct','a_predscore',\n",
    "                                 'a_airya','a_yaca','a_psd','a_patt','a_comppct','a_ratt',\n",
    "                                 'a_rushsd','a_ypr','a_int_pct','a_sack_pct','a_sack_yd_pct',\n",
    "                                 'a_fum_pct']]"
   ]
  },
  {
   "cell_type": "code",
   "execution_count": 42,
   "metadata": {},
   "outputs": [],
   "source": [
    "X_train, X_test, y_train, y_test = train_test_split(X,y)"
   ]
  },
  {
   "cell_type": "code",
   "execution_count": 44,
   "metadata": {},
   "outputs": [
    {
     "name": "stderr",
     "output_type": "stream",
     "text": [
      "/Users/brianwright/anaconda3/lib/python3.6/site-packages/sklearn/linear_model/logistic.py:433: FutureWarning: Default solver will be changed to 'lbfgs' in 0.22. Specify a solver to silence this warning.\n",
      "  FutureWarning)\n"
     ]
    }
   ],
   "source": [
    "ot_log = LogisticRegression()\n",
    "ot_log.fit(X_train,y_train.values.ravel())\n",
    "pred = ot_log.predict(X_test)"
   ]
  },
  {
   "cell_type": "code",
   "execution_count": 47,
   "metadata": {},
   "outputs": [
    {
     "data": {
      "text/plain": [
       "0.8967391304347826"
      ]
     },
     "execution_count": 47,
     "metadata": {},
     "output_type": "execute_result"
    }
   ],
   "source": [
    "accuracy_score(pred,y_test)"
   ]
  },
  {
   "cell_type": "code",
   "execution_count": null,
   "metadata": {},
   "outputs": [],
   "source": []
  }
 ],
 "metadata": {
  "kernelspec": {
   "display_name": "Python 3",
   "language": "python",
   "name": "python3"
  },
  "language_info": {
   "codemirror_mode": {
    "name": "ipython",
    "version": 3
   },
   "file_extension": ".py",
   "mimetype": "text/x-python",
   "name": "python",
   "nbconvert_exporter": "python",
   "pygments_lexer": "ipython3",
   "version": "3.6.5"
  }
 },
 "nbformat": 4,
 "nbformat_minor": 2
}
