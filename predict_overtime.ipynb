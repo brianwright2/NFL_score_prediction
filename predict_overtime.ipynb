{
 "cells": [
  {
   "cell_type": "code",
   "execution_count": 34,
   "metadata": {
    "ExecuteTime": {
     "end_time": "2018-12-05T01:53:58.401187Z",
     "start_time": "2018-12-05T01:53:58.396472Z"
    }
   },
   "outputs": [],
   "source": [
    "from sklearn.linear_model import LogisticRegression\n",
    "from sklearn.model_selection import train_test_split\n",
    "from sklearn.metrics import accuracy_score\n",
    "from sklearn.metrics import confusion_matrix\n",
    "import pandas as pd"
   ]
  },
  {
   "cell_type": "code",
   "execution_count": 16,
   "metadata": {
    "ExecuteTime": {
     "end_time": "2018-12-05T01:43:45.324867Z",
     "start_time": "2018-12-05T01:43:45.300831Z"
    }
   },
   "outputs": [
    {
     "data": {
      "text/plain": [
       "(1469, 31)"
      ]
     },
     "execution_count": 16,
     "metadata": {},
     "output_type": "execute_result"
    }
   ],
   "source": [
    "nfl_data = pd.read_csv('wide_ot.csv', index_col=0)\n",
    "nfl_data.drop('X1', axis=1, inplace=True)\n",
    "nfl_data.shape"
   ]
  },
  {
   "cell_type": "code",
   "execution_count": 26,
   "metadata": {
    "ExecuteTime": {
     "end_time": "2018-12-05T01:44:25.595682Z",
     "start_time": "2018-12-05T01:44:25.590554Z"
    }
   },
   "outputs": [],
   "source": [
    "y = nfl_data['ot']\n",
    "# X = nfl_data.drop(['ot','h_scores','a_scores'], axis=1)\n",
    "X = nfl_data[['h_predscore','a_predscore','h_hlfscore','a_hlfscore']]"
   ]
  },
  {
   "cell_type": "code",
   "execution_count": 27,
   "metadata": {
    "ExecuteTime": {
     "end_time": "2018-12-05T01:44:26.595728Z",
     "start_time": "2018-12-05T01:44:26.589652Z"
    }
   },
   "outputs": [],
   "source": [
    "X_train, X_test, y_train, y_test = train_test_split(X,y, random_state=42)"
   ]
  },
  {
   "cell_type": "code",
   "execution_count": 40,
   "metadata": {
    "ExecuteTime": {
     "end_time": "2018-12-05T01:54:47.790752Z",
     "start_time": "2018-12-05T01:54:47.777796Z"
    }
   },
   "outputs": [],
   "source": [
    "ot_log = LogisticRegression(solver='lbfgs', max_iter=1000, class_weight={1: 10})\n",
    "ot_log.fit(X_train,y_train.values.ravel())\n",
    "pred = ot_log.predict(X_test)"
   ]
  },
  {
   "cell_type": "code",
   "execution_count": 41,
   "metadata": {
    "ExecuteTime": {
     "end_time": "2018-12-05T01:54:48.295812Z",
     "start_time": "2018-12-05T01:54:48.289091Z"
    }
   },
   "outputs": [
    {
     "data": {
      "text/plain": [
       "0.6494565217391305"
      ]
     },
     "execution_count": 41,
     "metadata": {},
     "output_type": "execute_result"
    }
   ],
   "source": [
    "accuracy_score(pred,y_test)"
   ]
  },
  {
   "cell_type": "code",
   "execution_count": 42,
   "metadata": {
    "ExecuteTime": {
     "end_time": "2018-12-05T01:54:48.489232Z",
     "start_time": "2018-12-05T01:54:48.477133Z"
    }
   },
   "outputs": [
    {
     "data": {
      "text/html": [
       "<div>\n",
       "<style scoped>\n",
       "    .dataframe tbody tr th:only-of-type {\n",
       "        vertical-align: middle;\n",
       "    }\n",
       "\n",
       "    .dataframe tbody tr th {\n",
       "        vertical-align: top;\n",
       "    }\n",
       "\n",
       "    .dataframe thead th {\n",
       "        text-align: right;\n",
       "    }\n",
       "</style>\n",
       "<table border=\"1\" class=\"dataframe\">\n",
       "  <thead>\n",
       "    <tr style=\"text-align: right;\">\n",
       "      <th></th>\n",
       "      <th>pred no ot</th>\n",
       "      <th>pred ot</th>\n",
       "    </tr>\n",
       "  </thead>\n",
       "  <tbody>\n",
       "    <tr>\n",
       "      <th>no ot</th>\n",
       "      <td>226</td>\n",
       "      <td>104</td>\n",
       "    </tr>\n",
       "    <tr>\n",
       "      <th>ot</th>\n",
       "      <td>25</td>\n",
       "      <td>13</td>\n",
       "    </tr>\n",
       "  </tbody>\n",
       "</table>\n",
       "</div>"
      ],
      "text/plain": [
       "       pred no ot  pred ot\n",
       "no ot         226      104\n",
       "ot             25       13"
      ]
     },
     "execution_count": 42,
     "metadata": {},
     "output_type": "execute_result"
    }
   ],
   "source": [
    "conf_mtx = confusion_matrix(y_test, pred)\n",
    "pd.DataFrame(conf_mtx, columns=[\"pred no ot\", \"pred ot\"], index=[\"no ot\", \"ot\"])"
   ]
  },
  {
   "cell_type": "code",
   "execution_count": null,
   "metadata": {},
   "outputs": [],
   "source": []
  }
 ],
 "metadata": {
  "kernelspec": {
   "display_name": "Python 3",
   "language": "python",
   "name": "python3"
  },
  "toc": {
   "base_numbering": 1,
   "nav_menu": {},
   "number_sections": true,
   "sideBar": true,
   "skip_h1_title": false,
   "title_cell": "Table of Contents",
   "title_sidebar": "Contents",
   "toc_cell": false,
   "toc_position": {},
   "toc_section_display": true,
   "toc_window_display": false
  }
 },
 "nbformat": 4,
 "nbformat_minor": 2
}
